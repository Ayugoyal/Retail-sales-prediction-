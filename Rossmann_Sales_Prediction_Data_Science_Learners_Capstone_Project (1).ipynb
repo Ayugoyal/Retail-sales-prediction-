{
  "nbformat": 4,
  "nbformat_minor": 0,
  "metadata": {
    "kernelspec": {
      "display_name": "Python 3",
      "language": "python",
      "name": "python3"
    },
    "language_info": {
      "codemirror_mode": {
        "name": "ipython",
        "version": 3
      },
      "file_extension": ".py",
      "mimetype": "text/x-python",
      "name": "python",
      "nbconvert_exporter": "python",
      "pygments_lexer": "ipython3",
      "version": "3.6.6"
    },
    "colab": {
      "provenance": [],
      "collapsed_sections": []
    }
  },
  "cells": [
    {
      "cell_type": "markdown",
      "metadata": {
        "id": "tOGC-qoyhJeX"
      },
      "source": [
        "# <b><u> Project Title : Sales Prediction : Predicting sales of a major store chain Rossmann</u></b>"
      ]
    },
    {
      "cell_type": "markdown",
      "metadata": {
        "id": "Y06xIdG26kRF"
      },
      "source": [
        "## <b> Problem Description </b>\n",
        "\n",
        "### Rossmann operates over 3,000 drug stores in 7 European countries. Currently, Rossmann store managers are tasked with predicting their daily sales for up to six weeks in advance. Store sales are influenced by many factors, including promotions, competition, school and state holidays, seasonality, and locality. With thousands of individual managers predicting sales based on their unique circumstances, the accuracy of results can be quite varied.\n",
        "\n",
        "### You are provided with historical sales data for 1,115 Rossmann stores. The task is to forecast the \"Sales\" column for the test set. Note that some stores in the dataset were temporarily closed for refurbishment."
      ]
    },
    {
      "cell_type": "markdown",
      "metadata": {
        "id": "WWeU1f9bwqQq"
      },
      "source": [
        "## <b> Data Description </b>\n",
        "\n",
        "### <b>Rossmann Stores Data.csv </b> - historical data including Sales\n",
        "### <b>store.csv </b> - supplemental information about the stores\n",
        "\n",
        "\n",
        "### <b><u>Data fields</u></b>\n",
        "### Most of the fields are self-explanatory. The following are descriptions for those that aren't.\n",
        "\n",
        "* #### Id - an Id that represents a (Store, Date) duple within the test set\n",
        "* #### Store - a unique Id for each store\n",
        "* #### Sales - the turnover for any given day (this is what you are predicting)\n",
        "* #### Customers - the number of customers on a given day\n",
        "* #### Open - an indicator for whether the store was open: 0 = closed, 1 = open\n",
        "* #### StateHoliday - indicates a state holiday. Normally all stores, with few exceptions, are closed on state holidays. Note that all schools are closed on public holidays and weekends. a = public holiday, b = Easter holiday, c = Christmas, 0 = None\n",
        "* #### SchoolHoliday - indicates if the (Store, Date) was affected by the closure of public schools\n",
        "* #### StoreType - differentiates between 4 different store models: a, b, c, d\n",
        "* #### Assortment - describes an assortment level: a = basic, b = extra, c = extended\n",
        "* #### CompetitionDistance - distance in meters to the nearest competitor store\n",
        "* #### CompetitionOpenSince[Month/Year] - gives the approximate year and month of the time the nearest competitor was opened\n",
        "* #### Promo - indicates whether a store is running a promo on that day\n",
        "* #### Promo2 - Promo2 is a continuing and consecutive promotion for some stores: 0 = store is not participating, 1 = store is participating\n",
        "* #### Promo2Since[Year/Week] - describes the year and calendar week when the store started participating in Promo2\n",
        "* #### PromoInterval - describes the consecutive intervals Promo2 is started, naming the months the promotion is started anew. E.g. \"Feb,May,Aug,Nov\" means each round starts in February, May, August, November of any given year for that store"
      ]
    },
    {
      "cell_type": "markdown",
      "source": [
        "**Rossmann Sales Dataset** - This dataset is a live dataset of Rossmann Stores. On analysing this problem we observe that rossmann problem is a regression problem and our primarily goal is to predict the sales figures of Rossmann problem. In this Notebook we work on following topics Analysing the dataset by using Exploratory Data Analysis using exponential moving averages analyse trends and seasonality in Rossmann dataset Analyse Regression using following prediction analysis. A) Linear Regression Analysis B)Elastic Regression (Lasso & Ridge Regression). C) Dession tree   "
      ],
      "metadata": {
        "id": "2Ich2GLzbLw3"
      }
    },
    {
      "cell_type": "code",
      "metadata": {
        "id": "dByMsuzT8Tnw"
      },
      "source": [
        "import numpy as np\n",
        "import pandas as pd \n",
        "import matplotlib.pyplot as plt\n",
        "import seaborn as sns\n",
        "import pylab\n",
        "from scipy import stats "
      ],
      "execution_count": null,
      "outputs": []
    },
    {
      "cell_type": "code",
      "source": [
        "from google.colab import drive\n",
        "drive.mount('/content/drive')"
      ],
      "metadata": {
        "colab": {
          "base_uri": "https://localhost:8080/"
        },
        "id": "gW-K8U9IdlJZ",
        "outputId": "cdbb14ce-ebe6-4a70-ed2a-ec2839c481c2"
      },
      "execution_count": null,
      "outputs": [
        {
          "output_type": "stream",
          "name": "stdout",
          "text": [
            "Mounted at /content/drive\n"
          ]
        }
      ]
    },
    {
      "cell_type": "code",
      "source": [
        "File_directory = '/content/drive/MyDrive/Colab Notebooks/retail sales prediction/'\n",
        "rossmann_df = pd.read_csv(File_directory + 'Copy of Rossmann Stores Data.csv')\n",
        "store_df = pd.read_csv(File_directory + 'Copy of store.csv')"
      ],
      "metadata": {
        "colab": {
          "base_uri": "https://localhost:8080/"
        },
        "id": "3hDHoUW-dwhU",
        "outputId": "00ef29ba-04ed-4d15-afc1-76ddbf570282"
      },
      "execution_count": null,
      "outputs": [
        {
          "output_type": "stream",
          "name": "stderr",
          "text": [
            "/usr/local/lib/python3.7/dist-packages/IPython/core/interactiveshell.py:3326: DtypeWarning: Columns (7) have mixed types.Specify dtype option on import or set low_memory=False.\n",
            "  exec(code_obj, self.user_global_ns, self.user_ns)\n"
          ]
        }
      ]
    },
    {
      "cell_type": "code",
      "source": [
        "rossmann_df.shape"
      ],
      "metadata": {
        "colab": {
          "base_uri": "https://localhost:8080/"
        },
        "id": "Y02LjaYqfAzR",
        "outputId": "44222a19-a54b-49aa-9c9e-fb5f3100d85b"
      },
      "execution_count": null,
      "outputs": [
        {
          "output_type": "execute_result",
          "data": {
            "text/plain": [
              "(1017209, 9)"
            ]
          },
          "metadata": {},
          "execution_count": 4
        }
      ]
    },
    {
      "cell_type": "markdown",
      "source": [
        "We see here that the rossmann dataset consists of 1017209 values and 9 features"
      ],
      "metadata": {
        "id": "WZ_0_k4WIPDC"
      }
    },
    {
      "cell_type": "code",
      "source": [
        "rossmann_df.head()"
      ],
      "metadata": {
        "id": "5cLdvg2BgLzE",
        "colab": {
          "base_uri": "https://localhost:8080/",
          "height": 206
        },
        "outputId": "3ef775c6-233c-4f5a-f17f-5376aa01983f"
      },
      "execution_count": null,
      "outputs": [
        {
          "output_type": "execute_result",
          "data": {
            "text/plain": [
              "   Store  DayOfWeek        Date  Sales  Customers  Open  Promo StateHoliday  \\\n",
              "0      1          5  2015-07-31   5263        555     1      1            0   \n",
              "1      2          5  2015-07-31   6064        625     1      1            0   \n",
              "2      3          5  2015-07-31   8314        821     1      1            0   \n",
              "3      4          5  2015-07-31  13995       1498     1      1            0   \n",
              "4      5          5  2015-07-31   4822        559     1      1            0   \n",
              "\n",
              "   SchoolHoliday  \n",
              "0              1  \n",
              "1              1  \n",
              "2              1  \n",
              "3              1  \n",
              "4              1  "
            ],
            "text/html": [
              "\n",
              "  <div id=\"df-ec369859-3164-4216-b5a7-427e836ee099\">\n",
              "    <div class=\"colab-df-container\">\n",
              "      <div>\n",
              "<style scoped>\n",
              "    .dataframe tbody tr th:only-of-type {\n",
              "        vertical-align: middle;\n",
              "    }\n",
              "\n",
              "    .dataframe tbody tr th {\n",
              "        vertical-align: top;\n",
              "    }\n",
              "\n",
              "    .dataframe thead th {\n",
              "        text-align: right;\n",
              "    }\n",
              "</style>\n",
              "<table border=\"1\" class=\"dataframe\">\n",
              "  <thead>\n",
              "    <tr style=\"text-align: right;\">\n",
              "      <th></th>\n",
              "      <th>Store</th>\n",
              "      <th>DayOfWeek</th>\n",
              "      <th>Date</th>\n",
              "      <th>Sales</th>\n",
              "      <th>Customers</th>\n",
              "      <th>Open</th>\n",
              "      <th>Promo</th>\n",
              "      <th>StateHoliday</th>\n",
              "      <th>SchoolHoliday</th>\n",
              "    </tr>\n",
              "  </thead>\n",
              "  <tbody>\n",
              "    <tr>\n",
              "      <th>0</th>\n",
              "      <td>1</td>\n",
              "      <td>5</td>\n",
              "      <td>2015-07-31</td>\n",
              "      <td>5263</td>\n",
              "      <td>555</td>\n",
              "      <td>1</td>\n",
              "      <td>1</td>\n",
              "      <td>0</td>\n",
              "      <td>1</td>\n",
              "    </tr>\n",
              "    <tr>\n",
              "      <th>1</th>\n",
              "      <td>2</td>\n",
              "      <td>5</td>\n",
              "      <td>2015-07-31</td>\n",
              "      <td>6064</td>\n",
              "      <td>625</td>\n",
              "      <td>1</td>\n",
              "      <td>1</td>\n",
              "      <td>0</td>\n",
              "      <td>1</td>\n",
              "    </tr>\n",
              "    <tr>\n",
              "      <th>2</th>\n",
              "      <td>3</td>\n",
              "      <td>5</td>\n",
              "      <td>2015-07-31</td>\n",
              "      <td>8314</td>\n",
              "      <td>821</td>\n",
              "      <td>1</td>\n",
              "      <td>1</td>\n",
              "      <td>0</td>\n",
              "      <td>1</td>\n",
              "    </tr>\n",
              "    <tr>\n",
              "      <th>3</th>\n",
              "      <td>4</td>\n",
              "      <td>5</td>\n",
              "      <td>2015-07-31</td>\n",
              "      <td>13995</td>\n",
              "      <td>1498</td>\n",
              "      <td>1</td>\n",
              "      <td>1</td>\n",
              "      <td>0</td>\n",
              "      <td>1</td>\n",
              "    </tr>\n",
              "    <tr>\n",
              "      <th>4</th>\n",
              "      <td>5</td>\n",
              "      <td>5</td>\n",
              "      <td>2015-07-31</td>\n",
              "      <td>4822</td>\n",
              "      <td>559</td>\n",
              "      <td>1</td>\n",
              "      <td>1</td>\n",
              "      <td>0</td>\n",
              "      <td>1</td>\n",
              "    </tr>\n",
              "  </tbody>\n",
              "</table>\n",
              "</div>\n",
              "      <button class=\"colab-df-convert\" onclick=\"convertToInteractive('df-ec369859-3164-4216-b5a7-427e836ee099')\"\n",
              "              title=\"Convert this dataframe to an interactive table.\"\n",
              "              style=\"display:none;\">\n",
              "        \n",
              "  <svg xmlns=\"http://www.w3.org/2000/svg\" height=\"24px\"viewBox=\"0 0 24 24\"\n",
              "       width=\"24px\">\n",
              "    <path d=\"M0 0h24v24H0V0z\" fill=\"none\"/>\n",
              "    <path d=\"M18.56 5.44l.94 2.06.94-2.06 2.06-.94-2.06-.94-.94-2.06-.94 2.06-2.06.94zm-11 1L8.5 8.5l.94-2.06 2.06-.94-2.06-.94L8.5 2.5l-.94 2.06-2.06.94zm10 10l.94 2.06.94-2.06 2.06-.94-2.06-.94-.94-2.06-.94 2.06-2.06.94z\"/><path d=\"M17.41 7.96l-1.37-1.37c-.4-.4-.92-.59-1.43-.59-.52 0-1.04.2-1.43.59L10.3 9.45l-7.72 7.72c-.78.78-.78 2.05 0 2.83L4 21.41c.39.39.9.59 1.41.59.51 0 1.02-.2 1.41-.59l7.78-7.78 2.81-2.81c.8-.78.8-2.07 0-2.86zM5.41 20L4 18.59l7.72-7.72 1.47 1.35L5.41 20z\"/>\n",
              "  </svg>\n",
              "      </button>\n",
              "      \n",
              "  <style>\n",
              "    .colab-df-container {\n",
              "      display:flex;\n",
              "      flex-wrap:wrap;\n",
              "      gap: 12px;\n",
              "    }\n",
              "\n",
              "    .colab-df-convert {\n",
              "      background-color: #E8F0FE;\n",
              "      border: none;\n",
              "      border-radius: 50%;\n",
              "      cursor: pointer;\n",
              "      display: none;\n",
              "      fill: #1967D2;\n",
              "      height: 32px;\n",
              "      padding: 0 0 0 0;\n",
              "      width: 32px;\n",
              "    }\n",
              "\n",
              "    .colab-df-convert:hover {\n",
              "      background-color: #E2EBFA;\n",
              "      box-shadow: 0px 1px 2px rgba(60, 64, 67, 0.3), 0px 1px 3px 1px rgba(60, 64, 67, 0.15);\n",
              "      fill: #174EA6;\n",
              "    }\n",
              "\n",
              "    [theme=dark] .colab-df-convert {\n",
              "      background-color: #3B4455;\n",
              "      fill: #D2E3FC;\n",
              "    }\n",
              "\n",
              "    [theme=dark] .colab-df-convert:hover {\n",
              "      background-color: #434B5C;\n",
              "      box-shadow: 0px 1px 3px 1px rgba(0, 0, 0, 0.15);\n",
              "      filter: drop-shadow(0px 1px 2px rgba(0, 0, 0, 0.3));\n",
              "      fill: #FFFFFF;\n",
              "    }\n",
              "  </style>\n",
              "\n",
              "      <script>\n",
              "        const buttonEl =\n",
              "          document.querySelector('#df-ec369859-3164-4216-b5a7-427e836ee099 button.colab-df-convert');\n",
              "        buttonEl.style.display =\n",
              "          google.colab.kernel.accessAllowed ? 'block' : 'none';\n",
              "\n",
              "        async function convertToInteractive(key) {\n",
              "          const element = document.querySelector('#df-ec369859-3164-4216-b5a7-427e836ee099');\n",
              "          const dataTable =\n",
              "            await google.colab.kernel.invokeFunction('convertToInteractive',\n",
              "                                                     [key], {});\n",
              "          if (!dataTable) return;\n",
              "\n",
              "          const docLinkHtml = 'Like what you see? Visit the ' +\n",
              "            '<a target=\"_blank\" href=https://colab.research.google.com/notebooks/data_table.ipynb>data table notebook</a>'\n",
              "            + ' to learn more about interactive tables.';\n",
              "          element.innerHTML = '';\n",
              "          dataTable['output_type'] = 'display_data';\n",
              "          await google.colab.output.renderOutput(dataTable, element);\n",
              "          const docLink = document.createElement('div');\n",
              "          docLink.innerHTML = docLinkHtml;\n",
              "          element.appendChild(docLink);\n",
              "        }\n",
              "      </script>\n",
              "    </div>\n",
              "  </div>\n",
              "  "
            ]
          },
          "metadata": {},
          "execution_count": 5
        }
      ]
    },
    {
      "cell_type": "code",
      "source": [
        "rossmann_df.info()"
      ],
      "metadata": {
        "colab": {
          "base_uri": "https://localhost:8080/"
        },
        "id": "22tr81A5IkfM",
        "outputId": "be543b9b-14fc-487a-9f8b-551b1846b6ad"
      },
      "execution_count": null,
      "outputs": [
        {
          "output_type": "stream",
          "name": "stdout",
          "text": [
            "<class 'pandas.core.frame.DataFrame'>\n",
            "RangeIndex: 1017209 entries, 0 to 1017208\n",
            "Data columns (total 9 columns):\n",
            " #   Column         Non-Null Count    Dtype \n",
            "---  ------         --------------    ----- \n",
            " 0   Store          1017209 non-null  int64 \n",
            " 1   DayOfWeek      1017209 non-null  int64 \n",
            " 2   Date           1017209 non-null  object\n",
            " 3   Sales          1017209 non-null  int64 \n",
            " 4   Customers      1017209 non-null  int64 \n",
            " 5   Open           1017209 non-null  int64 \n",
            " 6   Promo          1017209 non-null  int64 \n",
            " 7   StateHoliday   1017209 non-null  object\n",
            " 8   SchoolHoliday  1017209 non-null  int64 \n",
            "dtypes: int64(7), object(2)\n",
            "memory usage: 69.8+ MB\n"
          ]
        }
      ]
    },
    {
      "cell_type": "code",
      "source": [
        "store_df.head()"
      ],
      "metadata": {
        "colab": {
          "base_uri": "https://localhost:8080/",
          "height": 206
        },
        "id": "LVfGDa5UIplS",
        "outputId": "8b8a8c3c-1325-4946-97a4-522e6d1b6686"
      },
      "execution_count": null,
      "outputs": [
        {
          "output_type": "execute_result",
          "data": {
            "text/plain": [
              "   Store StoreType Assortment  CompetitionDistance  CompetitionOpenSinceMonth  \\\n",
              "0      1         c          a               1270.0                        9.0   \n",
              "1      2         a          a                570.0                       11.0   \n",
              "2      3         a          a              14130.0                       12.0   \n",
              "3      4         c          c                620.0                        9.0   \n",
              "4      5         a          a              29910.0                        4.0   \n",
              "\n",
              "   CompetitionOpenSinceYear  Promo2  Promo2SinceWeek  Promo2SinceYear  \\\n",
              "0                    2008.0       0              NaN              NaN   \n",
              "1                    2007.0       1             13.0           2010.0   \n",
              "2                    2006.0       1             14.0           2011.0   \n",
              "3                    2009.0       0              NaN              NaN   \n",
              "4                    2015.0       0              NaN              NaN   \n",
              "\n",
              "     PromoInterval  \n",
              "0              NaN  \n",
              "1  Jan,Apr,Jul,Oct  \n",
              "2  Jan,Apr,Jul,Oct  \n",
              "3              NaN  \n",
              "4              NaN  "
            ],
            "text/html": [
              "\n",
              "  <div id=\"df-7d750120-0231-4d78-9731-edaf0b18caed\">\n",
              "    <div class=\"colab-df-container\">\n",
              "      <div>\n",
              "<style scoped>\n",
              "    .dataframe tbody tr th:only-of-type {\n",
              "        vertical-align: middle;\n",
              "    }\n",
              "\n",
              "    .dataframe tbody tr th {\n",
              "        vertical-align: top;\n",
              "    }\n",
              "\n",
              "    .dataframe thead th {\n",
              "        text-align: right;\n",
              "    }\n",
              "</style>\n",
              "<table border=\"1\" class=\"dataframe\">\n",
              "  <thead>\n",
              "    <tr style=\"text-align: right;\">\n",
              "      <th></th>\n",
              "      <th>Store</th>\n",
              "      <th>StoreType</th>\n",
              "      <th>Assortment</th>\n",
              "      <th>CompetitionDistance</th>\n",
              "      <th>CompetitionOpenSinceMonth</th>\n",
              "      <th>CompetitionOpenSinceYear</th>\n",
              "      <th>Promo2</th>\n",
              "      <th>Promo2SinceWeek</th>\n",
              "      <th>Promo2SinceYear</th>\n",
              "      <th>PromoInterval</th>\n",
              "    </tr>\n",
              "  </thead>\n",
              "  <tbody>\n",
              "    <tr>\n",
              "      <th>0</th>\n",
              "      <td>1</td>\n",
              "      <td>c</td>\n",
              "      <td>a</td>\n",
              "      <td>1270.0</td>\n",
              "      <td>9.0</td>\n",
              "      <td>2008.0</td>\n",
              "      <td>0</td>\n",
              "      <td>NaN</td>\n",
              "      <td>NaN</td>\n",
              "      <td>NaN</td>\n",
              "    </tr>\n",
              "    <tr>\n",
              "      <th>1</th>\n",
              "      <td>2</td>\n",
              "      <td>a</td>\n",
              "      <td>a</td>\n",
              "      <td>570.0</td>\n",
              "      <td>11.0</td>\n",
              "      <td>2007.0</td>\n",
              "      <td>1</td>\n",
              "      <td>13.0</td>\n",
              "      <td>2010.0</td>\n",
              "      <td>Jan,Apr,Jul,Oct</td>\n",
              "    </tr>\n",
              "    <tr>\n",
              "      <th>2</th>\n",
              "      <td>3</td>\n",
              "      <td>a</td>\n",
              "      <td>a</td>\n",
              "      <td>14130.0</td>\n",
              "      <td>12.0</td>\n",
              "      <td>2006.0</td>\n",
              "      <td>1</td>\n",
              "      <td>14.0</td>\n",
              "      <td>2011.0</td>\n",
              "      <td>Jan,Apr,Jul,Oct</td>\n",
              "    </tr>\n",
              "    <tr>\n",
              "      <th>3</th>\n",
              "      <td>4</td>\n",
              "      <td>c</td>\n",
              "      <td>c</td>\n",
              "      <td>620.0</td>\n",
              "      <td>9.0</td>\n",
              "      <td>2009.0</td>\n",
              "      <td>0</td>\n",
              "      <td>NaN</td>\n",
              "      <td>NaN</td>\n",
              "      <td>NaN</td>\n",
              "    </tr>\n",
              "    <tr>\n",
              "      <th>4</th>\n",
              "      <td>5</td>\n",
              "      <td>a</td>\n",
              "      <td>a</td>\n",
              "      <td>29910.0</td>\n",
              "      <td>4.0</td>\n",
              "      <td>2015.0</td>\n",
              "      <td>0</td>\n",
              "      <td>NaN</td>\n",
              "      <td>NaN</td>\n",
              "      <td>NaN</td>\n",
              "    </tr>\n",
              "  </tbody>\n",
              "</table>\n",
              "</div>\n",
              "      <button class=\"colab-df-convert\" onclick=\"convertToInteractive('df-7d750120-0231-4d78-9731-edaf0b18caed')\"\n",
              "              title=\"Convert this dataframe to an interactive table.\"\n",
              "              style=\"display:none;\">\n",
              "        \n",
              "  <svg xmlns=\"http://www.w3.org/2000/svg\" height=\"24px\"viewBox=\"0 0 24 24\"\n",
              "       width=\"24px\">\n",
              "    <path d=\"M0 0h24v24H0V0z\" fill=\"none\"/>\n",
              "    <path d=\"M18.56 5.44l.94 2.06.94-2.06 2.06-.94-2.06-.94-.94-2.06-.94 2.06-2.06.94zm-11 1L8.5 8.5l.94-2.06 2.06-.94-2.06-.94L8.5 2.5l-.94 2.06-2.06.94zm10 10l.94 2.06.94-2.06 2.06-.94-2.06-.94-.94-2.06-.94 2.06-2.06.94z\"/><path d=\"M17.41 7.96l-1.37-1.37c-.4-.4-.92-.59-1.43-.59-.52 0-1.04.2-1.43.59L10.3 9.45l-7.72 7.72c-.78.78-.78 2.05 0 2.83L4 21.41c.39.39.9.59 1.41.59.51 0 1.02-.2 1.41-.59l7.78-7.78 2.81-2.81c.8-.78.8-2.07 0-2.86zM5.41 20L4 18.59l7.72-7.72 1.47 1.35L5.41 20z\"/>\n",
              "  </svg>\n",
              "      </button>\n",
              "      \n",
              "  <style>\n",
              "    .colab-df-container {\n",
              "      display:flex;\n",
              "      flex-wrap:wrap;\n",
              "      gap: 12px;\n",
              "    }\n",
              "\n",
              "    .colab-df-convert {\n",
              "      background-color: #E8F0FE;\n",
              "      border: none;\n",
              "      border-radius: 50%;\n",
              "      cursor: pointer;\n",
              "      display: none;\n",
              "      fill: #1967D2;\n",
              "      height: 32px;\n",
              "      padding: 0 0 0 0;\n",
              "      width: 32px;\n",
              "    }\n",
              "\n",
              "    .colab-df-convert:hover {\n",
              "      background-color: #E2EBFA;\n",
              "      box-shadow: 0px 1px 2px rgba(60, 64, 67, 0.3), 0px 1px 3px 1px rgba(60, 64, 67, 0.15);\n",
              "      fill: #174EA6;\n",
              "    }\n",
              "\n",
              "    [theme=dark] .colab-df-convert {\n",
              "      background-color: #3B4455;\n",
              "      fill: #D2E3FC;\n",
              "    }\n",
              "\n",
              "    [theme=dark] .colab-df-convert:hover {\n",
              "      background-color: #434B5C;\n",
              "      box-shadow: 0px 1px 3px 1px rgba(0, 0, 0, 0.15);\n",
              "      filter: drop-shadow(0px 1px 2px rgba(0, 0, 0, 0.3));\n",
              "      fill: #FFFFFF;\n",
              "    }\n",
              "  </style>\n",
              "\n",
              "      <script>\n",
              "        const buttonEl =\n",
              "          document.querySelector('#df-7d750120-0231-4d78-9731-edaf0b18caed button.colab-df-convert');\n",
              "        buttonEl.style.display =\n",
              "          google.colab.kernel.accessAllowed ? 'block' : 'none';\n",
              "\n",
              "        async function convertToInteractive(key) {\n",
              "          const element = document.querySelector('#df-7d750120-0231-4d78-9731-edaf0b18caed');\n",
              "          const dataTable =\n",
              "            await google.colab.kernel.invokeFunction('convertToInteractive',\n",
              "                                                     [key], {});\n",
              "          if (!dataTable) return;\n",
              "\n",
              "          const docLinkHtml = 'Like what you see? Visit the ' +\n",
              "            '<a target=\"_blank\" href=https://colab.research.google.com/notebooks/data_table.ipynb>data table notebook</a>'\n",
              "            + ' to learn more about interactive tables.';\n",
              "          element.innerHTML = '';\n",
              "          dataTable['output_type'] = 'display_data';\n",
              "          await google.colab.output.renderOutput(dataTable, element);\n",
              "          const docLink = document.createElement('div');\n",
              "          docLink.innerHTML = docLinkHtml;\n",
              "          element.appendChild(docLink);\n",
              "        }\n",
              "      </script>\n",
              "    </div>\n",
              "  </div>\n",
              "  "
            ]
          },
          "metadata": {},
          "execution_count": 7
        }
      ]
    },
    {
      "cell_type": "code",
      "source": [
        "store_df.shape"
      ],
      "metadata": {
        "colab": {
          "base_uri": "https://localhost:8080/"
        },
        "id": "CvHemQVvIylx",
        "outputId": "bcdaf0c9-9d1c-446f-fc5d-5adc0f7deb2d"
      },
      "execution_count": null,
      "outputs": [
        {
          "output_type": "execute_result",
          "data": {
            "text/plain": [
              "(1115, 10)"
            ]
          },
          "metadata": {},
          "execution_count": 8
        }
      ]
    },
    {
      "cell_type": "markdown",
      "source": [
        "The store dataset consists of 1115 values and 10 features "
      ],
      "metadata": {
        "id": "xCGWfCPWKbi-"
      }
    },
    {
      "cell_type": "code",
      "source": [
        "store_df.isnull().sum()"
      ],
      "metadata": {
        "colab": {
          "base_uri": "https://localhost:8080/"
        },
        "id": "RDHM8FWtI9_N",
        "outputId": "cf12ed95-11e2-4e80-f43d-767454e86cbd"
      },
      "execution_count": null,
      "outputs": [
        {
          "output_type": "execute_result",
          "data": {
            "text/plain": [
              "Store                          0\n",
              "StoreType                      0\n",
              "Assortment                     0\n",
              "CompetitionDistance            3\n",
              "CompetitionOpenSinceMonth    354\n",
              "CompetitionOpenSinceYear     354\n",
              "Promo2                         0\n",
              "Promo2SinceWeek              544\n",
              "Promo2SinceYear              544\n",
              "PromoInterval                544\n",
              "dtype: int64"
            ]
          },
          "metadata": {},
          "execution_count": 9
        }
      ]
    },
    {
      "cell_type": "markdown",
      "source": [
        "**DATA HANDELLING**\n",
        "\n",
        "I looked for NAN values in store data. There were a lot of NAN values in some columns that had to be dealt with. So I wrote a code to specifically deal with the NAN values of each column either by replacing it with 0, mode or median. Removing the columns was not an option as they might remove some significant amount of data. "
      ],
      "metadata": {
        "id": "ewQKgb4OKsb7"
      }
    },
    {
      "cell_type": "code",
      "source": [
        "store_df[pd.isnull(store_df.CompetitionDistance)]"
      ],
      "metadata": {
        "colab": {
          "base_uri": "https://localhost:8080/",
          "height": 143
        },
        "id": "wJhEHiQuKqAj",
        "outputId": "444eb815-ddfd-470e-a6f8-5a79ed6671bb"
      },
      "execution_count": null,
      "outputs": [
        {
          "output_type": "execute_result",
          "data": {
            "text/plain": [
              "     Store StoreType Assortment  CompetitionDistance  \\\n",
              "290    291         d          a                  NaN   \n",
              "621    622         a          c                  NaN   \n",
              "878    879         d          a                  NaN   \n",
              "\n",
              "     CompetitionOpenSinceMonth  CompetitionOpenSinceYear  Promo2  \\\n",
              "290                        NaN                       NaN       0   \n",
              "621                        NaN                       NaN       0   \n",
              "878                        NaN                       NaN       1   \n",
              "\n",
              "     Promo2SinceWeek  Promo2SinceYear    PromoInterval  \n",
              "290              NaN              NaN              NaN  \n",
              "621              NaN              NaN              NaN  \n",
              "878              5.0           2013.0  Feb,May,Aug,Nov  "
            ],
            "text/html": [
              "\n",
              "  <div id=\"df-79bd0fd3-0185-4d53-8a1f-31485324b1c1\">\n",
              "    <div class=\"colab-df-container\">\n",
              "      <div>\n",
              "<style scoped>\n",
              "    .dataframe tbody tr th:only-of-type {\n",
              "        vertical-align: middle;\n",
              "    }\n",
              "\n",
              "    .dataframe tbody tr th {\n",
              "        vertical-align: top;\n",
              "    }\n",
              "\n",
              "    .dataframe thead th {\n",
              "        text-align: right;\n",
              "    }\n",
              "</style>\n",
              "<table border=\"1\" class=\"dataframe\">\n",
              "  <thead>\n",
              "    <tr style=\"text-align: right;\">\n",
              "      <th></th>\n",
              "      <th>Store</th>\n",
              "      <th>StoreType</th>\n",
              "      <th>Assortment</th>\n",
              "      <th>CompetitionDistance</th>\n",
              "      <th>CompetitionOpenSinceMonth</th>\n",
              "      <th>CompetitionOpenSinceYear</th>\n",
              "      <th>Promo2</th>\n",
              "      <th>Promo2SinceWeek</th>\n",
              "      <th>Promo2SinceYear</th>\n",
              "      <th>PromoInterval</th>\n",
              "    </tr>\n",
              "  </thead>\n",
              "  <tbody>\n",
              "    <tr>\n",
              "      <th>290</th>\n",
              "      <td>291</td>\n",
              "      <td>d</td>\n",
              "      <td>a</td>\n",
              "      <td>NaN</td>\n",
              "      <td>NaN</td>\n",
              "      <td>NaN</td>\n",
              "      <td>0</td>\n",
              "      <td>NaN</td>\n",
              "      <td>NaN</td>\n",
              "      <td>NaN</td>\n",
              "    </tr>\n",
              "    <tr>\n",
              "      <th>621</th>\n",
              "      <td>622</td>\n",
              "      <td>a</td>\n",
              "      <td>c</td>\n",
              "      <td>NaN</td>\n",
              "      <td>NaN</td>\n",
              "      <td>NaN</td>\n",
              "      <td>0</td>\n",
              "      <td>NaN</td>\n",
              "      <td>NaN</td>\n",
              "      <td>NaN</td>\n",
              "    </tr>\n",
              "    <tr>\n",
              "      <th>878</th>\n",
              "      <td>879</td>\n",
              "      <td>d</td>\n",
              "      <td>a</td>\n",
              "      <td>NaN</td>\n",
              "      <td>NaN</td>\n",
              "      <td>NaN</td>\n",
              "      <td>1</td>\n",
              "      <td>5.0</td>\n",
              "      <td>2013.0</td>\n",
              "      <td>Feb,May,Aug,Nov</td>\n",
              "    </tr>\n",
              "  </tbody>\n",
              "</table>\n",
              "</div>\n",
              "      <button class=\"colab-df-convert\" onclick=\"convertToInteractive('df-79bd0fd3-0185-4d53-8a1f-31485324b1c1')\"\n",
              "              title=\"Convert this dataframe to an interactive table.\"\n",
              "              style=\"display:none;\">\n",
              "        \n",
              "  <svg xmlns=\"http://www.w3.org/2000/svg\" height=\"24px\"viewBox=\"0 0 24 24\"\n",
              "       width=\"24px\">\n",
              "    <path d=\"M0 0h24v24H0V0z\" fill=\"none\"/>\n",
              "    <path d=\"M18.56 5.44l.94 2.06.94-2.06 2.06-.94-2.06-.94-.94-2.06-.94 2.06-2.06.94zm-11 1L8.5 8.5l.94-2.06 2.06-.94-2.06-.94L8.5 2.5l-.94 2.06-2.06.94zm10 10l.94 2.06.94-2.06 2.06-.94-2.06-.94-.94-2.06-.94 2.06-2.06.94z\"/><path d=\"M17.41 7.96l-1.37-1.37c-.4-.4-.92-.59-1.43-.59-.52 0-1.04.2-1.43.59L10.3 9.45l-7.72 7.72c-.78.78-.78 2.05 0 2.83L4 21.41c.39.39.9.59 1.41.59.51 0 1.02-.2 1.41-.59l7.78-7.78 2.81-2.81c.8-.78.8-2.07 0-2.86zM5.41 20L4 18.59l7.72-7.72 1.47 1.35L5.41 20z\"/>\n",
              "  </svg>\n",
              "      </button>\n",
              "      \n",
              "  <style>\n",
              "    .colab-df-container {\n",
              "      display:flex;\n",
              "      flex-wrap:wrap;\n",
              "      gap: 12px;\n",
              "    }\n",
              "\n",
              "    .colab-df-convert {\n",
              "      background-color: #E8F0FE;\n",
              "      border: none;\n",
              "      border-radius: 50%;\n",
              "      cursor: pointer;\n",
              "      display: none;\n",
              "      fill: #1967D2;\n",
              "      height: 32px;\n",
              "      padding: 0 0 0 0;\n",
              "      width: 32px;\n",
              "    }\n",
              "\n",
              "    .colab-df-convert:hover {\n",
              "      background-color: #E2EBFA;\n",
              "      box-shadow: 0px 1px 2px rgba(60, 64, 67, 0.3), 0px 1px 3px 1px rgba(60, 64, 67, 0.15);\n",
              "      fill: #174EA6;\n",
              "    }\n",
              "\n",
              "    [theme=dark] .colab-df-convert {\n",
              "      background-color: #3B4455;\n",
              "      fill: #D2E3FC;\n",
              "    }\n",
              "\n",
              "    [theme=dark] .colab-df-convert:hover {\n",
              "      background-color: #434B5C;\n",
              "      box-shadow: 0px 1px 3px 1px rgba(0, 0, 0, 0.15);\n",
              "      filter: drop-shadow(0px 1px 2px rgba(0, 0, 0, 0.3));\n",
              "      fill: #FFFFFF;\n",
              "    }\n",
              "  </style>\n",
              "\n",
              "      <script>\n",
              "        const buttonEl =\n",
              "          document.querySelector('#df-79bd0fd3-0185-4d53-8a1f-31485324b1c1 button.colab-df-convert');\n",
              "        buttonEl.style.display =\n",
              "          google.colab.kernel.accessAllowed ? 'block' : 'none';\n",
              "\n",
              "        async function convertToInteractive(key) {\n",
              "          const element = document.querySelector('#df-79bd0fd3-0185-4d53-8a1f-31485324b1c1');\n",
              "          const dataTable =\n",
              "            await google.colab.kernel.invokeFunction('convertToInteractive',\n",
              "                                                     [key], {});\n",
              "          if (!dataTable) return;\n",
              "\n",
              "          const docLinkHtml = 'Like what you see? Visit the ' +\n",
              "            '<a target=\"_blank\" href=https://colab.research.google.com/notebooks/data_table.ipynb>data table notebook</a>'\n",
              "            + ' to learn more about interactive tables.';\n",
              "          element.innerHTML = '';\n",
              "          dataTable['output_type'] = 'display_data';\n",
              "          await google.colab.output.renderOutput(dataTable, element);\n",
              "          const docLink = document.createElement('div');\n",
              "          docLink.innerHTML = docLinkHtml;\n",
              "          element.appendChild(docLink);\n",
              "        }\n",
              "      </script>\n",
              "    </div>\n",
              "  </div>\n",
              "  "
            ]
          },
          "metadata": {},
          "execution_count": 10
        }
      ]
    },
    {
      "cell_type": "markdown",
      "source": [
        "So we can fill these three values with many ways such as 0 or mean or mode or median. We decided to fill with it Median"
      ],
      "metadata": {
        "id": "gyVpz0nTMf2L"
      }
    },
    {
      "cell_type": "code",
      "source": [
        "##  Replacing NAN values in CompetitionDistance with median\n",
        "store_df['CompetitionDistance'].fillna(store_df['CompetitionDistance'].median(), inplace = True)"
      ],
      "metadata": {
        "id": "bVtDLoOjZzGl"
      },
      "execution_count": null,
      "outputs": []
    },
    {
      "cell_type": "code",
      "source": [
        "## Replacing NAN values with 0.\n",
        "store_new  = store_df.copy()\n",
        "\n",
        "## Replacing NAN values with 0 in CompetitionOpenSinceMonth\n",
        "store_new['CompetitionOpenSinceMonth'] = store_new['CompetitionOpenSinceMonth'].fillna(0)\n",
        "\n",
        "## Replacing NAN values with 0 in CompetitionOpenSinceYear\n",
        "store_new['CompetitionOpenSinceYear'] = store_new['CompetitionOpenSinceYear'].fillna(0)\n",
        "\n",
        "## Replacing NAN values with 0 in Promo2SinceWeek\n",
        "store_new['Promo2SinceWeek'] = store_new['Promo2SinceWeek'].fillna(0)\n",
        "\n",
        "## Replacing NAN values with 0 in Promo2SinceYear\n",
        "store_new['Promo2SinceYear'] = store_new['Promo2SinceYear'].fillna(0)\n",
        "\n",
        "## Replacing NAN values with 0 in PromoInterval\n",
        "store_new['PromoInterval'] = store_new['PromoInterval'].fillna(0)\n",
        "\n",
        "## Now checking NAN values\n",
        "store_new.isna().sum()"
      ],
      "metadata": {
        "colab": {
          "base_uri": "https://localhost:8080/"
        },
        "id": "wfq_3FsbMCbw",
        "outputId": "a47065b2-7cf5-423d-b30d-e67b78378cc8"
      },
      "execution_count": null,
      "outputs": [
        {
          "output_type": "execute_result",
          "data": {
            "text/plain": [
              "Store                        0\n",
              "StoreType                    0\n",
              "Assortment                   0\n",
              "CompetitionDistance          0\n",
              "CompetitionOpenSinceMonth    0\n",
              "CompetitionOpenSinceYear     0\n",
              "Promo2                       0\n",
              "Promo2SinceWeek              0\n",
              "Promo2SinceYear              0\n",
              "PromoInterval                0\n",
              "dtype: int64"
            ]
          },
          "metadata": {},
          "execution_count": 12
        }
      ]
    },
    {
      "cell_type": "markdown",
      "source": [
        "**MERGING THE DATAFRAMES**\n",
        "\n",
        "Now as the NAN values were removed I decided to merge the two dataframes with left join on rossmann_df, as the rossmann data had more columns "
      ],
      "metadata": {
        "id": "eJmvGxsiPwY4"
      }
    },
    {
      "cell_type": "code",
      "source": [
        "final = pd.merge(rossmann_df, store_new, on='Store',how='left')"
      ],
      "metadata": {
        "id": "SI1BK0A5Pphd"
      },
      "execution_count": null,
      "outputs": []
    },
    {
      "cell_type": "code",
      "source": [
        "final.head()"
      ],
      "metadata": {
        "colab": {
          "base_uri": "https://localhost:8080/",
          "height": 357
        },
        "id": "LVYuqquOQ6So",
        "outputId": "b6487c97-3bf5-4cd7-bd81-2eff87cc0ca2"
      },
      "execution_count": null,
      "outputs": [
        {
          "output_type": "execute_result",
          "data": {
            "text/plain": [
              "   Store  DayOfWeek        Date  Sales  Customers  Open  Promo StateHoliday  \\\n",
              "0      1          5  2015-07-31   5263        555     1      1            0   \n",
              "1      2          5  2015-07-31   6064        625     1      1            0   \n",
              "2      3          5  2015-07-31   8314        821     1      1            0   \n",
              "3      4          5  2015-07-31  13995       1498     1      1            0   \n",
              "4      5          5  2015-07-31   4822        559     1      1            0   \n",
              "\n",
              "   SchoolHoliday StoreType Assortment  CompetitionDistance  \\\n",
              "0              1         c          a               1270.0   \n",
              "1              1         a          a                570.0   \n",
              "2              1         a          a              14130.0   \n",
              "3              1         c          c                620.0   \n",
              "4              1         a          a              29910.0   \n",
              "\n",
              "   CompetitionOpenSinceMonth  CompetitionOpenSinceYear  Promo2  \\\n",
              "0                        9.0                    2008.0       0   \n",
              "1                       11.0                    2007.0       1   \n",
              "2                       12.0                    2006.0       1   \n",
              "3                        9.0                    2009.0       0   \n",
              "4                        4.0                    2015.0       0   \n",
              "\n",
              "   Promo2SinceWeek  Promo2SinceYear    PromoInterval  \n",
              "0              0.0              0.0                0  \n",
              "1             13.0           2010.0  Jan,Apr,Jul,Oct  \n",
              "2             14.0           2011.0  Jan,Apr,Jul,Oct  \n",
              "3              0.0              0.0                0  \n",
              "4              0.0              0.0                0  "
            ],
            "text/html": [
              "\n",
              "  <div id=\"df-eada3969-7bb5-4812-8f51-1d2e16ec7c03\">\n",
              "    <div class=\"colab-df-container\">\n",
              "      <div>\n",
              "<style scoped>\n",
              "    .dataframe tbody tr th:only-of-type {\n",
              "        vertical-align: middle;\n",
              "    }\n",
              "\n",
              "    .dataframe tbody tr th {\n",
              "        vertical-align: top;\n",
              "    }\n",
              "\n",
              "    .dataframe thead th {\n",
              "        text-align: right;\n",
              "    }\n",
              "</style>\n",
              "<table border=\"1\" class=\"dataframe\">\n",
              "  <thead>\n",
              "    <tr style=\"text-align: right;\">\n",
              "      <th></th>\n",
              "      <th>Store</th>\n",
              "      <th>DayOfWeek</th>\n",
              "      <th>Date</th>\n",
              "      <th>Sales</th>\n",
              "      <th>Customers</th>\n",
              "      <th>Open</th>\n",
              "      <th>Promo</th>\n",
              "      <th>StateHoliday</th>\n",
              "      <th>SchoolHoliday</th>\n",
              "      <th>StoreType</th>\n",
              "      <th>Assortment</th>\n",
              "      <th>CompetitionDistance</th>\n",
              "      <th>CompetitionOpenSinceMonth</th>\n",
              "      <th>CompetitionOpenSinceYear</th>\n",
              "      <th>Promo2</th>\n",
              "      <th>Promo2SinceWeek</th>\n",
              "      <th>Promo2SinceYear</th>\n",
              "      <th>PromoInterval</th>\n",
              "    </tr>\n",
              "  </thead>\n",
              "  <tbody>\n",
              "    <tr>\n",
              "      <th>0</th>\n",
              "      <td>1</td>\n",
              "      <td>5</td>\n",
              "      <td>2015-07-31</td>\n",
              "      <td>5263</td>\n",
              "      <td>555</td>\n",
              "      <td>1</td>\n",
              "      <td>1</td>\n",
              "      <td>0</td>\n",
              "      <td>1</td>\n",
              "      <td>c</td>\n",
              "      <td>a</td>\n",
              "      <td>1270.0</td>\n",
              "      <td>9.0</td>\n",
              "      <td>2008.0</td>\n",
              "      <td>0</td>\n",
              "      <td>0.0</td>\n",
              "      <td>0.0</td>\n",
              "      <td>0</td>\n",
              "    </tr>\n",
              "    <tr>\n",
              "      <th>1</th>\n",
              "      <td>2</td>\n",
              "      <td>5</td>\n",
              "      <td>2015-07-31</td>\n",
              "      <td>6064</td>\n",
              "      <td>625</td>\n",
              "      <td>1</td>\n",
              "      <td>1</td>\n",
              "      <td>0</td>\n",
              "      <td>1</td>\n",
              "      <td>a</td>\n",
              "      <td>a</td>\n",
              "      <td>570.0</td>\n",
              "      <td>11.0</td>\n",
              "      <td>2007.0</td>\n",
              "      <td>1</td>\n",
              "      <td>13.0</td>\n",
              "      <td>2010.0</td>\n",
              "      <td>Jan,Apr,Jul,Oct</td>\n",
              "    </tr>\n",
              "    <tr>\n",
              "      <th>2</th>\n",
              "      <td>3</td>\n",
              "      <td>5</td>\n",
              "      <td>2015-07-31</td>\n",
              "      <td>8314</td>\n",
              "      <td>821</td>\n",
              "      <td>1</td>\n",
              "      <td>1</td>\n",
              "      <td>0</td>\n",
              "      <td>1</td>\n",
              "      <td>a</td>\n",
              "      <td>a</td>\n",
              "      <td>14130.0</td>\n",
              "      <td>12.0</td>\n",
              "      <td>2006.0</td>\n",
              "      <td>1</td>\n",
              "      <td>14.0</td>\n",
              "      <td>2011.0</td>\n",
              "      <td>Jan,Apr,Jul,Oct</td>\n",
              "    </tr>\n",
              "    <tr>\n",
              "      <th>3</th>\n",
              "      <td>4</td>\n",
              "      <td>5</td>\n",
              "      <td>2015-07-31</td>\n",
              "      <td>13995</td>\n",
              "      <td>1498</td>\n",
              "      <td>1</td>\n",
              "      <td>1</td>\n",
              "      <td>0</td>\n",
              "      <td>1</td>\n",
              "      <td>c</td>\n",
              "      <td>c</td>\n",
              "      <td>620.0</td>\n",
              "      <td>9.0</td>\n",
              "      <td>2009.0</td>\n",
              "      <td>0</td>\n",
              "      <td>0.0</td>\n",
              "      <td>0.0</td>\n",
              "      <td>0</td>\n",
              "    </tr>\n",
              "    <tr>\n",
              "      <th>4</th>\n",
              "      <td>5</td>\n",
              "      <td>5</td>\n",
              "      <td>2015-07-31</td>\n",
              "      <td>4822</td>\n",
              "      <td>559</td>\n",
              "      <td>1</td>\n",
              "      <td>1</td>\n",
              "      <td>0</td>\n",
              "      <td>1</td>\n",
              "      <td>a</td>\n",
              "      <td>a</td>\n",
              "      <td>29910.0</td>\n",
              "      <td>4.0</td>\n",
              "      <td>2015.0</td>\n",
              "      <td>0</td>\n",
              "      <td>0.0</td>\n",
              "      <td>0.0</td>\n",
              "      <td>0</td>\n",
              "    </tr>\n",
              "  </tbody>\n",
              "</table>\n",
              "</div>\n",
              "      <button class=\"colab-df-convert\" onclick=\"convertToInteractive('df-eada3969-7bb5-4812-8f51-1d2e16ec7c03')\"\n",
              "              title=\"Convert this dataframe to an interactive table.\"\n",
              "              style=\"display:none;\">\n",
              "        \n",
              "  <svg xmlns=\"http://www.w3.org/2000/svg\" height=\"24px\"viewBox=\"0 0 24 24\"\n",
              "       width=\"24px\">\n",
              "    <path d=\"M0 0h24v24H0V0z\" fill=\"none\"/>\n",
              "    <path d=\"M18.56 5.44l.94 2.06.94-2.06 2.06-.94-2.06-.94-.94-2.06-.94 2.06-2.06.94zm-11 1L8.5 8.5l.94-2.06 2.06-.94-2.06-.94L8.5 2.5l-.94 2.06-2.06.94zm10 10l.94 2.06.94-2.06 2.06-.94-2.06-.94-.94-2.06-.94 2.06-2.06.94z\"/><path d=\"M17.41 7.96l-1.37-1.37c-.4-.4-.92-.59-1.43-.59-.52 0-1.04.2-1.43.59L10.3 9.45l-7.72 7.72c-.78.78-.78 2.05 0 2.83L4 21.41c.39.39.9.59 1.41.59.51 0 1.02-.2 1.41-.59l7.78-7.78 2.81-2.81c.8-.78.8-2.07 0-2.86zM5.41 20L4 18.59l7.72-7.72 1.47 1.35L5.41 20z\"/>\n",
              "  </svg>\n",
              "      </button>\n",
              "      \n",
              "  <style>\n",
              "    .colab-df-container {\n",
              "      display:flex;\n",
              "      flex-wrap:wrap;\n",
              "      gap: 12px;\n",
              "    }\n",
              "\n",
              "    .colab-df-convert {\n",
              "      background-color: #E8F0FE;\n",
              "      border: none;\n",
              "      border-radius: 50%;\n",
              "      cursor: pointer;\n",
              "      display: none;\n",
              "      fill: #1967D2;\n",
              "      height: 32px;\n",
              "      padding: 0 0 0 0;\n",
              "      width: 32px;\n",
              "    }\n",
              "\n",
              "    .colab-df-convert:hover {\n",
              "      background-color: #E2EBFA;\n",
              "      box-shadow: 0px 1px 2px rgba(60, 64, 67, 0.3), 0px 1px 3px 1px rgba(60, 64, 67, 0.15);\n",
              "      fill: #174EA6;\n",
              "    }\n",
              "\n",
              "    [theme=dark] .colab-df-convert {\n",
              "      background-color: #3B4455;\n",
              "      fill: #D2E3FC;\n",
              "    }\n",
              "\n",
              "    [theme=dark] .colab-df-convert:hover {\n",
              "      background-color: #434B5C;\n",
              "      box-shadow: 0px 1px 3px 1px rgba(0, 0, 0, 0.15);\n",
              "      filter: drop-shadow(0px 1px 2px rgba(0, 0, 0, 0.3));\n",
              "      fill: #FFFFFF;\n",
              "    }\n",
              "  </style>\n",
              "\n",
              "      <script>\n",
              "        const buttonEl =\n",
              "          document.querySelector('#df-eada3969-7bb5-4812-8f51-1d2e16ec7c03 button.colab-df-convert');\n",
              "        buttonEl.style.display =\n",
              "          google.colab.kernel.accessAllowed ? 'block' : 'none';\n",
              "\n",
              "        async function convertToInteractive(key) {\n",
              "          const element = document.querySelector('#df-eada3969-7bb5-4812-8f51-1d2e16ec7c03');\n",
              "          const dataTable =\n",
              "            await google.colab.kernel.invokeFunction('convertToInteractive',\n",
              "                                                     [key], {});\n",
              "          if (!dataTable) return;\n",
              "\n",
              "          const docLinkHtml = 'Like what you see? Visit the ' +\n",
              "            '<a target=\"_blank\" href=https://colab.research.google.com/notebooks/data_table.ipynb>data table notebook</a>'\n",
              "            + ' to learn more about interactive tables.';\n",
              "          element.innerHTML = '';\n",
              "          dataTable['output_type'] = 'display_data';\n",
              "          await google.colab.output.renderOutput(dataTable, element);\n",
              "          const docLink = document.createElement('div');\n",
              "          docLink.innerHTML = docLinkHtml;\n",
              "          element.appendChild(docLink);\n",
              "        }\n",
              "      </script>\n",
              "    </div>\n",
              "  </div>\n",
              "  "
            ]
          },
          "metadata": {},
          "execution_count": 14
        }
      ]
    },
    {
      "cell_type": "code",
      "source": [
        "final.describe()"
      ],
      "metadata": {
        "colab": {
          "base_uri": "https://localhost:8080/",
          "height": 364
        },
        "id": "0ASJRT_LQ9AO",
        "outputId": "d4619b53-f18c-46fa-8ac3-474387252442"
      },
      "execution_count": null,
      "outputs": [
        {
          "output_type": "execute_result",
          "data": {
            "text/plain": [
              "              Store     DayOfWeek         Sales     Customers          Open  \\\n",
              "count  1.017209e+06  1.017209e+06  1.017209e+06  1.017209e+06  1.017209e+06   \n",
              "mean   5.584297e+02  3.998341e+00  5.773819e+03  6.331459e+02  8.301067e-01   \n",
              "std    3.219087e+02  1.997391e+00  3.849926e+03  4.644117e+02  3.755392e-01   \n",
              "min    1.000000e+00  1.000000e+00  0.000000e+00  0.000000e+00  0.000000e+00   \n",
              "25%    2.800000e+02  2.000000e+00  3.727000e+03  4.050000e+02  1.000000e+00   \n",
              "50%    5.580000e+02  4.000000e+00  5.744000e+03  6.090000e+02  1.000000e+00   \n",
              "75%    8.380000e+02  6.000000e+00  7.856000e+03  8.370000e+02  1.000000e+00   \n",
              "max    1.115000e+03  7.000000e+00  4.155100e+04  7.388000e+03  1.000000e+00   \n",
              "\n",
              "              Promo  SchoolHoliday  CompetitionDistance  \\\n",
              "count  1.017209e+06   1.017209e+06         1.017209e+06   \n",
              "mean   3.815145e-01   1.786467e-01         5.422021e+03   \n",
              "std    4.857586e-01   3.830564e-01         7.706918e+03   \n",
              "min    0.000000e+00   0.000000e+00         2.000000e+01   \n",
              "25%    0.000000e+00   0.000000e+00         7.100000e+02   \n",
              "50%    0.000000e+00   0.000000e+00         2.325000e+03   \n",
              "75%    1.000000e+00   0.000000e+00         6.880000e+03   \n",
              "max    1.000000e+00   1.000000e+00         7.586000e+04   \n",
              "\n",
              "       CompetitionOpenSinceMonth  CompetitionOpenSinceYear        Promo2  \\\n",
              "count               1.017209e+06              1.017209e+06  1.017209e+06   \n",
              "mean                4.926878e+00              1.370173e+03  5.005638e-01   \n",
              "std                 4.283543e+00              9.353634e+02  4.999999e-01   \n",
              "min                 0.000000e+00              0.000000e+00  0.000000e+00   \n",
              "25%                 0.000000e+00              0.000000e+00  0.000000e+00   \n",
              "50%                 4.000000e+00              2.006000e+03  1.000000e+00   \n",
              "75%                 9.000000e+00              2.011000e+03  1.000000e+00   \n",
              "max                 1.200000e+01              2.015000e+03  1.000000e+00   \n",
              "\n",
              "       Promo2SinceWeek  Promo2SinceYear  \n",
              "count     1.017209e+06     1.017209e+06  \n",
              "mean      1.164767e+01     1.007011e+03  \n",
              "std       1.532393e+01     1.005877e+03  \n",
              "min       0.000000e+00     0.000000e+00  \n",
              "25%       0.000000e+00     0.000000e+00  \n",
              "50%       1.000000e+00     2.009000e+03  \n",
              "75%       2.200000e+01     2.012000e+03  \n",
              "max       5.000000e+01     2.015000e+03  "
            ],
            "text/html": [
              "\n",
              "  <div id=\"df-44f23405-07ee-499a-a0c9-09db5434082b\">\n",
              "    <div class=\"colab-df-container\">\n",
              "      <div>\n",
              "<style scoped>\n",
              "    .dataframe tbody tr th:only-of-type {\n",
              "        vertical-align: middle;\n",
              "    }\n",
              "\n",
              "    .dataframe tbody tr th {\n",
              "        vertical-align: top;\n",
              "    }\n",
              "\n",
              "    .dataframe thead th {\n",
              "        text-align: right;\n",
              "    }\n",
              "</style>\n",
              "<table border=\"1\" class=\"dataframe\">\n",
              "  <thead>\n",
              "    <tr style=\"text-align: right;\">\n",
              "      <th></th>\n",
              "      <th>Store</th>\n",
              "      <th>DayOfWeek</th>\n",
              "      <th>Sales</th>\n",
              "      <th>Customers</th>\n",
              "      <th>Open</th>\n",
              "      <th>Promo</th>\n",
              "      <th>SchoolHoliday</th>\n",
              "      <th>CompetitionDistance</th>\n",
              "      <th>CompetitionOpenSinceMonth</th>\n",
              "      <th>CompetitionOpenSinceYear</th>\n",
              "      <th>Promo2</th>\n",
              "      <th>Promo2SinceWeek</th>\n",
              "      <th>Promo2SinceYear</th>\n",
              "    </tr>\n",
              "  </thead>\n",
              "  <tbody>\n",
              "    <tr>\n",
              "      <th>count</th>\n",
              "      <td>1.017209e+06</td>\n",
              "      <td>1.017209e+06</td>\n",
              "      <td>1.017209e+06</td>\n",
              "      <td>1.017209e+06</td>\n",
              "      <td>1.017209e+06</td>\n",
              "      <td>1.017209e+06</td>\n",
              "      <td>1.017209e+06</td>\n",
              "      <td>1.017209e+06</td>\n",
              "      <td>1.017209e+06</td>\n",
              "      <td>1.017209e+06</td>\n",
              "      <td>1.017209e+06</td>\n",
              "      <td>1.017209e+06</td>\n",
              "      <td>1.017209e+06</td>\n",
              "    </tr>\n",
              "    <tr>\n",
              "      <th>mean</th>\n",
              "      <td>5.584297e+02</td>\n",
              "      <td>3.998341e+00</td>\n",
              "      <td>5.773819e+03</td>\n",
              "      <td>6.331459e+02</td>\n",
              "      <td>8.301067e-01</td>\n",
              "      <td>3.815145e-01</td>\n",
              "      <td>1.786467e-01</td>\n",
              "      <td>5.422021e+03</td>\n",
              "      <td>4.926878e+00</td>\n",
              "      <td>1.370173e+03</td>\n",
              "      <td>5.005638e-01</td>\n",
              "      <td>1.164767e+01</td>\n",
              "      <td>1.007011e+03</td>\n",
              "    </tr>\n",
              "    <tr>\n",
              "      <th>std</th>\n",
              "      <td>3.219087e+02</td>\n",
              "      <td>1.997391e+00</td>\n",
              "      <td>3.849926e+03</td>\n",
              "      <td>4.644117e+02</td>\n",
              "      <td>3.755392e-01</td>\n",
              "      <td>4.857586e-01</td>\n",
              "      <td>3.830564e-01</td>\n",
              "      <td>7.706918e+03</td>\n",
              "      <td>4.283543e+00</td>\n",
              "      <td>9.353634e+02</td>\n",
              "      <td>4.999999e-01</td>\n",
              "      <td>1.532393e+01</td>\n",
              "      <td>1.005877e+03</td>\n",
              "    </tr>\n",
              "    <tr>\n",
              "      <th>min</th>\n",
              "      <td>1.000000e+00</td>\n",
              "      <td>1.000000e+00</td>\n",
              "      <td>0.000000e+00</td>\n",
              "      <td>0.000000e+00</td>\n",
              "      <td>0.000000e+00</td>\n",
              "      <td>0.000000e+00</td>\n",
              "      <td>0.000000e+00</td>\n",
              "      <td>2.000000e+01</td>\n",
              "      <td>0.000000e+00</td>\n",
              "      <td>0.000000e+00</td>\n",
              "      <td>0.000000e+00</td>\n",
              "      <td>0.000000e+00</td>\n",
              "      <td>0.000000e+00</td>\n",
              "    </tr>\n",
              "    <tr>\n",
              "      <th>25%</th>\n",
              "      <td>2.800000e+02</td>\n",
              "      <td>2.000000e+00</td>\n",
              "      <td>3.727000e+03</td>\n",
              "      <td>4.050000e+02</td>\n",
              "      <td>1.000000e+00</td>\n",
              "      <td>0.000000e+00</td>\n",
              "      <td>0.000000e+00</td>\n",
              "      <td>7.100000e+02</td>\n",
              "      <td>0.000000e+00</td>\n",
              "      <td>0.000000e+00</td>\n",
              "      <td>0.000000e+00</td>\n",
              "      <td>0.000000e+00</td>\n",
              "      <td>0.000000e+00</td>\n",
              "    </tr>\n",
              "    <tr>\n",
              "      <th>50%</th>\n",
              "      <td>5.580000e+02</td>\n",
              "      <td>4.000000e+00</td>\n",
              "      <td>5.744000e+03</td>\n",
              "      <td>6.090000e+02</td>\n",
              "      <td>1.000000e+00</td>\n",
              "      <td>0.000000e+00</td>\n",
              "      <td>0.000000e+00</td>\n",
              "      <td>2.325000e+03</td>\n",
              "      <td>4.000000e+00</td>\n",
              "      <td>2.006000e+03</td>\n",
              "      <td>1.000000e+00</td>\n",
              "      <td>1.000000e+00</td>\n",
              "      <td>2.009000e+03</td>\n",
              "    </tr>\n",
              "    <tr>\n",
              "      <th>75%</th>\n",
              "      <td>8.380000e+02</td>\n",
              "      <td>6.000000e+00</td>\n",
              "      <td>7.856000e+03</td>\n",
              "      <td>8.370000e+02</td>\n",
              "      <td>1.000000e+00</td>\n",
              "      <td>1.000000e+00</td>\n",
              "      <td>0.000000e+00</td>\n",
              "      <td>6.880000e+03</td>\n",
              "      <td>9.000000e+00</td>\n",
              "      <td>2.011000e+03</td>\n",
              "      <td>1.000000e+00</td>\n",
              "      <td>2.200000e+01</td>\n",
              "      <td>2.012000e+03</td>\n",
              "    </tr>\n",
              "    <tr>\n",
              "      <th>max</th>\n",
              "      <td>1.115000e+03</td>\n",
              "      <td>7.000000e+00</td>\n",
              "      <td>4.155100e+04</td>\n",
              "      <td>7.388000e+03</td>\n",
              "      <td>1.000000e+00</td>\n",
              "      <td>1.000000e+00</td>\n",
              "      <td>1.000000e+00</td>\n",
              "      <td>7.586000e+04</td>\n",
              "      <td>1.200000e+01</td>\n",
              "      <td>2.015000e+03</td>\n",
              "      <td>1.000000e+00</td>\n",
              "      <td>5.000000e+01</td>\n",
              "      <td>2.015000e+03</td>\n",
              "    </tr>\n",
              "  </tbody>\n",
              "</table>\n",
              "</div>\n",
              "      <button class=\"colab-df-convert\" onclick=\"convertToInteractive('df-44f23405-07ee-499a-a0c9-09db5434082b')\"\n",
              "              title=\"Convert this dataframe to an interactive table.\"\n",
              "              style=\"display:none;\">\n",
              "        \n",
              "  <svg xmlns=\"http://www.w3.org/2000/svg\" height=\"24px\"viewBox=\"0 0 24 24\"\n",
              "       width=\"24px\">\n",
              "    <path d=\"M0 0h24v24H0V0z\" fill=\"none\"/>\n",
              "    <path d=\"M18.56 5.44l.94 2.06.94-2.06 2.06-.94-2.06-.94-.94-2.06-.94 2.06-2.06.94zm-11 1L8.5 8.5l.94-2.06 2.06-.94-2.06-.94L8.5 2.5l-.94 2.06-2.06.94zm10 10l.94 2.06.94-2.06 2.06-.94-2.06-.94-.94-2.06-.94 2.06-2.06.94z\"/><path d=\"M17.41 7.96l-1.37-1.37c-.4-.4-.92-.59-1.43-.59-.52 0-1.04.2-1.43.59L10.3 9.45l-7.72 7.72c-.78.78-.78 2.05 0 2.83L4 21.41c.39.39.9.59 1.41.59.51 0 1.02-.2 1.41-.59l7.78-7.78 2.81-2.81c.8-.78.8-2.07 0-2.86zM5.41 20L4 18.59l7.72-7.72 1.47 1.35L5.41 20z\"/>\n",
              "  </svg>\n",
              "      </button>\n",
              "      \n",
              "  <style>\n",
              "    .colab-df-container {\n",
              "      display:flex;\n",
              "      flex-wrap:wrap;\n",
              "      gap: 12px;\n",
              "    }\n",
              "\n",
              "    .colab-df-convert {\n",
              "      background-color: #E8F0FE;\n",
              "      border: none;\n",
              "      border-radius: 50%;\n",
              "      cursor: pointer;\n",
              "      display: none;\n",
              "      fill: #1967D2;\n",
              "      height: 32px;\n",
              "      padding: 0 0 0 0;\n",
              "      width: 32px;\n",
              "    }\n",
              "\n",
              "    .colab-df-convert:hover {\n",
              "      background-color: #E2EBFA;\n",
              "      box-shadow: 0px 1px 2px rgba(60, 64, 67, 0.3), 0px 1px 3px 1px rgba(60, 64, 67, 0.15);\n",
              "      fill: #174EA6;\n",
              "    }\n",
              "\n",
              "    [theme=dark] .colab-df-convert {\n",
              "      background-color: #3B4455;\n",
              "      fill: #D2E3FC;\n",
              "    }\n",
              "\n",
              "    [theme=dark] .colab-df-convert:hover {\n",
              "      background-color: #434B5C;\n",
              "      box-shadow: 0px 1px 3px 1px rgba(0, 0, 0, 0.15);\n",
              "      filter: drop-shadow(0px 1px 2px rgba(0, 0, 0, 0.3));\n",
              "      fill: #FFFFFF;\n",
              "    }\n",
              "  </style>\n",
              "\n",
              "      <script>\n",
              "        const buttonEl =\n",
              "          document.querySelector('#df-44f23405-07ee-499a-a0c9-09db5434082b button.colab-df-convert');\n",
              "        buttonEl.style.display =\n",
              "          google.colab.kernel.accessAllowed ? 'block' : 'none';\n",
              "\n",
              "        async function convertToInteractive(key) {\n",
              "          const element = document.querySelector('#df-44f23405-07ee-499a-a0c9-09db5434082b');\n",
              "          const dataTable =\n",
              "            await google.colab.kernel.invokeFunction('convertToInteractive',\n",
              "                                                     [key], {});\n",
              "          if (!dataTable) return;\n",
              "\n",
              "          const docLinkHtml = 'Like what you see? Visit the ' +\n",
              "            '<a target=\"_blank\" href=https://colab.research.google.com/notebooks/data_table.ipynb>data table notebook</a>'\n",
              "            + ' to learn more about interactive tables.';\n",
              "          element.innerHTML = '';\n",
              "          dataTable['output_type'] = 'display_data';\n",
              "          await google.colab.output.renderOutput(dataTable, element);\n",
              "          const docLink = document.createElement('div');\n",
              "          docLink.innerHTML = docLinkHtml;\n",
              "          element.appendChild(docLink);\n",
              "        }\n",
              "      </script>\n",
              "    </div>\n",
              "  </div>\n",
              "  "
            ]
          },
          "metadata": {},
          "execution_count": 15
        }
      ]
    },
    {
      "cell_type": "code",
      "source": [
        "final.shape"
      ],
      "metadata": {
        "colab": {
          "base_uri": "https://localhost:8080/"
        },
        "id": "wFzkJocIREZi",
        "outputId": "db153f51-33ef-4738-e80c-351bc23d942b"
      },
      "execution_count": null,
      "outputs": [
        {
          "output_type": "execute_result",
          "data": {
            "text/plain": [
              "(1017209, 18)"
            ]
          },
          "metadata": {},
          "execution_count": 16
        }
      ]
    },
    {
      "cell_type": "markdown",
      "source": [
        "## **Changing different dtypes to int type**"
      ],
      "metadata": {
        "id": "-cybcdyPRaYk"
      }
    },
    {
      "cell_type": "code",
      "source": [
        "final.loc[final['StateHoliday'] == '0', 'StateHoliday'] = 0\n",
        "final.loc[final['StateHoliday'] == 'a', 'StateHoliday'] = 1\n",
        "final.loc[final['StateHoliday'] == 'b', 'StateHoliday'] = 2\n",
        "final.loc[final['StateHoliday'] == 'c', 'StateHoliday'] = 3\n",
        "final['StateHoliday'] = final['StateHoliday'].astype(int, copy=False)\n",
        "\n",
        "print('levels :', final['StateHoliday'].unique(), '; data type : ', final['StateHoliday'].dtype)"
      ],
      "metadata": {
        "colab": {
          "base_uri": "https://localhost:8080/"
        },
        "id": "fOCi5SCQRVcF",
        "outputId": "73708ba5-2f1a-4bda-8cd0-78c27c1c4913"
      },
      "execution_count": null,
      "outputs": [
        {
          "output_type": "stream",
          "name": "stdout",
          "text": [
            "levels : [0 1 2 3] ; data type :  int64\n"
          ]
        }
      ]
    },
    {
      "cell_type": "code",
      "source": [
        "final.loc[final['Assortment'] == 'a', 'Assortment'] = 0\n",
        "final.loc[final['Assortment'] == 'b', 'Assortment'] = 1\n",
        "final.loc[final['Assortment'] == 'c', 'Assortment'] = 2\n",
        "final['Assortment'] = final['Assortment'].astype(int, copy=False)\n",
        "\n",
        "print('levels:', final['Assortment'].unique(), '; data type :', final['Assortment'].dtype)"
      ],
      "metadata": {
        "colab": {
          "base_uri": "https://localhost:8080/"
        },
        "id": "PawvfKYWTHI0",
        "outputId": "befe849d-29e1-4690-c11b-87dbd329b22a"
      },
      "execution_count": null,
      "outputs": [
        {
          "output_type": "stream",
          "name": "stdout",
          "text": [
            "levels: [0 2 1] ; data type : int64\n"
          ]
        }
      ]
    },
    {
      "cell_type": "code",
      "source": [
        "final.loc[final['StoreType'] == 'a', 'StoreType'] = 0\n",
        "final.loc[final['StoreType'] == 'b', 'StoreType'] = 1\n",
        "final.loc[final['StoreType'] == 'c', 'StoreType'] = 2\n",
        "final.loc[final['StoreType'] == 'd', 'StoreType'] = 3\n",
        "final['StoreType'] = final['StoreType'].astype(int, copy=False)\n",
        "\n",
        "print('levels:', final['StoreType'].unique(), '; data type :', final['StoreType'].dtype)"
      ],
      "metadata": {
        "colab": {
          "base_uri": "https://localhost:8080/"
        },
        "id": "gTAqGvTFUHyN",
        "outputId": "ad0af313-6e2b-4b83-ca0c-6e20e87b8a41"
      },
      "execution_count": null,
      "outputs": [
        {
          "output_type": "stream",
          "name": "stdout",
          "text": [
            "levels: [2 0 3 1] ; data type : int64\n"
          ]
        }
      ]
    },
    {
      "cell_type": "code",
      "source": [
        "## Changing the data format from object to datetime\n",
        "final['Date'] = pd.to_datetime(final['Date'], format = '%Y-%m-%d')"
      ],
      "metadata": {
        "id": "FWuFeIcWV_ID"
      },
      "execution_count": null,
      "outputs": []
    },
    {
      "cell_type": "code",
      "source": [
        "final['CompetitionOpenSinceYear'] = final['CompetitionOpenSinceYear'].astype(int)\n",
        "final['Promo2SinceYear'] = final['Promo2SinceYear'].astype(int)"
      ],
      "metadata": {
        "id": "hyXMX6GHW1JA"
      },
      "execution_count": null,
      "outputs": []
    },
    {
      "cell_type": "code",
      "source": [
        "final['CompetitionOpenSinceMonth'] = pd.DatetimeIndex(final['Date']).month"
      ],
      "metadata": {
        "id": "3VBeGWpPXVPT"
      },
      "execution_count": null,
      "outputs": []
    },
    {
      "cell_type": "code",
      "source": [
        "final['CompetitionDistance'] = final['CompetitionDistance'].astype(int)\n",
        "final['Promo2SinceWeek'] = final['Promo2SinceWeek'].astype(int)"
      ],
      "metadata": {
        "id": "6ZYbpSixXt_g"
      },
      "execution_count": null,
      "outputs": []
    },
    {
      "cell_type": "code",
      "source": [
        "final.dtypes"
      ],
      "metadata": {
        "colab": {
          "base_uri": "https://localhost:8080/"
        },
        "id": "QIZ4mb1gYj-q",
        "outputId": "f112c436-97b2-45c2-9990-f3b8e1a59f06"
      },
      "execution_count": null,
      "outputs": [
        {
          "output_type": "execute_result",
          "data": {
            "text/plain": [
              "Store                                 int64\n",
              "DayOfWeek                             int64\n",
              "Date                         datetime64[ns]\n",
              "Sales                                 int64\n",
              "Customers                             int64\n",
              "Open                                  int64\n",
              "Promo                                 int64\n",
              "StateHoliday                          int64\n",
              "SchoolHoliday                         int64\n",
              "StoreType                             int64\n",
              "Assortment                            int64\n",
              "CompetitionDistance                   int64\n",
              "CompetitionOpenSinceMonth             int64\n",
              "CompetitionOpenSinceYear              int64\n",
              "Promo2                                int64\n",
              "Promo2SinceWeek                       int64\n",
              "Promo2SinceYear                       int64\n",
              "PromoInterval                        object\n",
              "dtype: object"
            ]
          },
          "metadata": {},
          "execution_count": 24
        }
      ]
    },
    {
      "cell_type": "markdown",
      "source": [
        "## **Exploratory Data Analysis**"
      ],
      "metadata": {
        "id": "iBjZIkCCbO6F"
      }
    },
    {
      "cell_type": "code",
      "source": [
        "final.describe().apply(lambda s: s.apply('{0:.2f}'.format))"
      ],
      "metadata": {
        "colab": {
          "base_uri": "https://localhost:8080/",
          "height": 364
        },
        "id": "_OjyM8OLbGq8",
        "outputId": "7552e82f-fc38-437a-ef6f-76aadf32d338"
      },
      "execution_count": null,
      "outputs": [
        {
          "output_type": "execute_result",
          "data": {
            "text/plain": [
              "            Store   DayOfWeek       Sales   Customers        Open       Promo  \\\n",
              "count  1017209.00  1017209.00  1017209.00  1017209.00  1017209.00  1017209.00   \n",
              "mean       558.43        4.00     5773.82      633.15        0.83        0.38   \n",
              "std        321.91        2.00     3849.93      464.41        0.38        0.49   \n",
              "min          1.00        1.00        0.00        0.00        0.00        0.00   \n",
              "25%        280.00        2.00     3727.00      405.00        1.00        0.00   \n",
              "50%        558.00        4.00     5744.00      609.00        1.00        0.00   \n",
              "75%        838.00        6.00     7856.00      837.00        1.00        1.00   \n",
              "max       1115.00        7.00    41551.00     7388.00        1.00        1.00   \n",
              "\n",
              "      StateHoliday SchoolHoliday   StoreType  Assortment CompetitionDistance  \\\n",
              "count   1017209.00    1017209.00  1017209.00  1017209.00          1017209.00   \n",
              "mean          0.05          0.18        1.21        0.94             5422.02   \n",
              "std           0.28          0.38        1.37        0.99             7706.92   \n",
              "min           0.00          0.00        0.00        0.00               20.00   \n",
              "25%           0.00          0.00        0.00        0.00              710.00   \n",
              "50%           0.00          0.00        0.00        0.00             2325.00   \n",
              "75%           0.00          0.00        3.00        2.00             6880.00   \n",
              "max           3.00          1.00        3.00        2.00            75860.00   \n",
              "\n",
              "      CompetitionOpenSinceMonth CompetitionOpenSinceYear      Promo2  \\\n",
              "count                1017209.00               1017209.00  1017209.00   \n",
              "mean                       5.85                  1370.17        0.50   \n",
              "std                        3.33                   935.36        0.50   \n",
              "min                        1.00                     0.00        0.00   \n",
              "25%                        3.00                     0.00        0.00   \n",
              "50%                        6.00                  2006.00        1.00   \n",
              "75%                        8.00                  2011.00        1.00   \n",
              "max                       12.00                  2015.00        1.00   \n",
              "\n",
              "      Promo2SinceWeek Promo2SinceYear  \n",
              "count      1017209.00      1017209.00  \n",
              "mean            11.65         1007.01  \n",
              "std             15.32         1005.88  \n",
              "min              0.00            0.00  \n",
              "25%              0.00            0.00  \n",
              "50%              1.00         2009.00  \n",
              "75%             22.00         2012.00  \n",
              "max             50.00         2015.00  "
            ],
            "text/html": [
              "\n",
              "  <div id=\"df-64ecab76-034d-491a-9b06-bae407791ea9\">\n",
              "    <div class=\"colab-df-container\">\n",
              "      <div>\n",
              "<style scoped>\n",
              "    .dataframe tbody tr th:only-of-type {\n",
              "        vertical-align: middle;\n",
              "    }\n",
              "\n",
              "    .dataframe tbody tr th {\n",
              "        vertical-align: top;\n",
              "    }\n",
              "\n",
              "    .dataframe thead th {\n",
              "        text-align: right;\n",
              "    }\n",
              "</style>\n",
              "<table border=\"1\" class=\"dataframe\">\n",
              "  <thead>\n",
              "    <tr style=\"text-align: right;\">\n",
              "      <th></th>\n",
              "      <th>Store</th>\n",
              "      <th>DayOfWeek</th>\n",
              "      <th>Sales</th>\n",
              "      <th>Customers</th>\n",
              "      <th>Open</th>\n",
              "      <th>Promo</th>\n",
              "      <th>StateHoliday</th>\n",
              "      <th>SchoolHoliday</th>\n",
              "      <th>StoreType</th>\n",
              "      <th>Assortment</th>\n",
              "      <th>CompetitionDistance</th>\n",
              "      <th>CompetitionOpenSinceMonth</th>\n",
              "      <th>CompetitionOpenSinceYear</th>\n",
              "      <th>Promo2</th>\n",
              "      <th>Promo2SinceWeek</th>\n",
              "      <th>Promo2SinceYear</th>\n",
              "    </tr>\n",
              "  </thead>\n",
              "  <tbody>\n",
              "    <tr>\n",
              "      <th>count</th>\n",
              "      <td>1017209.00</td>\n",
              "      <td>1017209.00</td>\n",
              "      <td>1017209.00</td>\n",
              "      <td>1017209.00</td>\n",
              "      <td>1017209.00</td>\n",
              "      <td>1017209.00</td>\n",
              "      <td>1017209.00</td>\n",
              "      <td>1017209.00</td>\n",
              "      <td>1017209.00</td>\n",
              "      <td>1017209.00</td>\n",
              "      <td>1017209.00</td>\n",
              "      <td>1017209.00</td>\n",
              "      <td>1017209.00</td>\n",
              "      <td>1017209.00</td>\n",
              "      <td>1017209.00</td>\n",
              "      <td>1017209.00</td>\n",
              "    </tr>\n",
              "    <tr>\n",
              "      <th>mean</th>\n",
              "      <td>558.43</td>\n",
              "      <td>4.00</td>\n",
              "      <td>5773.82</td>\n",
              "      <td>633.15</td>\n",
              "      <td>0.83</td>\n",
              "      <td>0.38</td>\n",
              "      <td>0.05</td>\n",
              "      <td>0.18</td>\n",
              "      <td>1.21</td>\n",
              "      <td>0.94</td>\n",
              "      <td>5422.02</td>\n",
              "      <td>5.85</td>\n",
              "      <td>1370.17</td>\n",
              "      <td>0.50</td>\n",
              "      <td>11.65</td>\n",
              "      <td>1007.01</td>\n",
              "    </tr>\n",
              "    <tr>\n",
              "      <th>std</th>\n",
              "      <td>321.91</td>\n",
              "      <td>2.00</td>\n",
              "      <td>3849.93</td>\n",
              "      <td>464.41</td>\n",
              "      <td>0.38</td>\n",
              "      <td>0.49</td>\n",
              "      <td>0.28</td>\n",
              "      <td>0.38</td>\n",
              "      <td>1.37</td>\n",
              "      <td>0.99</td>\n",
              "      <td>7706.92</td>\n",
              "      <td>3.33</td>\n",
              "      <td>935.36</td>\n",
              "      <td>0.50</td>\n",
              "      <td>15.32</td>\n",
              "      <td>1005.88</td>\n",
              "    </tr>\n",
              "    <tr>\n",
              "      <th>min</th>\n",
              "      <td>1.00</td>\n",
              "      <td>1.00</td>\n",
              "      <td>0.00</td>\n",
              "      <td>0.00</td>\n",
              "      <td>0.00</td>\n",
              "      <td>0.00</td>\n",
              "      <td>0.00</td>\n",
              "      <td>0.00</td>\n",
              "      <td>0.00</td>\n",
              "      <td>0.00</td>\n",
              "      <td>20.00</td>\n",
              "      <td>1.00</td>\n",
              "      <td>0.00</td>\n",
              "      <td>0.00</td>\n",
              "      <td>0.00</td>\n",
              "      <td>0.00</td>\n",
              "    </tr>\n",
              "    <tr>\n",
              "      <th>25%</th>\n",
              "      <td>280.00</td>\n",
              "      <td>2.00</td>\n",
              "      <td>3727.00</td>\n",
              "      <td>405.00</td>\n",
              "      <td>1.00</td>\n",
              "      <td>0.00</td>\n",
              "      <td>0.00</td>\n",
              "      <td>0.00</td>\n",
              "      <td>0.00</td>\n",
              "      <td>0.00</td>\n",
              "      <td>710.00</td>\n",
              "      <td>3.00</td>\n",
              "      <td>0.00</td>\n",
              "      <td>0.00</td>\n",
              "      <td>0.00</td>\n",
              "      <td>0.00</td>\n",
              "    </tr>\n",
              "    <tr>\n",
              "      <th>50%</th>\n",
              "      <td>558.00</td>\n",
              "      <td>4.00</td>\n",
              "      <td>5744.00</td>\n",
              "      <td>609.00</td>\n",
              "      <td>1.00</td>\n",
              "      <td>0.00</td>\n",
              "      <td>0.00</td>\n",
              "      <td>0.00</td>\n",
              "      <td>0.00</td>\n",
              "      <td>0.00</td>\n",
              "      <td>2325.00</td>\n",
              "      <td>6.00</td>\n",
              "      <td>2006.00</td>\n",
              "      <td>1.00</td>\n",
              "      <td>1.00</td>\n",
              "      <td>2009.00</td>\n",
              "    </tr>\n",
              "    <tr>\n",
              "      <th>75%</th>\n",
              "      <td>838.00</td>\n",
              "      <td>6.00</td>\n",
              "      <td>7856.00</td>\n",
              "      <td>837.00</td>\n",
              "      <td>1.00</td>\n",
              "      <td>1.00</td>\n",
              "      <td>0.00</td>\n",
              "      <td>0.00</td>\n",
              "      <td>3.00</td>\n",
              "      <td>2.00</td>\n",
              "      <td>6880.00</td>\n",
              "      <td>8.00</td>\n",
              "      <td>2011.00</td>\n",
              "      <td>1.00</td>\n",
              "      <td>22.00</td>\n",
              "      <td>2012.00</td>\n",
              "    </tr>\n",
              "    <tr>\n",
              "      <th>max</th>\n",
              "      <td>1115.00</td>\n",
              "      <td>7.00</td>\n",
              "      <td>41551.00</td>\n",
              "      <td>7388.00</td>\n",
              "      <td>1.00</td>\n",
              "      <td>1.00</td>\n",
              "      <td>3.00</td>\n",
              "      <td>1.00</td>\n",
              "      <td>3.00</td>\n",
              "      <td>2.00</td>\n",
              "      <td>75860.00</td>\n",
              "      <td>12.00</td>\n",
              "      <td>2015.00</td>\n",
              "      <td>1.00</td>\n",
              "      <td>50.00</td>\n",
              "      <td>2015.00</td>\n",
              "    </tr>\n",
              "  </tbody>\n",
              "</table>\n",
              "</div>\n",
              "      <button class=\"colab-df-convert\" onclick=\"convertToInteractive('df-64ecab76-034d-491a-9b06-bae407791ea9')\"\n",
              "              title=\"Convert this dataframe to an interactive table.\"\n",
              "              style=\"display:none;\">\n",
              "        \n",
              "  <svg xmlns=\"http://www.w3.org/2000/svg\" height=\"24px\"viewBox=\"0 0 24 24\"\n",
              "       width=\"24px\">\n",
              "    <path d=\"M0 0h24v24H0V0z\" fill=\"none\"/>\n",
              "    <path d=\"M18.56 5.44l.94 2.06.94-2.06 2.06-.94-2.06-.94-.94-2.06-.94 2.06-2.06.94zm-11 1L8.5 8.5l.94-2.06 2.06-.94-2.06-.94L8.5 2.5l-.94 2.06-2.06.94zm10 10l.94 2.06.94-2.06 2.06-.94-2.06-.94-.94-2.06-.94 2.06-2.06.94z\"/><path d=\"M17.41 7.96l-1.37-1.37c-.4-.4-.92-.59-1.43-.59-.52 0-1.04.2-1.43.59L10.3 9.45l-7.72 7.72c-.78.78-.78 2.05 0 2.83L4 21.41c.39.39.9.59 1.41.59.51 0 1.02-.2 1.41-.59l7.78-7.78 2.81-2.81c.8-.78.8-2.07 0-2.86zM5.41 20L4 18.59l7.72-7.72 1.47 1.35L5.41 20z\"/>\n",
              "  </svg>\n",
              "      </button>\n",
              "      \n",
              "  <style>\n",
              "    .colab-df-container {\n",
              "      display:flex;\n",
              "      flex-wrap:wrap;\n",
              "      gap: 12px;\n",
              "    }\n",
              "\n",
              "    .colab-df-convert {\n",
              "      background-color: #E8F0FE;\n",
              "      border: none;\n",
              "      border-radius: 50%;\n",
              "      cursor: pointer;\n",
              "      display: none;\n",
              "      fill: #1967D2;\n",
              "      height: 32px;\n",
              "      padding: 0 0 0 0;\n",
              "      width: 32px;\n",
              "    }\n",
              "\n",
              "    .colab-df-convert:hover {\n",
              "      background-color: #E2EBFA;\n",
              "      box-shadow: 0px 1px 2px rgba(60, 64, 67, 0.3), 0px 1px 3px 1px rgba(60, 64, 67, 0.15);\n",
              "      fill: #174EA6;\n",
              "    }\n",
              "\n",
              "    [theme=dark] .colab-df-convert {\n",
              "      background-color: #3B4455;\n",
              "      fill: #D2E3FC;\n",
              "    }\n",
              "\n",
              "    [theme=dark] .colab-df-convert:hover {\n",
              "      background-color: #434B5C;\n",
              "      box-shadow: 0px 1px 3px 1px rgba(0, 0, 0, 0.15);\n",
              "      filter: drop-shadow(0px 1px 2px rgba(0, 0, 0, 0.3));\n",
              "      fill: #FFFFFF;\n",
              "    }\n",
              "  </style>\n",
              "\n",
              "      <script>\n",
              "        const buttonEl =\n",
              "          document.querySelector('#df-64ecab76-034d-491a-9b06-bae407791ea9 button.colab-df-convert');\n",
              "        buttonEl.style.display =\n",
              "          google.colab.kernel.accessAllowed ? 'block' : 'none';\n",
              "\n",
              "        async function convertToInteractive(key) {\n",
              "          const element = document.querySelector('#df-64ecab76-034d-491a-9b06-bae407791ea9');\n",
              "          const dataTable =\n",
              "            await google.colab.kernel.invokeFunction('convertToInteractive',\n",
              "                                                     [key], {});\n",
              "          if (!dataTable) return;\n",
              "\n",
              "          const docLinkHtml = 'Like what you see? Visit the ' +\n",
              "            '<a target=\"_blank\" href=https://colab.research.google.com/notebooks/data_table.ipynb>data table notebook</a>'\n",
              "            + ' to learn more about interactive tables.';\n",
              "          element.innerHTML = '';\n",
              "          dataTable['output_type'] = 'display_data';\n",
              "          await google.colab.output.renderOutput(dataTable, element);\n",
              "          const docLink = document.createElement('div');\n",
              "          docLink.innerHTML = docLinkHtml;\n",
              "          element.appendChild(docLink);\n",
              "        }\n",
              "      </script>\n",
              "    </div>\n",
              "  </div>\n",
              "  "
            ]
          },
          "metadata": {},
          "execution_count": 25
        }
      ]
    },
    {
      "cell_type": "code",
      "source": [
        "final.info()"
      ],
      "metadata": {
        "colab": {
          "base_uri": "https://localhost:8080/"
        },
        "id": "FgIsuHzzcIVS",
        "outputId": "a5a9fd03-4e71-470d-b468-b6c854bd791f"
      },
      "execution_count": null,
      "outputs": [
        {
          "output_type": "stream",
          "name": "stdout",
          "text": [
            "<class 'pandas.core.frame.DataFrame'>\n",
            "Int64Index: 1017209 entries, 0 to 1017208\n",
            "Data columns (total 18 columns):\n",
            " #   Column                     Non-Null Count    Dtype         \n",
            "---  ------                     --------------    -----         \n",
            " 0   Store                      1017209 non-null  int64         \n",
            " 1   DayOfWeek                  1017209 non-null  int64         \n",
            " 2   Date                       1017209 non-null  datetime64[ns]\n",
            " 3   Sales                      1017209 non-null  int64         \n",
            " 4   Customers                  1017209 non-null  int64         \n",
            " 5   Open                       1017209 non-null  int64         \n",
            " 6   Promo                      1017209 non-null  int64         \n",
            " 7   StateHoliday               1017209 non-null  int64         \n",
            " 8   SchoolHoliday              1017209 non-null  int64         \n",
            " 9   StoreType                  1017209 non-null  int64         \n",
            " 10  Assortment                 1017209 non-null  int64         \n",
            " 11  CompetitionDistance        1017209 non-null  int64         \n",
            " 12  CompetitionOpenSinceMonth  1017209 non-null  int64         \n",
            " 13  CompetitionOpenSinceYear   1017209 non-null  int64         \n",
            " 14  Promo2                     1017209 non-null  int64         \n",
            " 15  Promo2SinceWeek            1017209 non-null  int64         \n",
            " 16  Promo2SinceYear            1017209 non-null  int64         \n",
            " 17  PromoInterval              1017209 non-null  object        \n",
            "dtypes: datetime64[ns](1), int64(16), object(1)\n",
            "memory usage: 147.5+ MB\n"
          ]
        }
      ]
    },
    {
      "cell_type": "markdown",
      "source": [
        "## **SALES**"
      ],
      "metadata": {
        "id": "3FHIHQQzdQUO"
      }
    },
    {
      "cell_type": "code",
      "source": [
        "plt.figure(figsize=(16,8))\n",
        "sns.pointplot(x = 'CompetitionOpenSinceYear', y='Sales', data=final)\n",
        "plt.title('Plot between Competition Open Since year and Sales')"
      ],
      "metadata": {
        "colab": {
          "base_uri": "https://localhost:8080/",
          "height": 530
        },
        "id": "4NkdvvSEc1Yd",
        "outputId": "733654d4-0eb7-4f46-e736-4080a22d2cd6"
      },
      "execution_count": null,
      "outputs": [
        {
          "output_type": "execute_result",
          "data": {
            "text/plain": [
              "Text(0.5, 1.0, 'Plot between Competition Open Since year and Sales')"
            ]
          },
          "metadata": {},
          "execution_count": 27
        },
        {
          "output_type": "display_data",
          "data": {
            "text/plain": [
              "<Figure size 1152x576 with 1 Axes>"
            ],
            "image/png": "[encoded data removed]"
          },
          "metadata": {
            "needs_background": "light"
          }
        }
      ]
    },
    {
      "cell_type": "markdown",
      "source": [
        "From the plot we can tell that sales are high during the year 1900, as there are very few store were operated of Rossmann so there is less competition and sales are high. But as year pass on number of stores increased that means competition also increased and this leads to decline in the sales"
      ],
      "metadata": {
        "id": "hnBEB80Jo2oZ"
      }
    },
    {
      "cell_type": "code",
      "source": [
        "plt.figure(figsize=(16,8))\n",
        "sns.pointplot(x= 'CompetitionOpenSinceMonth', y='Sales', data=final)\n",
        "plt.title('Plot between Competition Open Since Month and Sales')"
      ],
      "metadata": {
        "colab": {
          "base_uri": "https://localhost:8080/",
          "height": 530
        },
        "id": "ykaTqztloBeH",
        "outputId": "d06ca34a-89b6-4156-e371-bf305e0bc007"
      },
      "execution_count": null,
      "outputs": [
        {
          "output_type": "execute_result",
          "data": {
            "text/plain": [
              "Text(0.5, 1.0, 'Plot between Competition Open Since Month and Sales')"
            ]
          },
          "metadata": {},
          "execution_count": 28
        },
        {
          "output_type": "display_data",
          "data": {
            "text/plain": [
              "<Figure size 1152x576 with 1 Axes>"
            ],
            "image/png": "[encoded data removed]"
          },
          "metadata": {
            "needs_background": "light"
          }
        }
      ]
    },
    {
      "cell_type": "markdown",
      "source": [
        "Plot between Competition Open Since month and sales explain the sales date in each month of a year. This data shows that sales after month november increases drastically. This is very clear that in December month due to Chirstmas Eve and New year celebration everyone is buying so sales of Rossmann store is very hig in December"
      ],
      "metadata": {
        "id": "ZHNmTpHJ6mid"
      }
    },
    {
      "cell_type": "code",
      "source": [
        "plt.figure(figsize=(15,6))\n",
        "sns.pointplot(x= 'DayOfWeek', y= 'Sales', data= final)\n",
        "plt.title('Plot between Sales and Day of Week')"
      ],
      "metadata": {
        "id": "wrjXhcbCqDZv",
        "colab": {
          "base_uri": "https://localhost:8080/",
          "height": 421
        },
        "outputId": "4e372e22-29f3-4783-d97e-23e0f6a4ecba"
      },
      "execution_count": null,
      "outputs": [
        {
          "output_type": "execute_result",
          "data": {
            "text/plain": [
              "Text(0.5, 1.0, 'Plot between Sales and Day of Week')"
            ]
          },
          "metadata": {},
          "execution_count": 29
        },
        {
          "output_type": "display_data",
          "data": {
            "text/plain": [
              "<Figure size 1080x432 with 1 Axes>"
            ],
            "image/png": "[encoded data removed]"
          },
          "metadata": {
            "needs_background": "light"
          }
        }
      ]
    },
    {
      "cell_type": "markdown",
      "source": [
        "Plot between Sales and Daysof week shows that maximum sales is on Monday and sales gradually decreasing to 6th day of week i.e. on saturday. It also shows that sales on Sunday is almost near to Zero as on sunday maximumstores are closed."
      ],
      "metadata": {
        "id": "rVAAcvBG8N1o"
      }
    },
    {
      "cell_type": "markdown",
      "source": [
        "Plot between **DayOfWeek** and **Open** & **Promo**"
      ],
      "metadata": {
        "id": "Z88OsQU-89A_"
      }
    },
    {
      "cell_type": "code",
      "source": [
        "sns.countplot(y= 'DayOfWeek', hue= 'Open', data= final, palette='cool')\n",
        "plt.title('Store Daily Open Countplot')"
      ],
      "metadata": {
        "colab": {
          "base_uri": "https://localhost:8080/",
          "height": 312
        },
        "id": "akYh0JHz8Ag3",
        "outputId": "07450f39-b88b-4b69-92be-7822ba2768ac"
      },
      "execution_count": null,
      "outputs": [
        {
          "output_type": "execute_result",
          "data": {
            "text/plain": [
              "Text(0.5, 1.0, 'Store Daily Open Countplot')"
            ]
          },
          "metadata": {},
          "execution_count": 30
        },
        {
          "output_type": "display_data",
          "data": {
            "text/plain": [
              "<Figure size 432x288 with 1 Axes>"
            ],
            "image/png": "[encoded data removed]"
          },
          "metadata": {
            "needs_background": "light"
          }
        }
      ]
    },
    {
      "cell_type": "code",
      "source": [
        "sns.countplot(y= 'DayOfWeek', hue='Promo', data= final, palette= 'cool')\n",
        "plt.title('Store Daily Promo Countplot')"
      ],
      "metadata": {
        "colab": {
          "base_uri": "https://localhost:8080/",
          "height": 312
        },
        "id": "7aUAvmSx91dN",
        "outputId": "504c474c-b418-422e-893e-19f8b31db504"
      },
      "execution_count": null,
      "outputs": [
        {
          "output_type": "execute_result",
          "data": {
            "text/plain": [
              "Text(0.5, 1.0, 'Store Daily Promo Countplot')"
            ]
          },
          "metadata": {},
          "execution_count": 31
        },
        {
          "output_type": "display_data",
          "data": {
            "text/plain": [
              "<Figure size 432x288 with 1 Axes>"
            ],
            "image/png": "[encoded data removed]"
          },
          "metadata": {
            "needs_background": "light"
          }
        }
      ]
    },
    {
      "cell_type": "markdown",
      "source": [
        "## **Promo**"
      ],
      "metadata": {
        "id": "PyKJlqDh-ewS"
      }
    },
    {
      "cell_type": "code",
      "source": [
        "promo_sales = sns.barplot(x= 'Promo', y= 'Sales', data= final, palette= 'RdPu')\n"
      ],
      "metadata": {
        "colab": {
          "base_uri": "https://localhost:8080/",
          "height": 279
        },
        "id": "WJLNduA5-Ywg",
        "outputId": "abcbc2a6-25e4-46f1-a672-532a06a9468b"
      },
      "execution_count": null,
      "outputs": [
        {
          "output_type": "display_data",
          "data": {
            "text/plain": [
              "<Figure size 432x288 with 1 Axes>"
            ],
            "image/png": "[encoded data removed]"
          },
          "metadata": {
            "needs_background": "light"
          }
        }
      ]
    },
    {
      "cell_type": "markdown",
      "source": [
        "Barplot between promo and sales shows the effect of promotion on sales. Here 0 represents the store which didn't opt for promotion and 1 represents for stores who opt for promotion. Those stores who took promotions their sales are high as compared to stores who didn't took promotion."
      ],
      "metadata": {
        "id": "Q-KlDr6F_aic"
      }
    },
    {
      "cell_type": "markdown",
      "source": [
        "### **StateHoliday and SchoolHoliday**\n",
        "\n",
        "0 = Public Holiday, 1 = Easter Holiday, 2 = Chirstmas, 3 = None"
      ],
      "metadata": {
        "id": "-tjGfAM0BKT3"
      }
    },
    {
      "cell_type": "code",
      "source": [
        "Stateholiday_sales = sns.barplot(x=\"StateHoliday\", y=\"Sales\", data=final)\n",
        "plt.title('Sales During State Holiday')"
      ],
      "metadata": {
        "colab": {
          "base_uri": "https://localhost:8080/",
          "height": 312
        },
        "id": "ZO2H-NpA_O-w",
        "outputId": "0d86009f-3428-4e3f-f334-5c586470d93f"
      },
      "execution_count": null,
      "outputs": [
        {
          "output_type": "execute_result",
          "data": {
            "text/plain": [
              "Text(0.5, 1.0, 'Sales During State Holiday')"
            ]
          },
          "metadata": {},
          "execution_count": 33
        },
        {
          "output_type": "display_data",
          "data": {
            "text/plain": [
              "<Figure size 432x288 with 1 Axes>"
            ],
            "image/png": "[encoded data removed]"
          },
          "metadata": {
            "needs_background": "light"
          }
        }
      ]
    },
    {
      "cell_type": "code",
      "source": [
        "schoolholiday_sales = sns.barplot(x=\"SchoolHoliday\", y=\"Sales\",data=final)\n",
        "plt.title('Sales During School Holiday')"
      ],
      "metadata": {
        "id": "u899_sVbBFif",
        "colab": {
          "base_uri": "https://localhost:8080/",
          "height": 312
        },
        "outputId": "00e81013-488b-4050-ed41-080900bf30ed"
      },
      "execution_count": null,
      "outputs": [
        {
          "output_type": "execute_result",
          "data": {
            "text/plain": [
              "Text(0.5, 1.0, 'Sales During School Holiday')"
            ]
          },
          "metadata": {},
          "execution_count": 34
        },
        {
          "output_type": "display_data",
          "data": {
            "text/plain": [
              "<Figure size 432x288 with 1 Axes>"
            ],
            "image/png": "[encoded data removed]"
          },
          "metadata": {
            "needs_background": "light"
          }
        }
      ]
    },
    {
      "cell_type": "markdown",
      "source": [
        "We can observe that most of the stores remain closed during state and holidays. But it is interesting to note that the number of stores opened during School Holiday. Another important thing to note is that the stores which were opened during school holidays had more sales than normal.\n",
        "\n",
        "\n",
        "### **Boxplot of sales between Assortment and store type**"
      ],
      "metadata": {
        "id": "pA9lQzpVoixE"
      }
    },
    {
      "cell_type": "code",
      "source": [
        "plt.figure(figsize=(12,8))\n",
        "plot_storetype_sales = sns.boxplot(x=\"StoreType\", y=\"Sales\", data=final)\n",
        "plt.title('Boxplot For Sales Values')"
      ],
      "metadata": {
        "colab": {
          "base_uri": "https://localhost:8080/",
          "height": 530
        },
        "id": "x1caTScMoglA",
        "outputId": "4c2dbba2-24a2-4727-93ff-16763d91a273"
      },
      "execution_count": null,
      "outputs": [
        {
          "output_type": "execute_result",
          "data": {
            "text/plain": [
              "Text(0.5, 1.0, 'Boxplot For Sales Values')"
            ]
          },
          "metadata": {},
          "execution_count": 35
        },
        {
          "output_type": "display_data",
          "data": {
            "text/plain": [
              "<Figure size 864x576 with 1 Axes>"
            ],
            "image/png": "[encoded data removed]"
          },
          "metadata": {
            "needs_background": "light"
          }
        }
      ]
    },
    {
      "cell_type": "code",
      "source": [
        "plt.figure(figsize=(12,8))\n",
        "plot_storetype_sales = sns.boxplot(x=\"Assortment\", y=\"Sales\", data=final)\n",
        "plt.title('Boxplot For Sales  Values on the basis of Assortment Level')"
      ],
      "metadata": {
        "colab": {
          "base_uri": "https://localhost:8080/",
          "height": 530
        },
        "id": "RtII5WgJp6tR",
        "outputId": "2c25ff12-76b6-4b9d-8781-8ba25d761a24"
      },
      "execution_count": null,
      "outputs": [
        {
          "output_type": "execute_result",
          "data": {
            "text/plain": [
              "Text(0.5, 1.0, 'Boxplot For Sales  Values on the basis of Assortment Level')"
            ]
          },
          "metadata": {},
          "execution_count": 36
        },
        {
          "output_type": "display_data",
          "data": {
            "text/plain": [
              "<Figure size 864x576 with 1 Axes>"
            ],
            "image/png": "[encoded data removed]"
          },
          "metadata": {
            "needs_background": "light"
          }
        }
      ]
    },
    {
      "cell_type": "markdown",
      "source": [
        "### **Store Type**"
      ],
      "metadata": {
        "id": "RlM7D2bxq1H2"
      }
    },
    {
      "cell_type": "code",
      "source": [
        "merged_df = pd.merge(rossmann_df, store_new, on='Store', how='left')"
      ],
      "metadata": {
        "id": "TCVmKNR-qiVR"
      },
      "execution_count": null,
      "outputs": []
    },
    {
      "cell_type": "code",
      "source": [
        "import itertools\n",
        "fig, axes = plt.subplots(2,2,figsize=(17,10))\n",
        "palette = itertools.cycle(sns.color_palette(n_colors=4))\n",
        "plt.subplots_adjust(hspace = 0.28)\n",
        "axes[0,0].bar(merged_df.groupby(by=\"StoreType\").count().Store.index, merged_df.groupby(by=\"StoreType\").count().Store,color=[next(palette),next(palette),next(palette),next(palette)])\n",
        "axes[0,0].set_title(\"Number of Stores per Store Type \\n Fig 1.1\")\n",
        "axes[0,1].bar(merged_df.groupby(by=\"StoreType\").sum().Store.index,merged_df.groupby(by=\"StoreType\").sum().Sales/1e9,color=[next(palette),next(palette),next(palette),next(palette)])\n",
        "axes[0,1].set_title(\"Total Sales per Store Type \\n Fig 1.2\")\n",
        "axes[1,0].bar(merged_df.groupby(by=\"StoreType\").sum().Customers.index,merged_df.groupby(by=\"StoreType\").sum().Customers/1e6,color=[next(palette),next(palette),next(palette),next(palette)])\n",
        "axes[1,0].set_title(\"Total Number of Customers per Store Type (in millions) \\n Fig 1.3\")\n",
        "axes[1,1].bar(merged_df.groupby(by=\"StoreType\").sum().Customers.index,merged_df.groupby(by=\"StoreType\").Sales.mean(),color=[next(palette),next(palette),next(palette),next(palette)])\n",
        "axes[1,1].set_title(\"Average Sales per Store Type \\n Fig 1.4\")"
      ],
      "metadata": {
        "colab": {
          "base_uri": "https://localhost:8080/",
          "height": 640
        },
        "id": "BjWhFbjHrZTi",
        "outputId": "11f79ac3-dccd-46dc-e378-465211f14f57"
      },
      "execution_count": null,
      "outputs": [
        {
          "output_type": "execute_result",
          "data": {
            "text/plain": [
              "Text(0.5, 1.0, 'Average Sales per Store Type \\n Fig 1.4')"
            ]
          },
          "metadata": {},
          "execution_count": 38
        },
        {
          "output_type": "display_data",
          "data": {
            "text/plain": [
              "<Figure size 1224x720 with 4 Axes>"
            ],
            "image/png": "[encoded data removed]"
          },
          "metadata": {
            "needs_background": "light"
          }
        }
      ]
    },
    {
      "cell_type": "markdown",
      "source": [
        "From the this training dataset we can see that storetype A has the highest number of branches, sales & customers from the four different storetype but it doesn't mean its the best performing storetype \n",
        "\n",
        "when looking at the average sales and number of customers, we see that actually it is a storetype B who was the highest average sales and the highest average number of customers.\n",
        "\n",
        "**Assortments**\n",
        "\n",
        "As we cited in the description, assortments have three type and each store have defined type and assortment type \n",
        "\n",
        "1) a means basic things\n",
        "\n",
        "2) b means extra things\n",
        " \n",
        "3) c means extende things so the highest variety of products  "
      ],
      "metadata": {
        "id": "4nQ1Oh9VxrSF"
      }
    },
    {
      "cell_type": "code",
      "source": [
        "storetype_Assortment = sns.countplot(x=\"StoreType\",hue=\"Assortment\",order=[\"a\",\"b\",\"c\",\"d\"],data=merged_df,palette=sns.color_palette(n_colors=3)).set_title(\"Number of Different Assortment per Storetype\")\n",
        "merged_df.groupby(by=[\"StoreType\",\"Assortment\"]).Assortment.count()"
      ],
      "metadata": {
        "colab": {
          "base_uri": "https://localhost:8080/",
          "height": 486
        },
        "id": "X24jhzNPwKQm",
        "outputId": "0ea5f50e-8b02-4fc1-b82d-38f1c5878e33"
      },
      "execution_count": null,
      "outputs": [
        {
          "output_type": "execute_result",
          "data": {
            "text/plain": [
              "StoreType  Assortment\n",
              "a          a             346389\n",
              "           c             205238\n",
              "b          a               6594\n",
              "           b               8294\n",
              "           c                942\n",
              "c          a              70878\n",
              "           c              65962\n",
              "d          a             113584\n",
              "           c             199328\n",
              "Name: Assortment, dtype: int64"
            ]
          },
          "metadata": {},
          "execution_count": 39
        },
        {
          "output_type": "display_data",
          "data": {
            "text/plain": [
              "<Figure size 432x288 with 1 Axes>"
            ],
            "image/png": "[encoded data removed]"
          },
          "metadata": {
            "needs_background": "light"
          }
        }
      ]
    },
    {
      "cell_type": "markdown",
      "source": [
        "We can clearly see here that most of the stores have either a assortment type or C assortment. Interestingly enough storetype D which has the highest sales per customer average actually has mostly c assortment type, this most probabily the reason for having this high average in sales per customer. having variety in stores always increases the customers spending pattern \n",
        "\n",
        "**Conclusions From EDA**\n",
        "\n",
        "1. There are 2 datasets - 1)Rossmann.csv & 2)store.csv\n",
        "\n",
        "2. Shape of Rossmann dataset = (1017209,8) shape of store dataset = (1115,10)\n",
        "\n",
        "3. In both dataset 'Store' column is common. So we do inner join on the basis of column 'store'.\n",
        "\n",
        "4. On looking on datasets we find lots of NAN values in store dataset.\n",
        "\n",
        "5. Try to replace NAN values with suitable values. In competitiondistance column only 3 NAN values are there. So we replaced it with median.\n",
        "\n",
        "6. Now for rest of the columns (Competitionopensincemonth, Competitionopensinceyear, Promo2, Promointerval) there are lots of NAN values and the best way to treat these values to replace with 0.\n",
        "\n",
        "7. After combinning shape of final dataset (1017209,18).\n",
        "\n",
        "8. Also there is some column such as 'stateholiday', 'Schoolholiday' & 'Assortments' which contains object values. so, try to change into int by giving suitable values.\n",
        "\n",
        "We also did some graphs analysis and we got are:\n",
        "\n",
        "1) From plot sales and competition open since month shows sales go increasing from november and highest in month december. This may be due to Cristmas Eve and New Year.\n",
        "\n",
        "2) From plot sales and day of week, sales highest on monday and start declining from tuesday to saturday and on sunday sales almost near to 0. This because on sunday all stores be closed.\n",
        "\n",
        "3) plot between promotion and sales shows that promotion helps in increaseing sales. This similar trends also shows with customers.\n",
        "\n",
        "4) plot between state holidays and sales shows that during public holiday sales are actually high but for other holidays such as Ester and Christmas sales be very low. This is because Easter and Christmas stores also closed so sales goes down.\n",
        "\n",
        "\n",
        "## **Feature Engineering**"
      ],
      "metadata": {
        "id": "TRIIQN9Q0tcS"
      }
    },
    {
      "cell_type": "code",
      "source": [
        "numeric_features = ['DayOfWeek', 'Customers', 'Open', 'Promo', 'StateHoliday', 'SchoolHoliday', 'Promo2SinceWeek', 'CompetitionDistance', 'CompetitionOpenSinceMonth', 'CompetitionOpenSinceYear', 'Promo2', 'Promo2SinceYear', 'Promo2SinceWeek']"
      ],
      "metadata": {
        "id": "ukIzvfCR0Xj0"
      },
      "execution_count": null,
      "outputs": []
    },
    {
      "cell_type": "code",
      "source": [
        "for col in numeric_features[0:-1]:\n",
        "  fig = plt.figure(figsize=(9,6))\n",
        "  ax = fig.gca()\n",
        "  feature = final[col]\n",
        "  label = final['Sales']\n",
        "  correlation = feature.corr(label)\n",
        "  plt.scatter(x = feature, y=label)\n",
        "  plt.xlabel(col)\n",
        "  plt.ylabel('Sales')\n",
        "  ax.set_title('Sales vs ' + col + '- correlation: ' + str(correlation))\n",
        "  z = np.polyfit(final[col], final['Sales'], 1)\n",
        "  y_hat = np.poly1d(z)(final[col])\n",
        "\n",
        "  plt.plot(final[col], y_hat, \"r--\", lw=1)\n",
        "\n",
        "plt.show()"
      ],
      "metadata": {
        "colab": {
          "base_uri": "https://localhost:8080/",
          "height": 1000
        },
        "id": "xGhg_8pWQdfw",
        "outputId": "1567ae7c-bec0-4145-b520-866c420d5dd2"
      },
      "execution_count": null,
      "outputs": [
        {
          "output_type": "display_data",
          "data": {
            "text/plain": [
              "<Figure size 648x432 with 1 Axes>"
            ],
            "image/png": "[encoded data removed]"
          },
          "metadata": {
            "needs_background": "light"
          }
        },
        {
          "output_type": "display_data",
          "data": {
            "text/plain": [
              "<Figure size 648x432 with 1 Axes>"
            ],
            "image/png": "[encoded data removed]"
          },
          "metadata": {
            "needs_background": "light"
          }
        },
        {
          "output_type": "display_data",
          "data": {
            "text/plain": [
              "<Figure size 648x432 with 1 Axes>"
            ],
            "image/png": "[encoded data removed]"
          },
          "metadata": {
            "needs_background": "light"
          }
        },
        {
          "output_type": "display_data",
          "data": {
            "text/plain": [
              "<Figure size 648x432 with 1 Axes>"
            ],
            "image/png": "[encoded data removed]"
          },
          "metadata": {
            "needs_background": "light"
          }
        },
        {
          "output_type": "display_data",
          "data": {
            "text/plain": [
              "<Figure size 648x432 with 1 Axes>"
            ],
            "image/png": "[encoded data removed]"
          },
          "metadata": {
            "needs_background": "light"
          }
        },
        {
          "output_type": "display_data",
          "data": {
            "text/plain": [
              "<Figure size 648x432 with 1 Axes>"
            ],
            "image/png": "[encoded data removed]"
          },
          "metadata": {
            "needs_background": "light"
          }
        },
        {
          "output_type": "display_data",
          "data": {
            "text/plain": [
              "<Figure size 648x432 with 1 Axes>"
            ],
            "image/png": "[encoded data removed]"
          },
          "metadata": {
            "needs_background": "light"
          }
        },
        {
          "output_type": "display_data",
          "data": {
            "text/plain": [
              "<Figure size 648x432 with 1 Axes>"
            ],
            "image/png": "[encoded data removed]"
          },
          "metadata": {
            "needs_background": "light"
          }
        },
        {
          "output_type": "display_data",
          "data": {
            "text/plain": [
              "<Figure size 648x432 with 1 Axes>"
            ],
            "image/png": "[encoded data removed]"
          },
          "metadata": {
            "needs_background": "light"
          }
        },
        {
          "output_type": "display_data",
          "data": {
            "text/plain": [
              "<Figure size 648x432 with 1 Axes>"
            ],
            "image/png": "[encoded data removed]"
          },
          "metadata": {
            "needs_background": "light"
          }
        },
        {
          "output_type": "display_data",
          "data": {
            "text/plain": [
              "<Figure size 648x432 with 1 Axes>"
            ],
            "image/png": "[encoded data removed]"
          },
          "metadata": {
            "needs_background": "light"
          }
        },
        {
          "output_type": "display_data",
          "data": {
            "text/plain": [
              "<Figure size 648x432 with 1 Axes>"
            ],
            "image/png": "[encoded data removed]"
          },
          "metadata": {
            "needs_background": "light"
          }
        }
      ]
    },
    {
      "cell_type": "code",
      "source": [
        "plt.figure(figsize=(18,8))\n",
        "correlation = final.corr()\n",
        "sns.heatmap(abs(correlation), annot=True, cmap='coolwarm')"
      ],
      "metadata": {
        "colab": {
          "base_uri": "https://localhost:8080/",
          "height": 639
        },
        "id": "QAWWQjAWSEaM",
        "outputId": "d58dfd45-3991-4ce2-ac05-131050f9b9a8"
      },
      "execution_count": null,
      "outputs": [
        {
          "output_type": "execute_result",
          "data": {
            "text/plain": [
              "<matplotlib.axes._subplots.AxesSubplot at 0x7f3a76944790>"
            ]
          },
          "metadata": {},
          "execution_count": 42
        },
        {
          "output_type": "display_data",
          "data": {
            "text/plain": [
              "<Figure size 1296x576 with 2 Axes>"
            ],
            "image/png": "[encoded data removed]"
          },
          "metadata": {
            "needs_background": "light"
          }
        }
      ]
    },
    {
      "cell_type": "markdown",
      "source": [
        "### **Multicollinearity**"
      ],
      "metadata": {
        "id": "C1D7qXW0TER6"
      }
    },
    {
      "cell_type": "code",
      "source": [
        "from statsmodels.stats.outliers_influence import variance_inflation_factor\n",
        "def calc_vif(x):\n",
        "  vif = pd.DataFrame()\n",
        "  vif[\"variable\"] = x.columns\n",
        "  vif[\"vif\"] = [variance_inflation_factor(x.values,i) for i in range(x.shape[1])]\n",
        "\n",
        "  return(vif)"
      ],
      "metadata": {
        "id": "WjOohrT4SuI5"
      },
      "execution_count": null,
      "outputs": []
    },
    {
      "cell_type": "code",
      "source": [
        "calc_vif(final[[i for i in final.describe().columns if i not in['Saales']]])"
      ],
      "metadata": {
        "colab": {
          "base_uri": "https://localhost:8080/",
          "height": 551
        },
        "id": "RNnYh_1HT_Sj",
        "outputId": "b78d8b19-54a3-44a5-ddaf-813bc8930192"
      },
      "execution_count": null,
      "outputs": [
        {
          "output_type": "execute_result",
          "data": {
            "text/plain": [
              "                     variable           vif\n",
              "0                       Store  3.706097e+00\n",
              "1                   DayOfWeek  4.206152e+00\n",
              "2                       Sales  2.454071e+01\n",
              "3                   Customers  1.769331e+01\n",
              "4                        Open  1.000845e+01\n",
              "5                       Promo  2.205641e+00\n",
              "6                StateHoliday  1.196814e+00\n",
              "7               SchoolHoliday  1.330954e+00\n",
              "8                   StoreType  2.018765e+00\n",
              "9                  Assortment  2.074451e+00\n",
              "10        CompetitionDistance  1.614826e+00\n",
              "11  CompetitionOpenSinceMonth  3.859356e+00\n",
              "12   CompetitionOpenSinceYear  2.997260e+00\n",
              "13                     Promo2  1.579044e+06\n",
              "14            Promo2SinceWeek  4.012566e+00\n",
              "15            Promo2SinceYear  1.578008e+06"
            ],
            "text/html": [
              "\n",
              "  <div id=\"df-a73a1e97-4068-4fa4-b83c-872ee3dec3a0\">\n",
              "    <div class=\"colab-df-container\">\n",
              "      <div>\n",
              "<style scoped>\n",
              "    .dataframe tbody tr th:only-of-type {\n",
              "        vertical-align: middle;\n",
              "    }\n",
              "\n",
              "    .dataframe tbody tr th {\n",
              "        vertical-align: top;\n",
              "    }\n",
              "\n",
              "    .dataframe thead th {\n",
              "        text-align: right;\n",
              "    }\n",
              "</style>\n",
              "<table border=\"1\" class=\"dataframe\">\n",
              "  <thead>\n",
              "    <tr style=\"text-align: right;\">\n",
              "      <th></th>\n",
              "      <th>variable</th>\n",
              "      <th>vif</th>\n",
              "    </tr>\n",
              "  </thead>\n",
              "  <tbody>\n",
              "    <tr>\n",
              "      <th>0</th>\n",
              "      <td>Store</td>\n",
              "      <td>3.706097e+00</td>\n",
              "    </tr>\n",
              "    <tr>\n",
              "      <th>1</th>\n",
              "      <td>DayOfWeek</td>\n",
              "      <td>4.206152e+00</td>\n",
              "    </tr>\n",
              "    <tr>\n",
              "      <th>2</th>\n",
              "      <td>Sales</td>\n",
              "      <td>2.454071e+01</td>\n",
              "    </tr>\n",
              "    <tr>\n",
              "      <th>3</th>\n",
              "      <td>Customers</td>\n",
              "      <td>1.769331e+01</td>\n",
              "    </tr>\n",
              "    <tr>\n",
              "      <th>4</th>\n",
              "      <td>Open</td>\n",
              "      <td>1.000845e+01</td>\n",
              "    </tr>\n",
              "    <tr>\n",
              "      <th>5</th>\n",
              "      <td>Promo</td>\n",
              "      <td>2.205641e+00</td>\n",
              "    </tr>\n",
              "    <tr>\n",
              "      <th>6</th>\n",
              "      <td>StateHoliday</td>\n",
              "      <td>1.196814e+00</td>\n",
              "    </tr>\n",
              "    <tr>\n",
              "      <th>7</th>\n",
              "      <td>SchoolHoliday</td>\n",
              "      <td>1.330954e+00</td>\n",
              "    </tr>\n",
              "    <tr>\n",
              "      <th>8</th>\n",
              "      <td>StoreType</td>\n",
              "      <td>2.018765e+00</td>\n",
              "    </tr>\n",
              "    <tr>\n",
              "      <th>9</th>\n",
              "      <td>Assortment</td>\n",
              "      <td>2.074451e+00</td>\n",
              "    </tr>\n",
              "    <tr>\n",
              "      <th>10</th>\n",
              "      <td>CompetitionDistance</td>\n",
              "      <td>1.614826e+00</td>\n",
              "    </tr>\n",
              "    <tr>\n",
              "      <th>11</th>\n",
              "      <td>CompetitionOpenSinceMonth</td>\n",
              "      <td>3.859356e+00</td>\n",
              "    </tr>\n",
              "    <tr>\n",
              "      <th>12</th>\n",
              "      <td>CompetitionOpenSinceYear</td>\n",
              "      <td>2.997260e+00</td>\n",
              "    </tr>\n",
              "    <tr>\n",
              "      <th>13</th>\n",
              "      <td>Promo2</td>\n",
              "      <td>1.579044e+06</td>\n",
              "    </tr>\n",
              "    <tr>\n",
              "      <th>14</th>\n",
              "      <td>Promo2SinceWeek</td>\n",
              "      <td>4.012566e+00</td>\n",
              "    </tr>\n",
              "    <tr>\n",
              "      <th>15</th>\n",
              "      <td>Promo2SinceYear</td>\n",
              "      <td>1.578008e+06</td>\n",
              "    </tr>\n",
              "  </tbody>\n",
              "</table>\n",
              "</div>\n",
              "      <button class=\"colab-df-convert\" onclick=\"convertToInteractive('df-a73a1e97-4068-4fa4-b83c-872ee3dec3a0')\"\n",
              "              title=\"Convert this dataframe to an interactive table.\"\n",
              "              style=\"display:none;\">\n",
              "        \n",
              "  <svg xmlns=\"http://www.w3.org/2000/svg\" height=\"24px\"viewBox=\"0 0 24 24\"\n",
              "       width=\"24px\">\n",
              "    <path d=\"M0 0h24v24H0V0z\" fill=\"none\"/>\n",
              "    <path d=\"M18.56 5.44l.94 2.06.94-2.06 2.06-.94-2.06-.94-.94-2.06-.94 2.06-2.06.94zm-11 1L8.5 8.5l.94-2.06 2.06-.94-2.06-.94L8.5 2.5l-.94 2.06-2.06.94zm10 10l.94 2.06.94-2.06 2.06-.94-2.06-.94-.94-2.06-.94 2.06-2.06.94z\"/><path d=\"M17.41 7.96l-1.37-1.37c-.4-.4-.92-.59-1.43-.59-.52 0-1.04.2-1.43.59L10.3 9.45l-7.72 7.72c-.78.78-.78 2.05 0 2.83L4 21.41c.39.39.9.59 1.41.59.51 0 1.02-.2 1.41-.59l7.78-7.78 2.81-2.81c.8-.78.8-2.07 0-2.86zM5.41 20L4 18.59l7.72-7.72 1.47 1.35L5.41 20z\"/>\n",
              "  </svg>\n",
              "      </button>\n",
              "      \n",
              "  <style>\n",
              "    .colab-df-container {\n",
              "      display:flex;\n",
              "      flex-wrap:wrap;\n",
              "      gap: 12px;\n",
              "    }\n",
              "\n",
              "    .colab-df-convert {\n",
              "      background-color: #E8F0FE;\n",
              "      border: none;\n",
              "      border-radius: 50%;\n",
              "      cursor: pointer;\n",
              "      display: none;\n",
              "      fill: #1967D2;\n",
              "      height: 32px;\n",
              "      padding: 0 0 0 0;\n",
              "      width: 32px;\n",
              "    }\n",
              "\n",
              "    .colab-df-convert:hover {\n",
              "      background-color: #E2EBFA;\n",
              "      box-shadow: 0px 1px 2px rgba(60, 64, 67, 0.3), 0px 1px 3px 1px rgba(60, 64, 67, 0.15);\n",
              "      fill: #174EA6;\n",
              "    }\n",
              "\n",
              "    [theme=dark] .colab-df-convert {\n",
              "      background-color: #3B4455;\n",
              "      fill: #D2E3FC;\n",
              "    }\n",
              "\n",
              "    [theme=dark] .colab-df-convert:hover {\n",
              "      background-color: #434B5C;\n",
              "      box-shadow: 0px 1px 3px 1px rgba(0, 0, 0, 0.15);\n",
              "      filter: drop-shadow(0px 1px 2px rgba(0, 0, 0, 0.3));\n",
              "      fill: #FFFFFF;\n",
              "    }\n",
              "  </style>\n",
              "\n",
              "      <script>\n",
              "        const buttonEl =\n",
              "          document.querySelector('#df-a73a1e97-4068-4fa4-b83c-872ee3dec3a0 button.colab-df-convert');\n",
              "        buttonEl.style.display =\n",
              "          google.colab.kernel.accessAllowed ? 'block' : 'none';\n",
              "\n",
              "        async function convertToInteractive(key) {\n",
              "          const element = document.querySelector('#df-a73a1e97-4068-4fa4-b83c-872ee3dec3a0');\n",
              "          const dataTable =\n",
              "            await google.colab.kernel.invokeFunction('convertToInteractive',\n",
              "                                                     [key], {});\n",
              "          if (!dataTable) return;\n",
              "\n",
              "          const docLinkHtml = 'Like what you see? Visit the ' +\n",
              "            '<a target=\"_blank\" href=https://colab.research.google.com/notebooks/data_table.ipynb>data table notebook</a>'\n",
              "            + ' to learn more about interactive tables.';\n",
              "          element.innerHTML = '';\n",
              "          dataTable['output_type'] = 'display_data';\n",
              "          await google.colab.output.renderOutput(dataTable, element);\n",
              "          const docLink = document.createElement('div');\n",
              "          docLink.innerHTML = docLinkHtml;\n",
              "          element.appendChild(docLink);\n",
              "        }\n",
              "      </script>\n",
              "    </div>\n",
              "  </div>\n",
              "  "
            ]
          },
          "metadata": {},
          "execution_count": 44
        }
      ]
    },
    {
      "cell_type": "markdown",
      "source": [
        "Multicolinearity of columns like 'Promo2SinceYear' is pretty high so we decided to drop it"
      ],
      "metadata": {
        "id": "qpBybjyaUvLL"
      }
    },
    {
      "cell_type": "code",
      "source": [
        "calc_vif(final[[i for i in final.describe().columns if i not in ['Sales','Promo2SinceYear']]])"
      ],
      "metadata": {
        "colab": {
          "base_uri": "https://localhost:8080/",
          "height": 488
        },
        "id": "jq4A1oIwUuu0",
        "outputId": "252330fd-83f0-4a72-d784-8afef2b773f4"
      },
      "execution_count": null,
      "outputs": [
        {
          "output_type": "execute_result",
          "data": {
            "text/plain": [
              "                     variable       vif\n",
              "0                       Store  3.696403\n",
              "1                   DayOfWeek  4.104888\n",
              "2                   Customers  5.236788\n",
              "3                        Open  9.375773\n",
              "4                       Promo  1.917192\n",
              "5                StateHoliday  1.187994\n",
              "6               SchoolHoliday  1.330832\n",
              "7                   StoreType  1.934515\n",
              "8                  Assortment  2.039582\n",
              "9         CompetitionDistance  1.584854\n",
              "10  CompetitionOpenSinceMonth  3.848299\n",
              "11   CompetitionOpenSinceYear  2.986944\n",
              "12                     Promo2  4.840137\n",
              "13            Promo2SinceWeek  3.765533"
            ],
            "text/html": [
              "\n",
              "  <div id=\"df-11d6725f-bf8f-43b5-ae1a-83b06473ae55\">\n",
              "    <div class=\"colab-df-container\">\n",
              "      <div>\n",
              "<style scoped>\n",
              "    .dataframe tbody tr th:only-of-type {\n",
              "        vertical-align: middle;\n",
              "    }\n",
              "\n",
              "    .dataframe tbody tr th {\n",
              "        vertical-align: top;\n",
              "    }\n",
              "\n",
              "    .dataframe thead th {\n",
              "        text-align: right;\n",
              "    }\n",
              "</style>\n",
              "<table border=\"1\" class=\"dataframe\">\n",
              "  <thead>\n",
              "    <tr style=\"text-align: right;\">\n",
              "      <th></th>\n",
              "      <th>variable</th>\n",
              "      <th>vif</th>\n",
              "    </tr>\n",
              "  </thead>\n",
              "  <tbody>\n",
              "    <tr>\n",
              "      <th>0</th>\n",
              "      <td>Store</td>\n",
              "      <td>3.696403</td>\n",
              "    </tr>\n",
              "    <tr>\n",
              "      <th>1</th>\n",
              "      <td>DayOfWeek</td>\n",
              "      <td>4.104888</td>\n",
              "    </tr>\n",
              "    <tr>\n",
              "      <th>2</th>\n",
              "      <td>Customers</td>\n",
              "      <td>5.236788</td>\n",
              "    </tr>\n",
              "    <tr>\n",
              "      <th>3</th>\n",
              "      <td>Open</td>\n",
              "      <td>9.375773</td>\n",
              "    </tr>\n",
              "    <tr>\n",
              "      <th>4</th>\n",
              "      <td>Promo</td>\n",
              "      <td>1.917192</td>\n",
              "    </tr>\n",
              "    <tr>\n",
              "      <th>5</th>\n",
              "      <td>StateHoliday</td>\n",
              "      <td>1.187994</td>\n",
              "    </tr>\n",
              "    <tr>\n",
              "      <th>6</th>\n",
              "      <td>SchoolHoliday</td>\n",
              "      <td>1.330832</td>\n",
              "    </tr>\n",
              "    <tr>\n",
              "      <th>7</th>\n",
              "      <td>StoreType</td>\n",
              "      <td>1.934515</td>\n",
              "    </tr>\n",
              "    <tr>\n",
              "      <th>8</th>\n",
              "      <td>Assortment</td>\n",
              "      <td>2.039582</td>\n",
              "    </tr>\n",
              "    <tr>\n",
              "      <th>9</th>\n",
              "      <td>CompetitionDistance</td>\n",
              "      <td>1.584854</td>\n",
              "    </tr>\n",
              "    <tr>\n",
              "      <th>10</th>\n",
              "      <td>CompetitionOpenSinceMonth</td>\n",
              "      <td>3.848299</td>\n",
              "    </tr>\n",
              "    <tr>\n",
              "      <th>11</th>\n",
              "      <td>CompetitionOpenSinceYear</td>\n",
              "      <td>2.986944</td>\n",
              "    </tr>\n",
              "    <tr>\n",
              "      <th>12</th>\n",
              "      <td>Promo2</td>\n",
              "      <td>4.840137</td>\n",
              "    </tr>\n",
              "    <tr>\n",
              "      <th>13</th>\n",
              "      <td>Promo2SinceWeek</td>\n",
              "      <td>3.765533</td>\n",
              "    </tr>\n",
              "  </tbody>\n",
              "</table>\n",
              "</div>\n",
              "      <button class=\"colab-df-convert\" onclick=\"convertToInteractive('df-11d6725f-bf8f-43b5-ae1a-83b06473ae55')\"\n",
              "              title=\"Convert this dataframe to an interactive table.\"\n",
              "              style=\"display:none;\">\n",
              "        \n",
              "  <svg xmlns=\"http://www.w3.org/2000/svg\" height=\"24px\"viewBox=\"0 0 24 24\"\n",
              "       width=\"24px\">\n",
              "    <path d=\"M0 0h24v24H0V0z\" fill=\"none\"/>\n",
              "    <path d=\"M18.56 5.44l.94 2.06.94-2.06 2.06-.94-2.06-.94-.94-2.06-.94 2.06-2.06.94zm-11 1L8.5 8.5l.94-2.06 2.06-.94-2.06-.94L8.5 2.5l-.94 2.06-2.06.94zm10 10l.94 2.06.94-2.06 2.06-.94-2.06-.94-.94-2.06-.94 2.06-2.06.94z\"/><path d=\"M17.41 7.96l-1.37-1.37c-.4-.4-.92-.59-1.43-.59-.52 0-1.04.2-1.43.59L10.3 9.45l-7.72 7.72c-.78.78-.78 2.05 0 2.83L4 21.41c.39.39.9.59 1.41.59.51 0 1.02-.2 1.41-.59l7.78-7.78 2.81-2.81c.8-.78.8-2.07 0-2.86zM5.41 20L4 18.59l7.72-7.72 1.47 1.35L5.41 20z\"/>\n",
              "  </svg>\n",
              "      </button>\n",
              "      \n",
              "  <style>\n",
              "    .colab-df-container {\n",
              "      display:flex;\n",
              "      flex-wrap:wrap;\n",
              "      gap: 12px;\n",
              "    }\n",
              "\n",
              "    .colab-df-convert {\n",
              "      background-color: #E8F0FE;\n",
              "      border: none;\n",
              "      border-radius: 50%;\n",
              "      cursor: pointer;\n",
              "      display: none;\n",
              "      fill: #1967D2;\n",
              "      height: 32px;\n",
              "      padding: 0 0 0 0;\n",
              "      width: 32px;\n",
              "    }\n",
              "\n",
              "    .colab-df-convert:hover {\n",
              "      background-color: #E2EBFA;\n",
              "      box-shadow: 0px 1px 2px rgba(60, 64, 67, 0.3), 0px 1px 3px 1px rgba(60, 64, 67, 0.15);\n",
              "      fill: #174EA6;\n",
              "    }\n",
              "\n",
              "    [theme=dark] .colab-df-convert {\n",
              "      background-color: #3B4455;\n",
              "      fill: #D2E3FC;\n",
              "    }\n",
              "\n",
              "    [theme=dark] .colab-df-convert:hover {\n",
              "      background-color: #434B5C;\n",
              "      box-shadow: 0px 1px 3px 1px rgba(0, 0, 0, 0.15);\n",
              "      filter: drop-shadow(0px 1px 2px rgba(0, 0, 0, 0.3));\n",
              "      fill: #FFFFFF;\n",
              "    }\n",
              "  </style>\n",
              "\n",
              "      <script>\n",
              "        const buttonEl =\n",
              "          document.querySelector('#df-11d6725f-bf8f-43b5-ae1a-83b06473ae55 button.colab-df-convert');\n",
              "        buttonEl.style.display =\n",
              "          google.colab.kernel.accessAllowed ? 'block' : 'none';\n",
              "\n",
              "        async function convertToInteractive(key) {\n",
              "          const element = document.querySelector('#df-11d6725f-bf8f-43b5-ae1a-83b06473ae55');\n",
              "          const dataTable =\n",
              "            await google.colab.kernel.invokeFunction('convertToInteractive',\n",
              "                                                     [key], {});\n",
              "          if (!dataTable) return;\n",
              "\n",
              "          const docLinkHtml = 'Like what you see? Visit the ' +\n",
              "            '<a target=\"_blank\" href=https://colab.research.google.com/notebooks/data_table.ipynb>data table notebook</a>'\n",
              "            + ' to learn more about interactive tables.';\n",
              "          element.innerHTML = '';\n",
              "          dataTable['output_type'] = 'display_data';\n",
              "          await google.colab.output.renderOutput(dataTable, element);\n",
              "          const docLink = document.createElement('div');\n",
              "          docLink.innerHTML = docLinkHtml;\n",
              "          element.appendChild(docLink);\n",
              "        }\n",
              "      </script>\n",
              "    </div>\n",
              "  </div>\n",
              "  "
            ]
          },
          "metadata": {},
          "execution_count": 45
        }
      ]
    },
    {
      "cell_type": "markdown",
      "source": [
        "Now for each feature VIF values below 10. That looks pritty fine.\n",
        "\n",
        "\n",
        "## **Analysis On Sales - Dependent Variable**"
      ],
      "metadata": {
        "id": "_jfNjBmBVflE"
      }
    },
    {
      "cell_type": "code",
      "source": [
        "pd.Series(final['Sales']).hist()\n",
        "plt.show()"
      ],
      "metadata": {
        "colab": {
          "base_uri": "https://localhost:8080/",
          "height": 265
        },
        "id": "dgsHh1BzUVSI",
        "outputId": "e85c317d-69bb-474d-f5da-0c4acb8f1bd2"
      },
      "execution_count": null,
      "outputs": [
        {
          "output_type": "display_data",
          "data": {
            "text/plain": [
              "<Figure size 432x288 with 1 Axes>"
            ],
            "image/png": "[encoded data removed]"
          },
          "metadata": {
            "needs_background": "light"
          }
        }
      ]
    },
    {
      "cell_type": "markdown",
      "source": [
        "Now checking for number of sales\n",
        "\n",
        "## **MODEL TRAINING**"
      ],
      "metadata": {
        "id": "rvWOnlH-WKLp"
      }
    },
    {
      "cell_type": "code",
      "source": [
        "from scipy.stats import zscore\n",
        "from sklearn.linear_model import Lasso, Ridge\n",
        "from sklearn.model_selection import train_test_split\n",
        "from sklearn.preprocessing import StandardScaler\n",
        "from sklearn.linear_model import LinearRegression\n",
        "from sklearn.pipeline import Pipeline\n",
        "from sklearn.tree import DecisionTreeRegressor\n",
        "from sklearn.metrics import r2_score as r2, mean_squared_error as mse\n",
        "import math\n",
        "from sklearn.ensemble import RandomForestRegressor\n",
        "import lightgbm as lgb\n",
        "from sklearn.metrics import r2_score\n",
        "from sklearn.metrics import confusion_matrix, classification_report"
      ],
      "metadata": {
        "id": "9TI0UaAgWBKy"
      },
      "execution_count": null,
      "outputs": []
    },
    {
      "cell_type": "code",
      "source": [
        "final = pd.get_dummies(final, columns=['PromoInterval'])"
      ],
      "metadata": {
        "id": "uZrSLHWJYkuz"
      },
      "execution_count": null,
      "outputs": []
    },
    {
      "cell_type": "code",
      "source": [
        "final.head()"
      ],
      "metadata": {
        "colab": {
          "base_uri": "https://localhost:8080/",
          "height": 386
        },
        "id": "cv1lYYyfYxjd",
        "outputId": "52c2ca38-87e7-41c6-e711-af95d4013bf4"
      },
      "execution_count": null,
      "outputs": [
        {
          "output_type": "execute_result",
          "data": {
            "text/plain": [
              "   Store  DayOfWeek       Date  Sales  Customers  Open  Promo  StateHoliday  \\\n",
              "0      1          5 2015-07-31   5263        555     1      1             0   \n",
              "1      2          5 2015-07-31   6064        625     1      1             0   \n",
              "2      3          5 2015-07-31   8314        821     1      1             0   \n",
              "3      4          5 2015-07-31  13995       1498     1      1             0   \n",
              "4      5          5 2015-07-31   4822        559     1      1             0   \n",
              "\n",
              "   SchoolHoliday  StoreType  ...  CompetitionDistance  \\\n",
              "0              1          2  ...                 1270   \n",
              "1              1          0  ...                  570   \n",
              "2              1          0  ...                14130   \n",
              "3              1          2  ...                  620   \n",
              "4              1          0  ...                29910   \n",
              "\n",
              "   CompetitionOpenSinceMonth  CompetitionOpenSinceYear  Promo2  \\\n",
              "0                          7                      2008       0   \n",
              "1                          7                      2007       1   \n",
              "2                          7                      2006       1   \n",
              "3                          7                      2009       0   \n",
              "4                          7                      2015       0   \n",
              "\n",
              "   Promo2SinceWeek  Promo2SinceYear  PromoInterval_0  \\\n",
              "0                0                0                1   \n",
              "1               13             2010                0   \n",
              "2               14             2011                0   \n",
              "3                0                0                1   \n",
              "4                0                0                1   \n",
              "\n",
              "   PromoInterval_Feb,May,Aug,Nov  PromoInterval_Jan,Apr,Jul,Oct  \\\n",
              "0                              0                              0   \n",
              "1                              0                              1   \n",
              "2                              0                              1   \n",
              "3                              0                              0   \n",
              "4                              0                              0   \n",
              "\n",
              "   PromoInterval_Mar,Jun,Sept,Dec  \n",
              "0                               0  \n",
              "1                               0  \n",
              "2                               0  \n",
              "3                               0  \n",
              "4                               0  \n",
              "\n",
              "[5 rows x 21 columns]"
            ],
            "text/html": [
              "\n",
              "  <div id=\"df-4d2b183a-7d7a-4fd6-8bd4-b78b7b5e96cf\">\n",
              "    <div class=\"colab-df-container\">\n",
              "      <div>\n",
              "<style scoped>\n",
              "    .dataframe tbody tr th:only-of-type {\n",
              "        vertical-align: middle;\n",
              "    }\n",
              "\n",
              "    .dataframe tbody tr th {\n",
              "        vertical-align: top;\n",
              "    }\n",
              "\n",
              "    .dataframe thead th {\n",
              "        text-align: right;\n",
              "    }\n",
              "</style>\n",
              "<table border=\"1\" class=\"dataframe\">\n",
              "  <thead>\n",
              "    <tr style=\"text-align: right;\">\n",
              "      <th></th>\n",
              "      <th>Store</th>\n",
              "      <th>DayOfWeek</th>\n",
              "      <th>Date</th>\n",
              "      <th>Sales</th>\n",
              "      <th>Customers</th>\n",
              "      <th>Open</th>\n",
              "      <th>Promo</th>\n",
              "      <th>StateHoliday</th>\n",
              "      <th>SchoolHoliday</th>\n",
              "      <th>StoreType</th>\n",
              "      <th>...</th>\n",
              "      <th>CompetitionDistance</th>\n",
              "      <th>CompetitionOpenSinceMonth</th>\n",
              "      <th>CompetitionOpenSinceYear</th>\n",
              "      <th>Promo2</th>\n",
              "      <th>Promo2SinceWeek</th>\n",
              "      <th>Promo2SinceYear</th>\n",
              "      <th>PromoInterval_0</th>\n",
              "      <th>PromoInterval_Feb,May,Aug,Nov</th>\n",
              "      <th>PromoInterval_Jan,Apr,Jul,Oct</th>\n",
              "      <th>PromoInterval_Mar,Jun,Sept,Dec</th>\n",
              "    </tr>\n",
              "  </thead>\n",
              "  <tbody>\n",
              "    <tr>\n",
              "      <th>0</th>\n",
              "      <td>1</td>\n",
              "      <td>5</td>\n",
              "      <td>2015-07-31</td>\n",
              "      <td>5263</td>\n",
              "      <td>555</td>\n",
              "      <td>1</td>\n",
              "      <td>1</td>\n",
              "      <td>0</td>\n",
              "      <td>1</td>\n",
              "      <td>2</td>\n",
              "      <td>...</td>\n",
              "      <td>1270</td>\n",
              "      <td>7</td>\n",
              "      <td>2008</td>\n",
              "      <td>0</td>\n",
              "      <td>0</td>\n",
              "      <td>0</td>\n",
              "      <td>1</td>\n",
              "      <td>0</td>\n",
              "      <td>0</td>\n",
              "      <td>0</td>\n",
              "    </tr>\n",
              "    <tr>\n",
              "      <th>1</th>\n",
              "      <td>2</td>\n",
              "      <td>5</td>\n",
              "      <td>2015-07-31</td>\n",
              "      <td>6064</td>\n",
              "      <td>625</td>\n",
              "      <td>1</td>\n",
              "      <td>1</td>\n",
              "      <td>0</td>\n",
              "      <td>1</td>\n",
              "      <td>0</td>\n",
              "      <td>...</td>\n",
              "      <td>570</td>\n",
              "      <td>7</td>\n",
              "      <td>2007</td>\n",
              "      <td>1</td>\n",
              "      <td>13</td>\n",
              "      <td>2010</td>\n",
              "      <td>0</td>\n",
              "      <td>0</td>\n",
              "      <td>1</td>\n",
              "      <td>0</td>\n",
              "    </tr>\n",
              "    <tr>\n",
              "      <th>2</th>\n",
              "      <td>3</td>\n",
              "      <td>5</td>\n",
              "      <td>2015-07-31</td>\n",
              "      <td>8314</td>\n",
              "      <td>821</td>\n",
              "      <td>1</td>\n",
              "      <td>1</td>\n",
              "      <td>0</td>\n",
              "      <td>1</td>\n",
              "      <td>0</td>\n",
              "      <td>...</td>\n",
              "      <td>14130</td>\n",
              "      <td>7</td>\n",
              "      <td>2006</td>\n",
              "      <td>1</td>\n",
              "      <td>14</td>\n",
              "      <td>2011</td>\n",
              "      <td>0</td>\n",
              "      <td>0</td>\n",
              "      <td>1</td>\n",
              "      <td>0</td>\n",
              "    </tr>\n",
              "    <tr>\n",
              "      <th>3</th>\n",
              "      <td>4</td>\n",
              "      <td>5</td>\n",
              "      <td>2015-07-31</td>\n",
              "      <td>13995</td>\n",
              "      <td>1498</td>\n",
              "      <td>1</td>\n",
              "      <td>1</td>\n",
              "      <td>0</td>\n",
              "      <td>1</td>\n",
              "      <td>2</td>\n",
              "      <td>...</td>\n",
              "      <td>620</td>\n",
              "      <td>7</td>\n",
              "      <td>2009</td>\n",
              "      <td>0</td>\n",
              "      <td>0</td>\n",
              "      <td>0</td>\n",
              "      <td>1</td>\n",
              "      <td>0</td>\n",
              "      <td>0</td>\n",
              "      <td>0</td>\n",
              "    </tr>\n",
              "    <tr>\n",
              "      <th>4</th>\n",
              "      <td>5</td>\n",
              "      <td>5</td>\n",
              "      <td>2015-07-31</td>\n",
              "      <td>4822</td>\n",
              "      <td>559</td>\n",
              "      <td>1</td>\n",
              "      <td>1</td>\n",
              "      <td>0</td>\n",
              "      <td>1</td>\n",
              "      <td>0</td>\n",
              "      <td>...</td>\n",
              "      <td>29910</td>\n",
              "      <td>7</td>\n",
              "      <td>2015</td>\n",
              "      <td>0</td>\n",
              "      <td>0</td>\n",
              "      <td>0</td>\n",
              "      <td>1</td>\n",
              "      <td>0</td>\n",
              "      <td>0</td>\n",
              "      <td>0</td>\n",
              "    </tr>\n",
              "  </tbody>\n",
              "</table>\n",
              "<p>5 rows × 21 columns</p>\n",
              "</div>\n",
              "      <button class=\"colab-df-convert\" onclick=\"convertToInteractive('df-4d2b183a-7d7a-4fd6-8bd4-b78b7b5e96cf')\"\n",
              "              title=\"Convert this dataframe to an interactive table.\"\n",
              "              style=\"display:none;\">\n",
              "        \n",
              "  <svg xmlns=\"http://www.w3.org/2000/svg\" height=\"24px\"viewBox=\"0 0 24 24\"\n",
              "       width=\"24px\">\n",
              "    <path d=\"M0 0h24v24H0V0z\" fill=\"none\"/>\n",
              "    <path d=\"M18.56 5.44l.94 2.06.94-2.06 2.06-.94-2.06-.94-.94-2.06-.94 2.06-2.06.94zm-11 1L8.5 8.5l.94-2.06 2.06-.94-2.06-.94L8.5 2.5l-.94 2.06-2.06.94zm10 10l.94 2.06.94-2.06 2.06-.94-2.06-.94-.94-2.06-.94 2.06-2.06.94z\"/><path d=\"M17.41 7.96l-1.37-1.37c-.4-.4-.92-.59-1.43-.59-.52 0-1.04.2-1.43.59L10.3 9.45l-7.72 7.72c-.78.78-.78 2.05 0 2.83L4 21.41c.39.39.9.59 1.41.59.51 0 1.02-.2 1.41-.59l7.78-7.78 2.81-2.81c.8-.78.8-2.07 0-2.86zM5.41 20L4 18.59l7.72-7.72 1.47 1.35L5.41 20z\"/>\n",
              "  </svg>\n",
              "      </button>\n",
              "      \n",
              "  <style>\n",
              "    .colab-df-container {\n",
              "      display:flex;\n",
              "      flex-wrap:wrap;\n",
              "      gap: 12px;\n",
              "    }\n",
              "\n",
              "    .colab-df-convert {\n",
              "      background-color: #E8F0FE;\n",
              "      border: none;\n",
              "      border-radius: 50%;\n",
              "      cursor: pointer;\n",
              "      display: none;\n",
              "      fill: #1967D2;\n",
              "      height: 32px;\n",
              "      padding: 0 0 0 0;\n",
              "      width: 32px;\n",
              "    }\n",
              "\n",
              "    .colab-df-convert:hover {\n",
              "      background-color: #E2EBFA;\n",
              "      box-shadow: 0px 1px 2px rgba(60, 64, 67, 0.3), 0px 1px 3px 1px rgba(60, 64, 67, 0.15);\n",
              "      fill: #174EA6;\n",
              "    }\n",
              "\n",
              "    [theme=dark] .colab-df-convert {\n",
              "      background-color: #3B4455;\n",
              "      fill: #D2E3FC;\n",
              "    }\n",
              "\n",
              "    [theme=dark] .colab-df-convert:hover {\n",
              "      background-color: #434B5C;\n",
              "      box-shadow: 0px 1px 3px 1px rgba(0, 0, 0, 0.15);\n",
              "      filter: drop-shadow(0px 1px 2px rgba(0, 0, 0, 0.3));\n",
              "      fill: #FFFFFF;\n",
              "    }\n",
              "  </style>\n",
              "\n",
              "      <script>\n",
              "        const buttonEl =\n",
              "          document.querySelector('#df-4d2b183a-7d7a-4fd6-8bd4-b78b7b5e96cf button.colab-df-convert');\n",
              "        buttonEl.style.display =\n",
              "          google.colab.kernel.accessAllowed ? 'block' : 'none';\n",
              "\n",
              "        async function convertToInteractive(key) {\n",
              "          const element = document.querySelector('#df-4d2b183a-7d7a-4fd6-8bd4-b78b7b5e96cf');\n",
              "          const dataTable =\n",
              "            await google.colab.kernel.invokeFunction('convertToInteractive',\n",
              "                                                     [key], {});\n",
              "          if (!dataTable) return;\n",
              "\n",
              "          const docLinkHtml = 'Like what you see? Visit the ' +\n",
              "            '<a target=\"_blank\" href=https://colab.research.google.com/notebooks/data_table.ipynb>data table notebook</a>'\n",
              "            + ' to learn more about interactive tables.';\n",
              "          element.innerHTML = '';\n",
              "          dataTable['output_type'] = 'display_data';\n",
              "          await google.colab.output.renderOutput(dataTable, element);\n",
              "          const docLink = document.createElement('div');\n",
              "          docLink.innerHTML = docLinkHtml;\n",
              "          element.appendChild(docLink);\n",
              "        }\n",
              "      </script>\n",
              "    </div>\n",
              "  </div>\n",
              "  "
            ]
          },
          "metadata": {},
          "execution_count": 49
        }
      ]
    },
    {
      "cell_type": "code",
      "source": [
        "final.shape"
      ],
      "metadata": {
        "colab": {
          "base_uri": "https://localhost:8080/"
        },
        "id": "LzheJSJvY1lj",
        "outputId": "6e24ea4d-f95d-45ba-e728-95409de4600b"
      },
      "execution_count": null,
      "outputs": [
        {
          "output_type": "execute_result",
          "data": {
            "text/plain": [
              "(1017209, 21)"
            ]
          },
          "metadata": {},
          "execution_count": 50
        }
      ]
    },
    {
      "cell_type": "markdown",
      "source": [
        "We define dependent and independent variables and convert them into arrays "
      ],
      "metadata": {
        "id": "vRlayqnHZtx7"
      }
    },
    {
      "cell_type": "code",
      "source": [
        "# defining dependent variable \n",
        "dep_var = 'Sales'\n",
        "\n",
        "# defining independent variable\n",
        "indep_var = final.columns.drop(['Store', 'Promo2SinceYear', 'Date', 'Sales'])"
      ],
      "metadata": {
        "id": "iBpMD6ItZoUQ"
      },
      "execution_count": null,
      "outputs": []
    },
    {
      "cell_type": "code",
      "source": [
        "# Create the data of independent variable\n",
        "x = final[indep_var].values\n",
        "\n",
        "# Create the dependent variable data\n",
        "y = final[dep_var].values"
      ],
      "metadata": {
        "id": "0zCZf872ae9Y"
      },
      "execution_count": null,
      "outputs": []
    },
    {
      "cell_type": "code",
      "source": [
        "final[indep_var]"
      ],
      "metadata": {
        "colab": {
          "base_uri": "https://localhost:8080/",
          "height": 488
        },
        "id": "baLYogaJbG9d",
        "outputId": "8500f4b9-d76a-4131-871e-930939b98564"
      },
      "execution_count": null,
      "outputs": [
        {
          "output_type": "execute_result",
          "data": {
            "text/plain": [
              "         DayOfWeek  Customers  Open  Promo  StateHoliday  SchoolHoliday  \\\n",
              "0                5        555     1      1             0              1   \n",
              "1                5        625     1      1             0              1   \n",
              "2                5        821     1      1             0              1   \n",
              "3                5       1498     1      1             0              1   \n",
              "4                5        559     1      1             0              1   \n",
              "...            ...        ...   ...    ...           ...            ...   \n",
              "1017204          2          0     0      0             1              1   \n",
              "1017205          2          0     0      0             1              1   \n",
              "1017206          2          0     0      0             1              1   \n",
              "1017207          2          0     0      0             1              1   \n",
              "1017208          2          0     0      0             1              1   \n",
              "\n",
              "         StoreType  Assortment  CompetitionDistance  \\\n",
              "0                2           0                 1270   \n",
              "1                0           0                  570   \n",
              "2                0           0                14130   \n",
              "3                2           2                  620   \n",
              "4                0           0                29910   \n",
              "...            ...         ...                  ...   \n",
              "1017204          0           0                 1900   \n",
              "1017205          2           2                 1880   \n",
              "1017206          0           2                 9260   \n",
              "1017207          0           2                  870   \n",
              "1017208          3           2                 5350   \n",
              "\n",
              "         CompetitionOpenSinceMonth  CompetitionOpenSinceYear  Promo2  \\\n",
              "0                                7                      2008       0   \n",
              "1                                7                      2007       1   \n",
              "2                                7                      2006       1   \n",
              "3                                7                      2009       0   \n",
              "4                                7                      2015       0   \n",
              "...                            ...                       ...     ...   \n",
              "1017204                          1                      2014       1   \n",
              "1017205                          1                      2006       0   \n",
              "1017206                          1                         0       0   \n",
              "1017207                          1                         0       0   \n",
              "1017208                          1                         0       1   \n",
              "\n",
              "         Promo2SinceWeek  PromoInterval_0  PromoInterval_Feb,May,Aug,Nov  \\\n",
              "0                      0                1                              0   \n",
              "1                     13                0                              0   \n",
              "2                     14                0                              0   \n",
              "3                      0                1                              0   \n",
              "4                      0                1                              0   \n",
              "...                  ...              ...                            ...   \n",
              "1017204               31                0                              0   \n",
              "1017205                0                1                              0   \n",
              "1017206                0                1                              0   \n",
              "1017207                0                1                              0   \n",
              "1017208               22                0                              0   \n",
              "\n",
              "         PromoInterval_Jan,Apr,Jul,Oct  PromoInterval_Mar,Jun,Sept,Dec  \n",
              "0                                    0                               0  \n",
              "1                                    1                               0  \n",
              "2                                    1                               0  \n",
              "3                                    0                               0  \n",
              "4                                    0                               0  \n",
              "...                                ...                             ...  \n",
              "1017204                              1                               0  \n",
              "1017205                              0                               0  \n",
              "1017206                              0                               0  \n",
              "1017207                              0                               0  \n",
              "1017208                              0                               1  \n",
              "\n",
              "[1017209 rows x 17 columns]"
            ],
            "text/html": [
              "\n",
              "  <div id=\"df-be5a058c-0140-4733-b932-30375aed2435\">\n",
              "    <div class=\"colab-df-container\">\n",
              "      <div>\n",
              "<style scoped>\n",
              "    .dataframe tbody tr th:only-of-type {\n",
              "        vertical-align: middle;\n",
              "    }\n",
              "\n",
              "    .dataframe tbody tr th {\n",
              "        vertical-align: top;\n",
              "    }\n",
              "\n",
              "    .dataframe thead th {\n",
              "        text-align: right;\n",
              "    }\n",
              "</style>\n",
              "<table border=\"1\" class=\"dataframe\">\n",
              "  <thead>\n",
              "    <tr style=\"text-align: right;\">\n",
              "      <th></th>\n",
              "      <th>DayOfWeek</th>\n",
              "      <th>Customers</th>\n",
              "      <th>Open</th>\n",
              "      <th>Promo</th>\n",
              "      <th>StateHoliday</th>\n",
              "      <th>SchoolHoliday</th>\n",
              "      <th>StoreType</th>\n",
              "      <th>Assortment</th>\n",
              "      <th>CompetitionDistance</th>\n",
              "      <th>CompetitionOpenSinceMonth</th>\n",
              "      <th>CompetitionOpenSinceYear</th>\n",
              "      <th>Promo2</th>\n",
              "      <th>Promo2SinceWeek</th>\n",
              "      <th>PromoInterval_0</th>\n",
              "      <th>PromoInterval_Feb,May,Aug,Nov</th>\n",
              "      <th>PromoInterval_Jan,Apr,Jul,Oct</th>\n",
              "      <th>PromoInterval_Mar,Jun,Sept,Dec</th>\n",
              "    </tr>\n",
              "  </thead>\n",
              "  <tbody>\n",
              "    <tr>\n",
              "      <th>0</th>\n",
              "      <td>5</td>\n",
              "      <td>555</td>\n",
              "      <td>1</td>\n",
              "      <td>1</td>\n",
              "      <td>0</td>\n",
              "      <td>1</td>\n",
              "      <td>2</td>\n",
              "      <td>0</td>\n",
              "      <td>1270</td>\n",
              "      <td>7</td>\n",
              "      <td>2008</td>\n",
              "      <td>0</td>\n",
              "      <td>0</td>\n",
              "      <td>1</td>\n",
              "      <td>0</td>\n",
              "      <td>0</td>\n",
              "      <td>0</td>\n",
              "    </tr>\n",
              "    <tr>\n",
              "      <th>1</th>\n",
              "      <td>5</td>\n",
              "      <td>625</td>\n",
              "      <td>1</td>\n",
              "      <td>1</td>\n",
              "      <td>0</td>\n",
              "      <td>1</td>\n",
              "      <td>0</td>\n",
              "      <td>0</td>\n",
              "      <td>570</td>\n",
              "      <td>7</td>\n",
              "      <td>2007</td>\n",
              "      <td>1</td>\n",
              "      <td>13</td>\n",
              "      <td>0</td>\n",
              "      <td>0</td>\n",
              "      <td>1</td>\n",
              "      <td>0</td>\n",
              "    </tr>\n",
              "    <tr>\n",
              "      <th>2</th>\n",
              "      <td>5</td>\n",
              "      <td>821</td>\n",
              "      <td>1</td>\n",
              "      <td>1</td>\n",
              "      <td>0</td>\n",
              "      <td>1</td>\n",
              "      <td>0</td>\n",
              "      <td>0</td>\n",
              "      <td>14130</td>\n",
              "      <td>7</td>\n",
              "      <td>2006</td>\n",
              "      <td>1</td>\n",
              "      <td>14</td>\n",
              "      <td>0</td>\n",
              "      <td>0</td>\n",
              "      <td>1</td>\n",
              "      <td>0</td>\n",
              "    </tr>\n",
              "    <tr>\n",
              "      <th>3</th>\n",
              "      <td>5</td>\n",
              "      <td>1498</td>\n",
              "      <td>1</td>\n",
              "      <td>1</td>\n",
              "      <td>0</td>\n",
              "      <td>1</td>\n",
              "      <td>2</td>\n",
              "      <td>2</td>\n",
              "      <td>620</td>\n",
              "      <td>7</td>\n",
              "      <td>2009</td>\n",
              "      <td>0</td>\n",
              "      <td>0</td>\n",
              "      <td>1</td>\n",
              "      <td>0</td>\n",
              "      <td>0</td>\n",
              "      <td>0</td>\n",
              "    </tr>\n",
              "    <tr>\n",
              "      <th>4</th>\n",
              "      <td>5</td>\n",
              "      <td>559</td>\n",
              "      <td>1</td>\n",
              "      <td>1</td>\n",
              "      <td>0</td>\n",
              "      <td>1</td>\n",
              "      <td>0</td>\n",
              "      <td>0</td>\n",
              "      <td>29910</td>\n",
              "      <td>7</td>\n",
              "      <td>2015</td>\n",
              "      <td>0</td>\n",
              "      <td>0</td>\n",
              "      <td>1</td>\n",
              "      <td>0</td>\n",
              "      <td>0</td>\n",
              "      <td>0</td>\n",
              "    </tr>\n",
              "    <tr>\n",
              "      <th>...</th>\n",
              "      <td>...</td>\n",
              "      <td>...</td>\n",
              "      <td>...</td>\n",
              "      <td>...</td>\n",
              "      <td>...</td>\n",
              "      <td>...</td>\n",
              "      <td>...</td>\n",
              "      <td>...</td>\n",
              "      <td>...</td>\n",
              "      <td>...</td>\n",
              "      <td>...</td>\n",
              "      <td>...</td>\n",
              "      <td>...</td>\n",
              "      <td>...</td>\n",
              "      <td>...</td>\n",
              "      <td>...</td>\n",
              "      <td>...</td>\n",
              "    </tr>\n",
              "    <tr>\n",
              "      <th>1017204</th>\n",
              "      <td>2</td>\n",
              "      <td>0</td>\n",
              "      <td>0</td>\n",
              "      <td>0</td>\n",
              "      <td>1</td>\n",
              "      <td>1</td>\n",
              "      <td>0</td>\n",
              "      <td>0</td>\n",
              "      <td>1900</td>\n",
              "      <td>1</td>\n",
              "      <td>2014</td>\n",
              "      <td>1</td>\n",
              "      <td>31</td>\n",
              "      <td>0</td>\n",
              "      <td>0</td>\n",
              "      <td>1</td>\n",
              "      <td>0</td>\n",
              "    </tr>\n",
              "    <tr>\n",
              "      <th>1017205</th>\n",
              "      <td>2</td>\n",
              "      <td>0</td>\n",
              "      <td>0</td>\n",
              "      <td>0</td>\n",
              "      <td>1</td>\n",
              "      <td>1</td>\n",
              "      <td>2</td>\n",
              "      <td>2</td>\n",
              "      <td>1880</td>\n",
              "      <td>1</td>\n",
              "      <td>2006</td>\n",
              "      <td>0</td>\n",
              "      <td>0</td>\n",
              "      <td>1</td>\n",
              "      <td>0</td>\n",
              "      <td>0</td>\n",
              "      <td>0</td>\n",
              "    </tr>\n",
              "    <tr>\n",
              "      <th>1017206</th>\n",
              "      <td>2</td>\n",
              "      <td>0</td>\n",
              "      <td>0</td>\n",
              "      <td>0</td>\n",
              "      <td>1</td>\n",
              "      <td>1</td>\n",
              "      <td>0</td>\n",
              "      <td>2</td>\n",
              "      <td>9260</td>\n",
              "      <td>1</td>\n",
              "      <td>0</td>\n",
              "      <td>0</td>\n",
              "      <td>0</td>\n",
              "      <td>1</td>\n",
              "      <td>0</td>\n",
              "      <td>0</td>\n",
              "      <td>0</td>\n",
              "    </tr>\n",
              "    <tr>\n",
              "      <th>1017207</th>\n",
              "      <td>2</td>\n",
              "      <td>0</td>\n",
              "      <td>0</td>\n",
              "      <td>0</td>\n",
              "      <td>1</td>\n",
              "      <td>1</td>\n",
              "      <td>0</td>\n",
              "      <td>2</td>\n",
              "      <td>870</td>\n",
              "      <td>1</td>\n",
              "      <td>0</td>\n",
              "      <td>0</td>\n",
              "      <td>0</td>\n",
              "      <td>1</td>\n",
              "      <td>0</td>\n",
              "      <td>0</td>\n",
              "      <td>0</td>\n",
              "    </tr>\n",
              "    <tr>\n",
              "      <th>1017208</th>\n",
              "      <td>2</td>\n",
              "      <td>0</td>\n",
              "      <td>0</td>\n",
              "      <td>0</td>\n",
              "      <td>1</td>\n",
              "      <td>1</td>\n",
              "      <td>3</td>\n",
              "      <td>2</td>\n",
              "      <td>5350</td>\n",
              "      <td>1</td>\n",
              "      <td>0</td>\n",
              "      <td>1</td>\n",
              "      <td>22</td>\n",
              "      <td>0</td>\n",
              "      <td>0</td>\n",
              "      <td>0</td>\n",
              "      <td>1</td>\n",
              "    </tr>\n",
              "  </tbody>\n",
              "</table>\n",
              "<p>1017209 rows × 17 columns</p>\n",
              "</div>\n",
              "      <button class=\"colab-df-convert\" onclick=\"convertToInteractive('df-be5a058c-0140-4733-b932-30375aed2435')\"\n",
              "              title=\"Convert this dataframe to an interactive table.\"\n",
              "              style=\"display:none;\">\n",
              "        \n",
              "  <svg xmlns=\"http://www.w3.org/2000/svg\" height=\"24px\"viewBox=\"0 0 24 24\"\n",
              "       width=\"24px\">\n",
              "    <path d=\"M0 0h24v24H0V0z\" fill=\"none\"/>\n",
              "    <path d=\"M18.56 5.44l.94 2.06.94-2.06 2.06-.94-2.06-.94-.94-2.06-.94 2.06-2.06.94zm-11 1L8.5 8.5l.94-2.06 2.06-.94-2.06-.94L8.5 2.5l-.94 2.06-2.06.94zm10 10l.94 2.06.94-2.06 2.06-.94-2.06-.94-.94-2.06-.94 2.06-2.06.94z\"/><path d=\"M17.41 7.96l-1.37-1.37c-.4-.4-.92-.59-1.43-.59-.52 0-1.04.2-1.43.59L10.3 9.45l-7.72 7.72c-.78.78-.78 2.05 0 2.83L4 21.41c.39.39.9.59 1.41.59.51 0 1.02-.2 1.41-.59l7.78-7.78 2.81-2.81c.8-.78.8-2.07 0-2.86zM5.41 20L4 18.59l7.72-7.72 1.47 1.35L5.41 20z\"/>\n",
              "  </svg>\n",
              "      </button>\n",
              "      \n",
              "  <style>\n",
              "    .colab-df-container {\n",
              "      display:flex;\n",
              "      flex-wrap:wrap;\n",
              "      gap: 12px;\n",
              "    }\n",
              "\n",
              "    .colab-df-convert {\n",
              "      background-color: #E8F0FE;\n",
              "      border: none;\n",
              "      border-radius: 50%;\n",
              "      cursor: pointer;\n",
              "      display: none;\n",
              "      fill: #1967D2;\n",
              "      height: 32px;\n",
              "      padding: 0 0 0 0;\n",
              "      width: 32px;\n",
              "    }\n",
              "\n",
              "    .colab-df-convert:hover {\n",
              "      background-color: #E2EBFA;\n",
              "      box-shadow: 0px 1px 2px rgba(60, 64, 67, 0.3), 0px 1px 3px 1px rgba(60, 64, 67, 0.15);\n",
              "      fill: #174EA6;\n",
              "    }\n",
              "\n",
              "    [theme=dark] .colab-df-convert {\n",
              "      background-color: #3B4455;\n",
              "      fill: #D2E3FC;\n",
              "    }\n",
              "\n",
              "    [theme=dark] .colab-df-convert:hover {\n",
              "      background-color: #434B5C;\n",
              "      box-shadow: 0px 1px 3px 1px rgba(0, 0, 0, 0.15);\n",
              "      filter: drop-shadow(0px 1px 2px rgba(0, 0, 0, 0.3));\n",
              "      fill: #FFFFFF;\n",
              "    }\n",
              "  </style>\n",
              "\n",
              "      <script>\n",
              "        const buttonEl =\n",
              "          document.querySelector('#df-be5a058c-0140-4733-b932-30375aed2435 button.colab-df-convert');\n",
              "        buttonEl.style.display =\n",
              "          google.colab.kernel.accessAllowed ? 'block' : 'none';\n",
              "\n",
              "        async function convertToInteractive(key) {\n",
              "          const element = document.querySelector('#df-be5a058c-0140-4733-b932-30375aed2435');\n",
              "          const dataTable =\n",
              "            await google.colab.kernel.invokeFunction('convertToInteractive',\n",
              "                                                     [key], {});\n",
              "          if (!dataTable) return;\n",
              "\n",
              "          const docLinkHtml = 'Like what you see? Visit the ' +\n",
              "            '<a target=\"_blank\" href=https://colab.research.google.com/notebooks/data_table.ipynb>data table notebook</a>'\n",
              "            + ' to learn more about interactive tables.';\n",
              "          element.innerHTML = '';\n",
              "          dataTable['output_type'] = 'display_data';\n",
              "          await google.colab.output.renderOutput(dataTable, element);\n",
              "          const docLink = document.createElement('div');\n",
              "          docLink.innerHTML = docLinkHtml;\n",
              "          element.appendChild(docLink);\n",
              "        }\n",
              "      </script>\n",
              "    </div>\n",
              "  </div>\n",
              "  "
            ]
          },
          "metadata": {},
          "execution_count": 53
        }
      ]
    },
    {
      "cell_type": "markdown",
      "source": [
        "**We do a train split keeping the test size as 0.20**"
      ],
      "metadata": {
        "id": "A-ikFxb5bTWH"
      }
    },
    {
      "cell_type": "code",
      "source": [
        "# splitting the dataset\n",
        "x_train, x_test, y_train, y_test = train_test_split(x,y, test_size=0.20, random_state= 0)\n",
        "print(x_train.shape)\n",
        "print(x_test.shape)"
      ],
      "metadata": {
        "colab": {
          "base_uri": "https://localhost:8080/"
        },
        "id": "AWPI8ZaqbK-P",
        "outputId": "a9eb50bd-3acd-4b92-affd-76f93bc28924"
      },
      "execution_count": null,
      "outputs": [
        {
          "output_type": "stream",
          "name": "stdout",
          "text": [
            "(813767, 17)\n",
            "(203442, 17)\n"
          ]
        }
      ]
    },
    {
      "cell_type": "markdown",
      "source": [
        "**LINEAR REGRESSION**"
      ],
      "metadata": {
        "id": "3NWzYR-ob53g"
      }
    },
    {
      "cell_type": "code",
      "source": [
        "# scaling the x vaues\n",
        "scaler = StandardScaler()\n",
        "\n",
        "x_train = scaler.fit_transform(x_train)\n",
        "x_test = scaler.transform(x_test)"
      ],
      "metadata": {
        "id": "qVUKXxueb4XI"
      },
      "execution_count": null,
      "outputs": []
    },
    {
      "cell_type": "code",
      "source": [
        "# fitting the data into linear regression model\n",
        "linear_regression = LinearRegression()\n",
        "linear_regression.fit(x_train, y_train)\n"
      ],
      "metadata": {
        "colab": {
          "base_uri": "https://localhost:8080/"
        },
        "id": "-gW4rKkkca6U",
        "outputId": "1c904885-346e-4fa3-9cc9-7268b892cec4"
      },
      "execution_count": null,
      "outputs": [
        {
          "output_type": "execute_result",
          "data": {
            "text/plain": [
              "LinearRegression()"
            ]
          },
          "metadata": {},
          "execution_count": 56
        }
      ]
    },
    {
      "cell_type": "code",
      "source": [
        "v_pred = linear_regression.predict(x_test)\n",
        "v_pred"
      ],
      "metadata": {
        "colab": {
          "base_uri": "https://localhost:8080/"
        },
        "id": "F9WWURsrc4ft",
        "outputId": "21058d2d-d157-4b8e-bbb4-ce6bd47ebc11"
      },
      "execution_count": null,
      "outputs": [
        {
          "output_type": "execute_result",
          "data": {
            "text/plain": [
              "array([ 7095.86445361, 12610.36054736,  9196.82636767, ...,\n",
              "        6937.33320361,  5998.89179736,  4001.59003954])"
            ]
          },
          "metadata": {},
          "execution_count": 57
        }
      ]
    },
    {
      "cell_type": "code",
      "source": [
        "linear_regression.score(x_train, y_train)"
      ],
      "metadata": {
        "colab": {
          "base_uri": "https://localhost:8080/"
        },
        "id": "hSEySO8ydCz0",
        "outputId": "c1ba04f0-a6ba-4b51-fad6-89f6ac3279c1"
      },
      "execution_count": null,
      "outputs": [
        {
          "output_type": "execute_result",
          "data": {
            "text/plain": [
              "0.8677992591577985"
            ]
          },
          "metadata": {},
          "execution_count": 58
        }
      ]
    },
    {
      "cell_type": "code",
      "source": [
        "regression_Dataframe = pd.DataFrame(zip(y_test, v_pred), columns = ['actual', 'pred'])\n",
        "regression_Dataframe"
      ],
      "metadata": {
        "colab": {
          "base_uri": "https://localhost:8080/",
          "height": 424
        },
        "id": "BCR61ZfHdT8u",
        "outputId": "63a4796a-619f-4e22-f0fc-eb1041713259"
      },
      "execution_count": null,
      "outputs": [
        {
          "output_type": "execute_result",
          "data": {
            "text/plain": [
              "        actual          pred\n",
              "0         7285   7095.864454\n",
              "1         6221  12610.360547\n",
              "2         8132   9196.826368\n",
              "3        20916  11531.303907\n",
              "4         5472   6598.545118\n",
              "...        ...           ...\n",
              "203437    5650   6659.242383\n",
              "203438    5464   6523.273633\n",
              "203439    6191   6937.333204\n",
              "203440    5663   5998.891797\n",
              "203441    2698   4001.590040\n",
              "\n",
              "[203442 rows x 2 columns]"
            ],
            "text/html": [
              "\n",
              "  <div id=\"df-8b591d83-71a0-493b-8b36-e25ae90b139a\">\n",
              "    <div class=\"colab-df-container\">\n",
              "      <div>\n",
              "<style scoped>\n",
              "    .dataframe tbody tr th:only-of-type {\n",
              "        vertical-align: middle;\n",
              "    }\n",
              "\n",
              "    .dataframe tbody tr th {\n",
              "        vertical-align: top;\n",
              "    }\n",
              "\n",
              "    .dataframe thead th {\n",
              "        text-align: right;\n",
              "    }\n",
              "</style>\n",
              "<table border=\"1\" class=\"dataframe\">\n",
              "  <thead>\n",
              "    <tr style=\"text-align: right;\">\n",
              "      <th></th>\n",
              "      <th>actual</th>\n",
              "      <th>pred</th>\n",
              "    </tr>\n",
              "  </thead>\n",
              "  <tbody>\n",
              "    <tr>\n",
              "      <th>0</th>\n",
              "      <td>7285</td>\n",
              "      <td>7095.864454</td>\n",
              "    </tr>\n",
              "    <tr>\n",
              "      <th>1</th>\n",
              "      <td>6221</td>\n",
              "      <td>12610.360547</td>\n",
              "    </tr>\n",
              "    <tr>\n",
              "      <th>2</th>\n",
              "      <td>8132</td>\n",
              "      <td>9196.826368</td>\n",
              "    </tr>\n",
              "    <tr>\n",
              "      <th>3</th>\n",
              "      <td>20916</td>\n",
              "      <td>11531.303907</td>\n",
              "    </tr>\n",
              "    <tr>\n",
              "      <th>4</th>\n",
              "      <td>5472</td>\n",
              "      <td>6598.545118</td>\n",
              "    </tr>\n",
              "    <tr>\n",
              "      <th>...</th>\n",
              "      <td>...</td>\n",
              "      <td>...</td>\n",
              "    </tr>\n",
              "    <tr>\n",
              "      <th>203437</th>\n",
              "      <td>5650</td>\n",
              "      <td>6659.242383</td>\n",
              "    </tr>\n",
              "    <tr>\n",
              "      <th>203438</th>\n",
              "      <td>5464</td>\n",
              "      <td>6523.273633</td>\n",
              "    </tr>\n",
              "    <tr>\n",
              "      <th>203439</th>\n",
              "      <td>6191</td>\n",
              "      <td>6937.333204</td>\n",
              "    </tr>\n",
              "    <tr>\n",
              "      <th>203440</th>\n",
              "      <td>5663</td>\n",
              "      <td>5998.891797</td>\n",
              "    </tr>\n",
              "    <tr>\n",
              "      <th>203441</th>\n",
              "      <td>2698</td>\n",
              "      <td>4001.590040</td>\n",
              "    </tr>\n",
              "  </tbody>\n",
              "</table>\n",
              "<p>203442 rows × 2 columns</p>\n",
              "</div>\n",
              "      <button class=\"colab-df-convert\" onclick=\"convertToInteractive('df-8b591d83-71a0-493b-8b36-e25ae90b139a')\"\n",
              "              title=\"Convert this dataframe to an interactive table.\"\n",
              "              style=\"display:none;\">\n",
              "        \n",
              "  <svg xmlns=\"http://www.w3.org/2000/svg\" height=\"24px\"viewBox=\"0 0 24 24\"\n",
              "       width=\"24px\">\n",
              "    <path d=\"M0 0h24v24H0V0z\" fill=\"none\"/>\n",
              "    <path d=\"M18.56 5.44l.94 2.06.94-2.06 2.06-.94-2.06-.94-.94-2.06-.94 2.06-2.06.94zm-11 1L8.5 8.5l.94-2.06 2.06-.94-2.06-.94L8.5 2.5l-.94 2.06-2.06.94zm10 10l.94 2.06.94-2.06 2.06-.94-2.06-.94-.94-2.06-.94 2.06-2.06.94z\"/><path d=\"M17.41 7.96l-1.37-1.37c-.4-.4-.92-.59-1.43-.59-.52 0-1.04.2-1.43.59L10.3 9.45l-7.72 7.72c-.78.78-.78 2.05 0 2.83L4 21.41c.39.39.9.59 1.41.59.51 0 1.02-.2 1.41-.59l7.78-7.78 2.81-2.81c.8-.78.8-2.07 0-2.86zM5.41 20L4 18.59l7.72-7.72 1.47 1.35L5.41 20z\"/>\n",
              "  </svg>\n",
              "      </button>\n",
              "      \n",
              "  <style>\n",
              "    .colab-df-container {\n",
              "      display:flex;\n",
              "      flex-wrap:wrap;\n",
              "      gap: 12px;\n",
              "    }\n",
              "\n",
              "    .colab-df-convert {\n",
              "      background-color: #E8F0FE;\n",
              "      border: none;\n",
              "      border-radius: 50%;\n",
              "      cursor: pointer;\n",
              "      display: none;\n",
              "      fill: #1967D2;\n",
              "      height: 32px;\n",
              "      padding: 0 0 0 0;\n",
              "      width: 32px;\n",
              "    }\n",
              "\n",
              "    .colab-df-convert:hover {\n",
              "      background-color: #E2EBFA;\n",
              "      box-shadow: 0px 1px 2px rgba(60, 64, 67, 0.3), 0px 1px 3px 1px rgba(60, 64, 67, 0.15);\n",
              "      fill: #174EA6;\n",
              "    }\n",
              "\n",
              "    [theme=dark] .colab-df-convert {\n",
              "      background-color: #3B4455;\n",
              "      fill: #D2E3FC;\n",
              "    }\n",
              "\n",
              "    [theme=dark] .colab-df-convert:hover {\n",
              "      background-color: #434B5C;\n",
              "      box-shadow: 0px 1px 3px 1px rgba(0, 0, 0, 0.15);\n",
              "      filter: drop-shadow(0px 1px 2px rgba(0, 0, 0, 0.3));\n",
              "      fill: #FFFFFF;\n",
              "    }\n",
              "  </style>\n",
              "\n",
              "      <script>\n",
              "        const buttonEl =\n",
              "          document.querySelector('#df-8b591d83-71a0-493b-8b36-e25ae90b139a button.colab-df-convert');\n",
              "        buttonEl.style.display =\n",
              "          google.colab.kernel.accessAllowed ? 'block' : 'none';\n",
              "\n",
              "        async function convertToInteractive(key) {\n",
              "          const element = document.querySelector('#df-8b591d83-71a0-493b-8b36-e25ae90b139a');\n",
              "          const dataTable =\n",
              "            await google.colab.kernel.invokeFunction('convertToInteractive',\n",
              "                                                     [key], {});\n",
              "          if (!dataTable) return;\n",
              "\n",
              "          const docLinkHtml = 'Like what you see? Visit the ' +\n",
              "            '<a target=\"_blank\" href=https://colab.research.google.com/notebooks/data_table.ipynb>data table notebook</a>'\n",
              "            + ' to learn more about interactive tables.';\n",
              "          element.innerHTML = '';\n",
              "          dataTable['output_type'] = 'display_data';\n",
              "          await google.colab.output.renderOutput(dataTable, element);\n",
              "          const docLink = document.createElement('div');\n",
              "          docLink.innerHTML = docLinkHtml;\n",
              "          element.appendChild(docLink);\n",
              "        }\n",
              "      </script>\n",
              "    </div>\n",
              "  </div>\n",
              "  "
            ]
          },
          "metadata": {},
          "execution_count": 59
        }
      ]
    },
    {
      "cell_type": "code",
      "source": [
        "sales_mean = final[dep_var].mean()"
      ],
      "metadata": {
        "id": "Zmonnw96dprW"
      },
      "execution_count": null,
      "outputs": []
    },
    {
      "cell_type": "code",
      "source": [
        "from sklearn.metrics import mean_squared_error\n",
        "\n",
        "MSE = mean_squared_error(y_test, v_pred)\n",
        "print(\"MSE :\",MSE)\n",
        "\n",
        "RMSE = np.sqrt(MSE)\n",
        "print(\"RMSE :\", RMSE)\n",
        "\n",
        "RMPSE = RMSE/sales_mean\n",
        "print(\"RMPSE :\", RMPSE)\n",
        "\n",
        "r2 = r2_score(y_test, v_pred)\n",
        "print(\"R2 :\" ,r2)"
      ],
      "metadata": {
        "colab": {
          "base_uri": "https://localhost:8080/"
        },
        "id": "YRyFxNiCeBeA",
        "outputId": "040a1d74-1c7f-42da-ea3c-b727fbc0ea1e"
      },
      "execution_count": null,
      "outputs": [
        {
          "output_type": "stream",
          "name": "stdout",
          "text": [
            "MSE : 1944244.1244362446\n",
            "RMSE : 1394.3615472452777\n",
            "RMPSE : 0.2414972748424226\n",
            "R2 : 0.8684253362724308\n"
          ]
        }
      ]
    },
    {
      "cell_type": "markdown",
      "source": [
        "## **DECISION TREE**"
      ],
      "metadata": {
        "id": "PwyfCBJafTRR"
      }
    },
    {
      "cell_type": "code",
      "source": [
        "decision_tree = DecisionTreeRegressor(max_depth=5)\n",
        "decision_tree.fit(x_train, y_train)\n",
        "v_pred_dt = decision_tree.predict(x_test)\n",
        "y_train_dt = decision_tree.predict(x_train)\n",
        "# print('dt_regressor R^2: ', r2(y_test,v_pred_dt))\n",
        "MSE = mean_squared_error(y_test,v_pred_dt)\n",
        "print(\"MSE:\", MSE)\n",
        "\n",
        "RMSE = np.sqrt(MSE)\n",
        "print(\"RMSE :\" , RMSE)\n",
        "\n",
        "RMPSE = RMSE/sales_mean\n",
        "print(\"RMPSE :\", RMPSE)\n",
        "\n",
        "r2 = r2_score(y_test, v_pred_dt)\n",
        "print(\"R2 :\", r2)"
      ],
      "metadata": {
        "colab": {
          "base_uri": "https://localhost:8080/"
        },
        "id": "oc77n5H3fALo",
        "outputId": "6158dfc3-3fe4-4135-f682-60fad79237c7"
      },
      "execution_count": null,
      "outputs": [
        {
          "output_type": "stream",
          "name": "stdout",
          "text": [
            "MSE: 1938401.7013646904\n",
            "RMSE : 1392.2649537227785\n",
            "RMPSE : 0.24113415408429775\n",
            "R2 : 0.8688207160713626\n"
          ]
        }
      ]
    },
    {
      "cell_type": "code",
      "source": [
        "decisiontree_Dataframe = pd.DataFrame(zip(y_test,v_pred_dt), columns = ['actual','pred'])\n",
        "decisiontree_Dataframe"
      ],
      "metadata": {
        "colab": {
          "base_uri": "https://localhost:8080/",
          "height": 424
        },
        "id": "N9xY2MlyheXj",
        "outputId": "d60bc6a9-b429-4242-fefc-be907d63088a"
      },
      "execution_count": null,
      "outputs": [
        {
          "output_type": "execute_result",
          "data": {
            "text/plain": [
              "        actual          pred\n",
              "0         7285   6405.437098\n",
              "1         6221  10727.574980\n",
              "2         8132   9096.411096\n",
              "3        20916  11835.110635\n",
              "4         5472   5476.684725\n",
              "...        ...           ...\n",
              "203437    5650   5476.684725\n",
              "203438    5464   5476.684725\n",
              "203439    6191   8169.463222\n",
              "203440    5663   6405.437098\n",
              "203441    2698   2906.979142\n",
              "\n",
              "[203442 rows x 2 columns]"
            ],
            "text/html": [
              "\n",
              "  <div id=\"df-9880ca7c-63e5-4902-a083-da19c0ec27ad\">\n",
              "    <div class=\"colab-df-container\">\n",
              "      <div>\n",
              "<style scoped>\n",
              "    .dataframe tbody tr th:only-of-type {\n",
              "        vertical-align: middle;\n",
              "    }\n",
              "\n",
              "    .dataframe tbody tr th {\n",
              "        vertical-align: top;\n",
              "    }\n",
              "\n",
              "    .dataframe thead th {\n",
              "        text-align: right;\n",
              "    }\n",
              "</style>\n",
              "<table border=\"1\" class=\"dataframe\">\n",
              "  <thead>\n",
              "    <tr style=\"text-align: right;\">\n",
              "      <th></th>\n",
              "      <th>actual</th>\n",
              "      <th>pred</th>\n",
              "    </tr>\n",
              "  </thead>\n",
              "  <tbody>\n",
              "    <tr>\n",
              "      <th>0</th>\n",
              "      <td>7285</td>\n",
              "      <td>6405.437098</td>\n",
              "    </tr>\n",
              "    <tr>\n",
              "      <th>1</th>\n",
              "      <td>6221</td>\n",
              "      <td>10727.574980</td>\n",
              "    </tr>\n",
              "    <tr>\n",
              "      <th>2</th>\n",
              "      <td>8132</td>\n",
              "      <td>9096.411096</td>\n",
              "    </tr>\n",
              "    <tr>\n",
              "      <th>3</th>\n",
              "      <td>20916</td>\n",
              "      <td>11835.110635</td>\n",
              "    </tr>\n",
              "    <tr>\n",
              "      <th>4</th>\n",
              "      <td>5472</td>\n",
              "      <td>5476.684725</td>\n",
              "    </tr>\n",
              "    <tr>\n",
              "      <th>...</th>\n",
              "      <td>...</td>\n",
              "      <td>...</td>\n",
              "    </tr>\n",
              "    <tr>\n",
              "      <th>203437</th>\n",
              "      <td>5650</td>\n",
              "      <td>5476.684725</td>\n",
              "    </tr>\n",
              "    <tr>\n",
              "      <th>203438</th>\n",
              "      <td>5464</td>\n",
              "      <td>5476.684725</td>\n",
              "    </tr>\n",
              "    <tr>\n",
              "      <th>203439</th>\n",
              "      <td>6191</td>\n",
              "      <td>8169.463222</td>\n",
              "    </tr>\n",
              "    <tr>\n",
              "      <th>203440</th>\n",
              "      <td>5663</td>\n",
              "      <td>6405.437098</td>\n",
              "    </tr>\n",
              "    <tr>\n",
              "      <th>203441</th>\n",
              "      <td>2698</td>\n",
              "      <td>2906.979142</td>\n",
              "    </tr>\n",
              "  </tbody>\n",
              "</table>\n",
              "<p>203442 rows × 2 columns</p>\n",
              "</div>\n",
              "      <button class=\"colab-df-convert\" onclick=\"convertToInteractive('df-9880ca7c-63e5-4902-a083-da19c0ec27ad')\"\n",
              "              title=\"Convert this dataframe to an interactive table.\"\n",
              "              style=\"display:none;\">\n",
              "        \n",
              "  <svg xmlns=\"http://www.w3.org/2000/svg\" height=\"24px\"viewBox=\"0 0 24 24\"\n",
              "       width=\"24px\">\n",
              "    <path d=\"M0 0h24v24H0V0z\" fill=\"none\"/>\n",
              "    <path d=\"M18.56 5.44l.94 2.06.94-2.06 2.06-.94-2.06-.94-.94-2.06-.94 2.06-2.06.94zm-11 1L8.5 8.5l.94-2.06 2.06-.94-2.06-.94L8.5 2.5l-.94 2.06-2.06.94zm10 10l.94 2.06.94-2.06 2.06-.94-2.06-.94-.94-2.06-.94 2.06-2.06.94z\"/><path d=\"M17.41 7.96l-1.37-1.37c-.4-.4-.92-.59-1.43-.59-.52 0-1.04.2-1.43.59L10.3 9.45l-7.72 7.72c-.78.78-.78 2.05 0 2.83L4 21.41c.39.39.9.59 1.41.59.51 0 1.02-.2 1.41-.59l7.78-7.78 2.81-2.81c.8-.78.8-2.07 0-2.86zM5.41 20L4 18.59l7.72-7.72 1.47 1.35L5.41 20z\"/>\n",
              "  </svg>\n",
              "      </button>\n",
              "      \n",
              "  <style>\n",
              "    .colab-df-container {\n",
              "      display:flex;\n",
              "      flex-wrap:wrap;\n",
              "      gap: 12px;\n",
              "    }\n",
              "\n",
              "    .colab-df-convert {\n",
              "      background-color: #E8F0FE;\n",
              "      border: none;\n",
              "      border-radius: 50%;\n",
              "      cursor: pointer;\n",
              "      display: none;\n",
              "      fill: #1967D2;\n",
              "      height: 32px;\n",
              "      padding: 0 0 0 0;\n",
              "      width: 32px;\n",
              "    }\n",
              "\n",
              "    .colab-df-convert:hover {\n",
              "      background-color: #E2EBFA;\n",
              "      box-shadow: 0px 1px 2px rgba(60, 64, 67, 0.3), 0px 1px 3px 1px rgba(60, 64, 67, 0.15);\n",
              "      fill: #174EA6;\n",
              "    }\n",
              "\n",
              "    [theme=dark] .colab-df-convert {\n",
              "      background-color: #3B4455;\n",
              "      fill: #D2E3FC;\n",
              "    }\n",
              "\n",
              "    [theme=dark] .colab-df-convert:hover {\n",
              "      background-color: #434B5C;\n",
              "      box-shadow: 0px 1px 3px 1px rgba(0, 0, 0, 0.15);\n",
              "      filter: drop-shadow(0px 1px 2px rgba(0, 0, 0, 0.3));\n",
              "      fill: #FFFFFF;\n",
              "    }\n",
              "  </style>\n",
              "\n",
              "      <script>\n",
              "        const buttonEl =\n",
              "          document.querySelector('#df-9880ca7c-63e5-4902-a083-da19c0ec27ad button.colab-df-convert');\n",
              "        buttonEl.style.display =\n",
              "          google.colab.kernel.accessAllowed ? 'block' : 'none';\n",
              "\n",
              "        async function convertToInteractive(key) {\n",
              "          const element = document.querySelector('#df-9880ca7c-63e5-4902-a083-da19c0ec27ad');\n",
              "          const dataTable =\n",
              "            await google.colab.kernel.invokeFunction('convertToInteractive',\n",
              "                                                     [key], {});\n",
              "          if (!dataTable) return;\n",
              "\n",
              "          const docLinkHtml = 'Like what you see? Visit the ' +\n",
              "            '<a target=\"_blank\" href=https://colab.research.google.com/notebooks/data_table.ipynb>data table notebook</a>'\n",
              "            + ' to learn more about interactive tables.';\n",
              "          element.innerHTML = '';\n",
              "          dataTable['output_type'] = 'display_data';\n",
              "          await google.colab.output.renderOutput(dataTable, element);\n",
              "          const docLink = document.createElement('div');\n",
              "          docLink.innerHTML = docLinkHtml;\n",
              "          element.appendChild(docLink);\n",
              "        }\n",
              "      </script>\n",
              "    </div>\n",
              "  </div>\n",
              "  "
            ]
          },
          "metadata": {},
          "execution_count": 63
        }
      ]
    },
    {
      "cell_type": "markdown",
      "source": [
        "## **Random Forest Regression**"
      ],
      "metadata": {
        "id": "LYF8SD5NmNPb"
      }
    },
    {
      "cell_type": "code",
      "source": [
        "from numpy.random.mtrand import random\n",
        "random_forest = RandomForestRegressor(n_estimators = 20, max_depth=8)\n",
        "random_forest.fit(x_train,y_train)\n",
        "y_pred_rf = random_forest.predict(x_test)\n",
        "\n",
        "MSE = mean_squared_error(y_test, y_pred_rf)\n",
        "print(\"MSE :\", MSE)\n",
        "\n",
        "RMSE = np.sqrt(MSE)\n",
        "print(\"RMSE :\", RMSE)\n",
        "\n",
        "RMPSE = RMSE/sales_mean\n",
        "print(\"RMPSE :\", RMPSE)\n",
        "\n",
        "r2 = r2_score(y_test, y_pred_rf)\n",
        "print(\"R2 :\", r2)"
      ],
      "metadata": {
        "colab": {
          "base_uri": "https://localhost:8080/"
        },
        "id": "L_vAZ1TKmMjU",
        "outputId": "fe4adb53-cb71-4309-b35d-e0c02bc3de7a"
      },
      "execution_count": null,
      "outputs": [
        {
          "output_type": "stream",
          "name": "stdout",
          "text": [
            "MSE : 1126986.7377616037\n",
            "RMSE : 1061.596315819532\n",
            "RMPSE : 0.1838638033009921\n",
            "R2 : 0.9237323650961735\n"
          ]
        }
      ]
    },
    {
      "cell_type": "code",
      "source": [
        "rf_Dataframe = pd.DataFrame(zip(y_test, y_pred_rf), columns = ['actual', 'pred'])\n",
        "rf_Dataframe"
      ],
      "metadata": {
        "colab": {
          "base_uri": "https://localhost:8080/",
          "height": 424
        },
        "id": "zp31E-zCoQTF",
        "outputId": "12753c89-dedd-4029-a243-a784b0b2fc96"
      },
      "execution_count": null,
      "outputs": [
        {
          "output_type": "execute_result",
          "data": {
            "text/plain": [
              "        actual          pred\n",
              "0         7285   6974.414638\n",
              "1         6221  11012.578646\n",
              "2         8132   9273.776828\n",
              "3        20916  13494.733750\n",
              "4         5472   6051.497461\n",
              "...        ...           ...\n",
              "203437    5650   6442.099435\n",
              "203438    5464   5282.408072\n",
              "203439    6191   7498.874243\n",
              "203440    5663   6132.914639\n",
              "203441    2698   2601.356989\n",
              "\n",
              "[203442 rows x 2 columns]"
            ],
            "text/html": [
              "\n",
              "  <div id=\"df-b61c2bce-7cbf-43da-8067-cb28047f7932\">\n",
              "    <div class=\"colab-df-container\">\n",
              "      <div>\n",
              "<style scoped>\n",
              "    .dataframe tbody tr th:only-of-type {\n",
              "        vertical-align: middle;\n",
              "    }\n",
              "\n",
              "    .dataframe tbody tr th {\n",
              "        vertical-align: top;\n",
              "    }\n",
              "\n",
              "    .dataframe thead th {\n",
              "        text-align: right;\n",
              "    }\n",
              "</style>\n",
              "<table border=\"1\" class=\"dataframe\">\n",
              "  <thead>\n",
              "    <tr style=\"text-align: right;\">\n",
              "      <th></th>\n",
              "      <th>actual</th>\n",
              "      <th>pred</th>\n",
              "    </tr>\n",
              "  </thead>\n",
              "  <tbody>\n",
              "    <tr>\n",
              "      <th>0</th>\n",
              "      <td>7285</td>\n",
              "      <td>6974.414638</td>\n",
              "    </tr>\n",
              "    <tr>\n",
              "      <th>1</th>\n",
              "      <td>6221</td>\n",
              "      <td>11012.578646</td>\n",
              "    </tr>\n",
              "    <tr>\n",
              "      <th>2</th>\n",
              "      <td>8132</td>\n",
              "      <td>9273.776828</td>\n",
              "    </tr>\n",
              "    <tr>\n",
              "      <th>3</th>\n",
              "      <td>20916</td>\n",
              "      <td>13494.733750</td>\n",
              "    </tr>\n",
              "    <tr>\n",
              "      <th>4</th>\n",
              "      <td>5472</td>\n",
              "      <td>6051.497461</td>\n",
              "    </tr>\n",
              "    <tr>\n",
              "      <th>...</th>\n",
              "      <td>...</td>\n",
              "      <td>...</td>\n",
              "    </tr>\n",
              "    <tr>\n",
              "      <th>203437</th>\n",
              "      <td>5650</td>\n",
              "      <td>6442.099435</td>\n",
              "    </tr>\n",
              "    <tr>\n",
              "      <th>203438</th>\n",
              "      <td>5464</td>\n",
              "      <td>5282.408072</td>\n",
              "    </tr>\n",
              "    <tr>\n",
              "      <th>203439</th>\n",
              "      <td>6191</td>\n",
              "      <td>7498.874243</td>\n",
              "    </tr>\n",
              "    <tr>\n",
              "      <th>203440</th>\n",
              "      <td>5663</td>\n",
              "      <td>6132.914639</td>\n",
              "    </tr>\n",
              "    <tr>\n",
              "      <th>203441</th>\n",
              "      <td>2698</td>\n",
              "      <td>2601.356989</td>\n",
              "    </tr>\n",
              "  </tbody>\n",
              "</table>\n",
              "<p>203442 rows × 2 columns</p>\n",
              "</div>\n",
              "      <button class=\"colab-df-convert\" onclick=\"convertToInteractive('df-b61c2bce-7cbf-43da-8067-cb28047f7932')\"\n",
              "              title=\"Convert this dataframe to an interactive table.\"\n",
              "              style=\"display:none;\">\n",
              "        \n",
              "  <svg xmlns=\"http://www.w3.org/2000/svg\" height=\"24px\"viewBox=\"0 0 24 24\"\n",
              "       width=\"24px\">\n",
              "    <path d=\"M0 0h24v24H0V0z\" fill=\"none\"/>\n",
              "    <path d=\"M18.56 5.44l.94 2.06.94-2.06 2.06-.94-2.06-.94-.94-2.06-.94 2.06-2.06.94zm-11 1L8.5 8.5l.94-2.06 2.06-.94-2.06-.94L8.5 2.5l-.94 2.06-2.06.94zm10 10l.94 2.06.94-2.06 2.06-.94-2.06-.94-.94-2.06-.94 2.06-2.06.94z\"/><path d=\"M17.41 7.96l-1.37-1.37c-.4-.4-.92-.59-1.43-.59-.52 0-1.04.2-1.43.59L10.3 9.45l-7.72 7.72c-.78.78-.78 2.05 0 2.83L4 21.41c.39.39.9.59 1.41.59.51 0 1.02-.2 1.41-.59l7.78-7.78 2.81-2.81c.8-.78.8-2.07 0-2.86zM5.41 20L4 18.59l7.72-7.72 1.47 1.35L5.41 20z\"/>\n",
              "  </svg>\n",
              "      </button>\n",
              "      \n",
              "  <style>\n",
              "    .colab-df-container {\n",
              "      display:flex;\n",
              "      flex-wrap:wrap;\n",
              "      gap: 12px;\n",
              "    }\n",
              "\n",
              "    .colab-df-convert {\n",
              "      background-color: #E8F0FE;\n",
              "      border: none;\n",
              "      border-radius: 50%;\n",
              "      cursor: pointer;\n",
              "      display: none;\n",
              "      fill: #1967D2;\n",
              "      height: 32px;\n",
              "      padding: 0 0 0 0;\n",
              "      width: 32px;\n",
              "    }\n",
              "\n",
              "    .colab-df-convert:hover {\n",
              "      background-color: #E2EBFA;\n",
              "      box-shadow: 0px 1px 2px rgba(60, 64, 67, 0.3), 0px 1px 3px 1px rgba(60, 64, 67, 0.15);\n",
              "      fill: #174EA6;\n",
              "    }\n",
              "\n",
              "    [theme=dark] .colab-df-convert {\n",
              "      background-color: #3B4455;\n",
              "      fill: #D2E3FC;\n",
              "    }\n",
              "\n",
              "    [theme=dark] .colab-df-convert:hover {\n",
              "      background-color: #434B5C;\n",
              "      box-shadow: 0px 1px 3px 1px rgba(0, 0, 0, 0.15);\n",
              "      filter: drop-shadow(0px 1px 2px rgba(0, 0, 0, 0.3));\n",
              "      fill: #FFFFFF;\n",
              "    }\n",
              "  </style>\n",
              "\n",
              "      <script>\n",
              "        const buttonEl =\n",
              "          document.querySelector('#df-b61c2bce-7cbf-43da-8067-cb28047f7932 button.colab-df-convert');\n",
              "        buttonEl.style.display =\n",
              "          google.colab.kernel.accessAllowed ? 'block' : 'none';\n",
              "\n",
              "        async function convertToInteractive(key) {\n",
              "          const element = document.querySelector('#df-b61c2bce-7cbf-43da-8067-cb28047f7932');\n",
              "          const dataTable =\n",
              "            await google.colab.kernel.invokeFunction('convertToInteractive',\n",
              "                                                     [key], {});\n",
              "          if (!dataTable) return;\n",
              "\n",
              "          const docLinkHtml = 'Like what you see? Visit the ' +\n",
              "            '<a target=\"_blank\" href=https://colab.research.google.com/notebooks/data_table.ipynb>data table notebook</a>'\n",
              "            + ' to learn more about interactive tables.';\n",
              "          element.innerHTML = '';\n",
              "          dataTable['output_type'] = 'display_data';\n",
              "          await google.colab.output.renderOutput(dataTable, element);\n",
              "          const docLink = document.createElement('div');\n",
              "          docLink.innerHTML = docLinkHtml;\n",
              "          element.appendChild(docLink);\n",
              "        }\n",
              "      </script>\n",
              "    </div>\n",
              "  </div>\n",
              "  "
            ]
          },
          "metadata": {},
          "execution_count": 65
        }
      ]
    },
    {
      "cell_type": "markdown",
      "source": [
        "### **LASSO**"
      ],
      "metadata": {
        "id": "W2H3_2KBiLIL"
      }
    },
    {
      "cell_type": "code",
      "source": [
        "lasso = Lasso(alpha =2.0)"
      ],
      "metadata": {
        "id": "Co2zHy4uh385"
      },
      "execution_count": null,
      "outputs": []
    },
    {
      "cell_type": "code",
      "source": [
        "lasso.fit(x_train,y_train)"
      ],
      "metadata": {
        "colab": {
          "base_uri": "https://localhost:8080/"
        },
        "id": "7Ostar9HiVCZ",
        "outputId": "09189a4e-7764-45b2-ead5-d5cc4701e001"
      },
      "execution_count": null,
      "outputs": [
        {
          "output_type": "execute_result",
          "data": {
            "text/plain": [
              "Lasso(alpha=2.0)"
            ]
          },
          "metadata": {},
          "execution_count": 70
        }
      ]
    },
    {
      "cell_type": "code",
      "source": [
        "v_pred_lasso = lasso.predict(x_test)"
      ],
      "metadata": {
        "id": "6re0FAXFifIp"
      },
      "execution_count": null,
      "outputs": []
    },
    {
      "cell_type": "code",
      "source": [
        "lasso.score(x_train, y_train)"
      ],
      "metadata": {
        "colab": {
          "base_uri": "https://localhost:8080/"
        },
        "id": "Py3acpi-imuo",
        "outputId": "2538ce57-882e-4af8-d178-892339e805c3"
      },
      "execution_count": null,
      "outputs": [
        {
          "output_type": "execute_result",
          "data": {
            "text/plain": [
              "0.8677953509133682"
            ]
          },
          "metadata": {},
          "execution_count": 72
        }
      ]
    },
    {
      "cell_type": "code",
      "source": [
        "pd.DataFrame(zip(x_test, v_pred_lasso), columns = ['actual', 'pred'])"
      ],
      "metadata": {
        "colab": {
          "base_uri": "https://localhost:8080/",
          "height": 424
        },
        "id": "ZJhTKQg9ityO",
        "outputId": "5eedb764-8e5a-403d-dc81-ca573580980c"
      },
      "execution_count": null,
      "outputs": [
        {
          "output_type": "execute_result",
          "data": {
            "text/plain": [
              "                                                   actual          pred\n",
              "0       [0.5015984355647561, 0.6924901593748323, 0.452...   7105.291832\n",
              "1       [-0.4997637200086328, 2.0005875871801724, 0.45...  12604.614268\n",
              "2       [-1.5011258755820216, 1.0195145163261672, 0.45...   9189.398352\n",
              "3       [-1.5011258755820216, 1.08190732127083, 0.4526...  11506.763771\n",
              "4       [-1.5011258755820216, -0.0583749759936934, 0.4...   6590.279187\n",
              "...                                                   ...           ...\n",
              "203437  [-0.4997637200086328, -0.04761759583082054, 0....   6647.445977\n",
              "203438  [-1.5011258755820216, -0.15519139745954916, 0....   6514.346897\n",
              "203439  [-0.4997637200086328, 0.18474181568723325, 0.4...   6930.742397\n",
              "203440  [-1.5011258755820216, 0.32458775780458043, 0.4...   6003.887536\n",
              "203441  [1.502960591138145, -0.7898768270690479, 0.452...   3995.710954\n",
              "\n",
              "[203442 rows x 2 columns]"
            ],
            "text/html": [
              "\n",
              "  <div id=\"df-9c345495-8e2e-4246-b42f-44888bdeeaa4\">\n",
              "    <div class=\"colab-df-container\">\n",
              "      <div>\n",
              "<style scoped>\n",
              "    .dataframe tbody tr th:only-of-type {\n",
              "        vertical-align: middle;\n",
              "    }\n",
              "\n",
              "    .dataframe tbody tr th {\n",
              "        vertical-align: top;\n",
              "    }\n",
              "\n",
              "    .dataframe thead th {\n",
              "        text-align: right;\n",
              "    }\n",
              "</style>\n",
              "<table border=\"1\" class=\"dataframe\">\n",
              "  <thead>\n",
              "    <tr style=\"text-align: right;\">\n",
              "      <th></th>\n",
              "      <th>actual</th>\n",
              "      <th>pred</th>\n",
              "    </tr>\n",
              "  </thead>\n",
              "  <tbody>\n",
              "    <tr>\n",
              "      <th>0</th>\n",
              "      <td>[0.5015984355647561, 0.6924901593748323, 0.452...</td>\n",
              "      <td>7105.291832</td>\n",
              "    </tr>\n",
              "    <tr>\n",
              "      <th>1</th>\n",
              "      <td>[-0.4997637200086328, 2.0005875871801724, 0.45...</td>\n",
              "      <td>12604.614268</td>\n",
              "    </tr>\n",
              "    <tr>\n",
              "      <th>2</th>\n",
              "      <td>[-1.5011258755820216, 1.0195145163261672, 0.45...</td>\n",
              "      <td>9189.398352</td>\n",
              "    </tr>\n",
              "    <tr>\n",
              "      <th>3</th>\n",
              "      <td>[-1.5011258755820216, 1.08190732127083, 0.4526...</td>\n",
              "      <td>11506.763771</td>\n",
              "    </tr>\n",
              "    <tr>\n",
              "      <th>4</th>\n",
              "      <td>[-1.5011258755820216, -0.0583749759936934, 0.4...</td>\n",
              "      <td>6590.279187</td>\n",
              "    </tr>\n",
              "    <tr>\n",
              "      <th>...</th>\n",
              "      <td>...</td>\n",
              "      <td>...</td>\n",
              "    </tr>\n",
              "    <tr>\n",
              "      <th>203437</th>\n",
              "      <td>[-0.4997637200086328, -0.04761759583082054, 0....</td>\n",
              "      <td>6647.445977</td>\n",
              "    </tr>\n",
              "    <tr>\n",
              "      <th>203438</th>\n",
              "      <td>[-1.5011258755820216, -0.15519139745954916, 0....</td>\n",
              "      <td>6514.346897</td>\n",
              "    </tr>\n",
              "    <tr>\n",
              "      <th>203439</th>\n",
              "      <td>[-0.4997637200086328, 0.18474181568723325, 0.4...</td>\n",
              "      <td>6930.742397</td>\n",
              "    </tr>\n",
              "    <tr>\n",
              "      <th>203440</th>\n",
              "      <td>[-1.5011258755820216, 0.32458775780458043, 0.4...</td>\n",
              "      <td>6003.887536</td>\n",
              "    </tr>\n",
              "    <tr>\n",
              "      <th>203441</th>\n",
              "      <td>[1.502960591138145, -0.7898768270690479, 0.452...</td>\n",
              "      <td>3995.710954</td>\n",
              "    </tr>\n",
              "  </tbody>\n",
              "</table>\n",
              "<p>203442 rows × 2 columns</p>\n",
              "</div>\n",
              "      <button class=\"colab-df-convert\" onclick=\"convertToInteractive('df-9c345495-8e2e-4246-b42f-44888bdeeaa4')\"\n",
              "              title=\"Convert this dataframe to an interactive table.\"\n",
              "              style=\"display:none;\">\n",
              "        \n",
              "  <svg xmlns=\"http://www.w3.org/2000/svg\" height=\"24px\"viewBox=\"0 0 24 24\"\n",
              "       width=\"24px\">\n",
              "    <path d=\"M0 0h24v24H0V0z\" fill=\"none\"/>\n",
              "    <path d=\"M18.56 5.44l.94 2.06.94-2.06 2.06-.94-2.06-.94-.94-2.06-.94 2.06-2.06.94zm-11 1L8.5 8.5l.94-2.06 2.06-.94-2.06-.94L8.5 2.5l-.94 2.06-2.06.94zm10 10l.94 2.06.94-2.06 2.06-.94-2.06-.94-.94-2.06-.94 2.06-2.06.94z\"/><path d=\"M17.41 7.96l-1.37-1.37c-.4-.4-.92-.59-1.43-.59-.52 0-1.04.2-1.43.59L10.3 9.45l-7.72 7.72c-.78.78-.78 2.05 0 2.83L4 21.41c.39.39.9.59 1.41.59.51 0 1.02-.2 1.41-.59l7.78-7.78 2.81-2.81c.8-.78.8-2.07 0-2.86zM5.41 20L4 18.59l7.72-7.72 1.47 1.35L5.41 20z\"/>\n",
              "  </svg>\n",
              "      </button>\n",
              "      \n",
              "  <style>\n",
              "    .colab-df-container {\n",
              "      display:flex;\n",
              "      flex-wrap:wrap;\n",
              "      gap: 12px;\n",
              "    }\n",
              "\n",
              "    .colab-df-convert {\n",
              "      background-color: #E8F0FE;\n",
              "      border: none;\n",
              "      border-radius: 50%;\n",
              "      cursor: pointer;\n",
              "      display: none;\n",
              "      fill: #1967D2;\n",
              "      height: 32px;\n",
              "      padding: 0 0 0 0;\n",
              "      width: 32px;\n",
              "    }\n",
              "\n",
              "    .colab-df-convert:hover {\n",
              "      background-color: #E2EBFA;\n",
              "      box-shadow: 0px 1px 2px rgba(60, 64, 67, 0.3), 0px 1px 3px 1px rgba(60, 64, 67, 0.15);\n",
              "      fill: #174EA6;\n",
              "    }\n",
              "\n",
              "    [theme=dark] .colab-df-convert {\n",
              "      background-color: #3B4455;\n",
              "      fill: #D2E3FC;\n",
              "    }\n",
              "\n",
              "    [theme=dark] .colab-df-convert:hover {\n",
              "      background-color: #434B5C;\n",
              "      box-shadow: 0px 1px 3px 1px rgba(0, 0, 0, 0.15);\n",
              "      filter: drop-shadow(0px 1px 2px rgba(0, 0, 0, 0.3));\n",
              "      fill: #FFFFFF;\n",
              "    }\n",
              "  </style>\n",
              "\n",
              "      <script>\n",
              "        const buttonEl =\n",
              "          document.querySelector('#df-9c345495-8e2e-4246-b42f-44888bdeeaa4 button.colab-df-convert');\n",
              "        buttonEl.style.display =\n",
              "          google.colab.kernel.accessAllowed ? 'block' : 'none';\n",
              "\n",
              "        async function convertToInteractive(key) {\n",
              "          const element = document.querySelector('#df-9c345495-8e2e-4246-b42f-44888bdeeaa4');\n",
              "          const dataTable =\n",
              "            await google.colab.kernel.invokeFunction('convertToInteractive',\n",
              "                                                     [key], {});\n",
              "          if (!dataTable) return;\n",
              "\n",
              "          const docLinkHtml = 'Like what you see? Visit the ' +\n",
              "            '<a target=\"_blank\" href=https://colab.research.google.com/notebooks/data_table.ipynb>data table notebook</a>'\n",
              "            + ' to learn more about interactive tables.';\n",
              "          element.innerHTML = '';\n",
              "          dataTable['output_type'] = 'display_data';\n",
              "          await google.colab.output.renderOutput(dataTable, element);\n",
              "          const docLink = document.createElement('div');\n",
              "          docLink.innerHTML = docLinkHtml;\n",
              "          element.appendChild(docLink);\n",
              "        }\n",
              "      </script>\n",
              "    </div>\n",
              "  </div>\n",
              "  "
            ]
          },
          "metadata": {},
          "execution_count": 73
        }
      ]
    },
    {
      "cell_type": "markdown",
      "source": [
        "### **RIDGE**"
      ],
      "metadata": {
        "id": "kdHDEIY1i9GV"
      }
    },
    {
      "cell_type": "code",
      "source": [
        "ridge = Ridge(alpha = 0.5)\n"
      ],
      "metadata": {
        "id": "tL3bkE4Ji7qo"
      },
      "execution_count": null,
      "outputs": []
    },
    {
      "cell_type": "code",
      "source": [
        "ridge.fit(x_train, y_train)"
      ],
      "metadata": {
        "colab": {
          "base_uri": "https://localhost:8080/"
        },
        "id": "LxQ2TX7ijdHp",
        "outputId": "a630282c-4216-4646-bb9b-a3a57fb27f9b"
      },
      "execution_count": null,
      "outputs": [
        {
          "output_type": "execute_result",
          "data": {
            "text/plain": [
              "Ridge(alpha=0.5)"
            ]
          },
          "metadata": {},
          "execution_count": 75
        }
      ]
    },
    {
      "cell_type": "code",
      "source": [
        "v_pred_rid = ridge.predict(x_test)"
      ],
      "metadata": {
        "id": "x8gFoaQ5jkxo"
      },
      "execution_count": null,
      "outputs": []
    },
    {
      "cell_type": "code",
      "source": [
        "ridge.score(x_test, y_test)"
      ],
      "metadata": {
        "colab": {
          "base_uri": "https://localhost:8080/"
        },
        "id": "yXp1JMLCjrtz",
        "outputId": "eea49ff8-52ed-4ae7-fb71-b3fffdaba2e5"
      },
      "execution_count": null,
      "outputs": [
        {
          "output_type": "execute_result",
          "data": {
            "text/plain": [
              "0.8684254430035201"
            ]
          },
          "metadata": {},
          "execution_count": 77
        }
      ]
    },
    {
      "cell_type": "code",
      "source": [
        "MSE = mean_squared_error(y_test, v_pred_rid)\n",
        "print(\"MSE :\" , MSE)\n",
        "\n",
        "RMSE = np.sqrt(MSE)\n",
        "print(\"RMSE :\" , RMSE)\n",
        "\n",
        "RMPSE = RMSE/sales_mean\n",
        "print(\"RMPSE :\", RMPSE)\n",
        "\n",
        "r2 = r2_score(y_test, v_pred_rid)\n",
        "print(\"R2 :\" , r2)"
      ],
      "metadata": {
        "colab": {
          "base_uri": "https://localhost:8080/"
        },
        "id": "PyTqpgM2jxk3",
        "outputId": "3c079e31-187d-4bb2-9c5e-40f44d8fd6f5"
      },
      "execution_count": null,
      "outputs": [
        {
          "output_type": "stream",
          "name": "stdout",
          "text": [
            "MSE : 1944242.5472990717\n",
            "RMSE : 1394.3609817041897\n",
            "RMPSE : 0.24149717689319855\n",
            "R2 : 0.8684254430035201\n"
          ]
        }
      ]
    },
    {
      "cell_type": "markdown",
      "source": [
        "## **Conclusion From Model Training**\n",
        "\n",
        "\n",
        "We were also curious about the total dataset (including sales= 0 rows). So we trained model using various algorithns and we got accuracy near about 92%.\n",
        "\n",
        "We came to conclusion that removing sales= 0 rows actually removes lot of information from dataset as it has 172817 rows which is large and therefore we decided not to remove those values. We got our best RMPSE score from Random Forest model, we tried taking an optimum parameter so that our model doesn't overfit.\n",
        "\n",
        "# **Conclution from EDA**\n",
        "\n",
        "1) From plot sales competition open since month shows sales increasing from november and highest in month december.\n",
        "\n",
        "2) From plot sales and a day of week, sales highest on monday and start declining from tuesday to saturday and on sundaysales almost near to zero.\n",
        "\n",
        "3) Plot between promotion and sales shows that promotion helps in increasing sales.\n",
        "\n",
        "4) Type of store place an important role in opening pattern of stores.\n",
        "\n",
        "5) All type 'b' stores never closed except for refurbishment  or other reason.\n",
        "\n",
        "6) All type 'b' stores have comparitivly higher sales and it mostly constant  with peaks appears on week ends.\n",
        "\n",
        "7) Assortment level 'b' is only offered at store tybe 'b'.\n",
        "\n",
        "8) We can observe that most of the stores remained closed during state holidays but it is interesting to note that the number of stores opened during school holidays were more than that were opened during state holidays. "
      ],
      "metadata": {
        "id": "-BZP84s_lAA1"
      }
    },
    {
      "cell_type": "code",
      "source": [],
      "metadata": {
        "id": "-k2r0cetkvlE"
      },
      "execution_count": null,
      "outputs": []
    }
  ]
}